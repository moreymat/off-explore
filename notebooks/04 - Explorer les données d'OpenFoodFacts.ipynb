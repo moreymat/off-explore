{
 "cells": [
  {
   "cell_type": "markdown",
   "metadata": {},
   "source": [
    "# Explorer les données d'Open Food Facts\n",
    "\n",
    "Nous allons explorer le jeu de données d'Open Food Facts, filtré dans le notebook précédent pour ne conserver que\n",
    "\n",
    "* les fiches de produits vendus en France,\n",
    "* les champs utilisables,\n",
    "* les fiches contenant un nom de produit et une marque,\n",
    "* les fiches marquées \"complètes\".\n",
    "\n",
    "L'application successive de ces filtres nous permet d'explorer un sous-ensemble du jeu de données de départ:\n",
    "XXXX fiches avec XXX champs sélectionnées parmi X.X millions de fiches avec XXX champs."
   ]
  },
  {
   "cell_type": "code",
   "execution_count": 2,
   "metadata": {
    "tags": []
   },
   "outputs": [],
   "source": [
    "import numpy as np\n",
    "import pandas as pd\n",
    "import matplotlib.pyplot as plt\n",
    "import seaborn as sns\n",
    "sns.set()"
   ]
  },
  {
   "cell_type": "code",
   "execution_count": 3,
   "metadata": {
    "tags": []
   },
   "outputs": [],
   "source": [
    "# modifier le chemin vers le fichier CSV si nécessaire\n",
    "# ici on utilise le fichier filtré dans le notebook précédent\n",
    "CSV_FILE = '../data/off_subset.csv'"
   ]
  },
  {
   "cell_type": "code",
   "execution_count": 4,
   "metadata": {},
   "outputs": [],
   "source": [
    "# on charge les types de données qu'on a spécifiés dans le notebook 1\n",
    "DTYPE_FILE = '../data/dtype.txt'\n",
    "with open(DTYPE_FILE) as f:\n",
    "    dtype = eval(f.read())"
   ]
  },
  {
   "cell_type": "code",
   "execution_count": 5,
   "metadata": {},
   "outputs": [
    {
     "name": "stderr",
     "output_type": "stream",
     "text": [
      "/home/mathieu/miniconda3/envs/off-explore/lib/python3.8/site-packages/IPython/core/interactiveshell.py:3444: DtypeWarning: Columns (0) have mixed types.Specify dtype option on import or set low_memory=False.\n",
      "  exec(code_obj, self.user_global_ns, self.user_ns)\n"
     ]
    }
   ],
   "source": [
    "# TODO charger les données\n",
    "df = pd.read_csv(CSV_FILE, sep='\\t', encoding='utf-8')"
   ]
  },
  {
   "cell_type": "markdown",
   "metadata": {
    "tags": []
   },
   "source": [
    "## Analyse exploratoire par datavisualisation\n",
    "\n",
    "L'analyse de données exploratoire repose crucialement sur la visualisation des données.\n",
    "Les datavisualisations permettent d'embrasser le contenu d'un jeu de données par facettes, de mettre en évidence des tendances, des régularités, des corrélations...\n",
    "\n",
    "Votre tâche est maintenant de produire un ensemble de visualisations de notre sous-ensemble d'Open Food Facts.\n",
    "Vous devez produire des visualisations qui vous permettent de former des hypothèses, de mettre en évidence des phénomènes, de confirmer des intuitions...\n",
    "\n",
    "Les visualisations peuvent porter sur des variables considérées isolément ou sur des paires (ou des triplets) de variables.\n",
    "La quantité de données rend particulièrement intéressantes les visualisations produites en parallèle sur plusieurs groupes ou familles de produits.\n",
    "\n",
    "Vous pouvez utiliser matplotlib et seaborn, en vous inspirant de la [gallerie d'exemples de seaborn](https://seaborn.pydata.org/examples/index.html), du tutorial par exemple sur les [visualisations par facettes](https://seaborn.pydata.org/tutorial/relational.html#showing-multiple-relationships-with-facets) ou d'un exemple de [visualisation 3d avec matplotlib](https://scikit-learn.org/stable/auto_examples/datasets/plot_iris_dataset.html)."
   ]
  },
  {
   "cell_type": "code",
   "execution_count": 30,
   "metadata": {
    "tags": []
   },
   "outputs": [],
   "source": [
    "# TODO"
   ]
  },
  {
   "cell_type": "markdown",
   "metadata": {
    "tags": []
   },
   "source": [
    "Vous pouvez même générer des visualisations 3d interactives avec Jupyterlab et matplotlib si vous installez l'extension [jupyter-matplotlib](https://github.com/matplotlib/ipympl) (cf. https://stackoverflow.com/a/56416229/14201886 )."
   ]
  },
  {
   "cell_type": "code",
   "execution_count": 31,
   "metadata": {
    "tags": []
   },
   "outputs": [],
   "source": [
    "# TODO (optionnel)"
   ]
  },
  {
   "cell_type": "markdown",
   "metadata": {},
   "source": [
    "## Bonus : Données géographiques\n",
    "\n",
    "Le champ `first_packaging_code_geo` d'OpenFoodFacts contient des coordonnées géographiques.\n",
    "\n",
    "Il est donc possible de dessiner une carte avec `geopandas`:\n",
    "https://geopandas.readthedocs.io/en/latest/gallery/create_geopandas_from_pandas.html"
   ]
  },
  {
   "cell_type": "code",
   "execution_count": 32,
   "metadata": {},
   "outputs": [],
   "source": [
    "# TODO dessiner une carte à partir de first_packaging_code_geo\n",
    "# df_off[[\"fp_lat\",\"fp_lon\"]] = df_off[\"first_packaging_code_geo\"].str.split(\",\", 1, expand=True)\n",
    "# df_off.fp_lat = round(df_off.fp_lat.astype(float), 2)\n",
    "# df_off.fp_lon = round(df_off.fp_lon.astype(float), 2)\n",
    "# df_off = df_off.drop(columns=[\"first_packaging_code_geo\"])\n",
    "# TODO continue..."
   ]
  }
 ],
 "metadata": {
  "kernelspec": {
   "display_name": "Python 3 (ipykernel)",
   "language": "python",
   "name": "python3"
  },
  "language_info": {
   "codemirror_mode": {
    "name": "ipython",
    "version": 3
   },
   "file_extension": ".py",
   "mimetype": "text/x-python",
   "name": "python",
   "nbconvert_exporter": "python",
   "pygments_lexer": "ipython3",
   "version": "3.8.12"
  }
 },
 "nbformat": 4,
 "nbformat_minor": 4
}
