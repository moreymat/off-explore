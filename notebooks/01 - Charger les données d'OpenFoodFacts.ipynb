{
 "cells": [
  {
   "cell_type": "markdown",
   "metadata": {},
   "source": [
    "# Charger les données d'OpenFoodFacts"
   ]
  },
  {
   "cell_type": "markdown",
   "metadata": {},
   "source": [
    "La base OpenFoodFacts est disponible sous différents formats, dont un export au format CSV que vous avez téléchargé et sur lequel nous allons travailler.\n",
    "\n",
    "## Documentation\n",
    "Avant de commencer à travailler sur les données, il est impératif de parcourir sa documentation.\n",
    "Cette dernière fournit les informations sur le format, indispensables au chargement des données, et sur le contenu, indispensables à la compréhension des données.\n",
    "\n",
    "La base de données OpenFoodFacts est essentiellement décrite sur [cette page](https://fr-en.openfoodfacts.org/data), un fichier texte fournit la [description des champs](https://static.openfoodfacts.org/data/data-fields.txt)."
   ]
  },
  {
   "cell_type": "markdown",
   "metadata": {},
   "source": [
    "### Format des données\n",
    "Si nous appelions naïvement `pandas.read_csv()` avec ses paramètres par défaut, pour charger un fichier aussi gros que le CSV d'OpenFoodFacts (3.1 Go au 2020-12-15), il y a de grandes chances que les choses tournent mal et que pandas remplisse la mémoire de votre machine avant de crasher.\n",
    "C'est la conséquence du fait que [le format de fichier CSV n'est pas complètement standardisé](https://en.wikipedia.org/wiki/Comma-separated_values).\n",
    "Le format CSV est plutôt un terme parapluie pour une famille de formats de données à plat, sous forme tabulaire.\n",
    "\n",
    "La documentation de [read_csv](https://pandas.pydata.org/pandas-docs/stable/reference/api/pandas.read_csv.html) et sa liste de paramètres donnent une vision large des principales variantes du format, telles que le choix du caractère utilisé pour séparateur de champs (ou délimiteur), si les noms de colonnes sont écrits sur une ou plusieurs lignes au début du fichier, comment gérer et interpréter les lignes vides, comment gérer et interpréter les éléments entre guillemets, etc.\n",
    "`read_csv` essaie d'être malin et d'inférer certaines de ces propriétés mais il n'y parvient pas toujours, donc vous devrez le guider et lui fournir les bons paramètres pour votre fichier.\n",
    "\n",
    "Vous pouvez généralement trouver des informations sur le format et le contenu de votre jeu de données :\n",
    "* en lisant sa documentation ;\n",
    "* en exécutant des utilitaires comme [csvkit](https://csvkit.readthedocs.io/en/latest/) ;\n",
    "* en visualisant le contenu avec un simple programme de visualisation page par page comme [less](https://fr.wikipedia.org/wiki/Less_(Unix)), qui reste très efficace et utile sur les gros fichiers."
   ]
  },
  {
   "cell_type": "markdown",
   "metadata": {},
   "source": [
    "Pour le fichier CSV d'OpenFoodFacts :\n",
    "* Quel est l'encodage du fichier ?"
   ]
  },
  {
   "cell_type": "markdown",
   "metadata": {},
   "source": []
  },
  {
   "cell_type": "markdown",
   "metadata": {},
   "source": [
    "* Quel est le caractère utilisé comme séparateur de champs ?"
   ]
  },
  {
   "cell_type": "markdown",
   "metadata": {},
   "source": []
  },
  {
   "cell_type": "markdown",
   "metadata": {},
   "source": [
    "* Y a-t-il une ou plusieurs lignes d'en-tête (avec les intitulés des colonnes) ?"
   ]
  },
  {
   "cell_type": "markdown",
   "metadata": {},
   "source": []
  },
  {
   "cell_type": "markdown",
   "metadata": {},
   "source": [
    "Quels paramètres devez-vous spécifier à `read_csv` pour charger les données d'OpenFoodFacts ?"
   ]
  },
  {
   "cell_type": "markdown",
   "metadata": {},
   "source": []
  },
  {
   "cell_type": "markdown",
   "metadata": {},
   "source": [
    "## Chargement du jeu de données par tranches\n",
    "Nous allons commencer par ne charger que les 1000 premières lignes du fichier, afin de jeter un premier coup d'œil au jeu de données et de vérifier son occupation mémoire.\n",
    "Ensuite, nous lirons les 5000 premières lignes, puis les 25000 premières lignes, en suivant l'occupation mémoire en fonction du nombre de lignes.\n",
    "Nous ferons ensuite un calcul à la louche afin d'estimer les besoins en mémoire pour charger le jeu de données complet.\n",
    "C'est sur la base de cette estimation que nous déterminerons les optimisations nécessaires au chargement de tout le jeu de données ou de tout le sous-ensemble qui nous intéresse."
   ]
  },
  {
   "cell_type": "code",
   "execution_count": 11,
   "metadata": {},
   "outputs": [],
   "source": [
    "import pandas as pd\n",
    "# pour les graphes\n",
    "import seaborn as sns\n",
    "sns.set()"
   ]
  },
  {
   "cell_type": "code",
   "execution_count": 28,
   "metadata": {},
   "outputs": [],
   "source": [
    "# TODO modifier le chemin vers le fichier CSV si nécessaire\n",
    "CSV_FILE = '../data/en.openfoodfacts.org.products.csv'"
   ]
  },
  {
   "cell_type": "code",
   "execution_count": 24,
   "metadata": {},
   "outputs": [],
   "source": [
    "# lire les 1000 premières lignes\n",
    "\n",
    "# afficher les 5 premières lignes pour vérifier que la lecture est ok\n"
   ]
  },
  {
   "cell_type": "markdown",
   "metadata": {},
   "source": [
    "Examinons maintenant l'occupation mémoire avec [info()](https://pandas.pydata.org/pandas-docs/stable/reference/api/pandas.DataFrame.info.html).\n",
    "\n",
    "Par défaut, `info()` renvoie un calcul *superficiel* de l'occupation mémoire.\n",
    "Vous devrez spécifier `memory_usage='deep'` pour déclencher une introspection en mémoire plus profonde qui renvoie une estimation plus juste de l'occupation mémoire."
   ]
  },
  {
   "cell_type": "code",
   "execution_count": 25,
   "metadata": {},
   "outputs": [],
   "source": [
    "# TODO"
   ]
  },
  {
   "cell_type": "markdown",
   "metadata": {},
   "source": [
    "Combien de lignes et de colonnes le DataFrame contient-il?"
   ]
  },
  {
   "cell_type": "code",
   "execution_count": 26,
   "metadata": {},
   "outputs": [],
   "source": [
    "# TODO"
   ]
  },
  {
   "cell_type": "markdown",
   "metadata": {},
   "source": [
    "Chargez maintenant les 5000 premières lignes du fichier et notez l'occupation mémoire."
   ]
  },
  {
   "cell_type": "code",
   "execution_count": null,
   "metadata": {},
   "outputs": [],
   "source": [
    "# lire les données (5000 lignes) et calculer l'occupation mémoire\n"
   ]
  },
  {
   "cell_type": "markdown",
   "metadata": {},
   "source": [
    "Chargez maintenant les 25000 premières lignes du fichier et notez l'occupation mémoire."
   ]
  },
  {
   "cell_type": "code",
   "execution_count": null,
   "metadata": {},
   "outputs": [],
   "source": []
  },
  {
   "cell_type": "markdown",
   "metadata": {},
   "source": [
    "Pouvez-vous observer une tendance dans l'occupation mémoire? De combien de mémoire auriez-vous besoin pour charger 1.5 million d'entrées ?"
   ]
  },
  {
   "cell_type": "markdown",
   "metadata": {},
   "source": []
  },
  {
   "cell_type": "markdown",
   "metadata": {},
   "source": [
    "## Comment diminuer l'occupation mémoire?"
   ]
  },
  {
   "cell_type": "markdown",
   "metadata": {},
   "source": [
    "### 1. Ne charger que les colonnes d'intérêt pour l'analyse\n",
    "`read_csv` accepte un paramètre qui permet de spécifier le sous-ensemble de colonnes que l'on veut charger. Les valeurs des autres colonnes sont jetées immédiatement après avoir été lues, ce qui réduit directement l'occupation mémoire.\n",
    "Cela semble être une bonne première stratégie pour réduire l'occupation mémoire."
   ]
  },
  {
   "cell_type": "markdown",
   "metadata": {},
   "source": [
    "Il est souvent plus facile de déterminer les colonnes que nous ne *voulons pas conserver*.\n",
    "Ces colonnes appartiennent à deux catégories :\n",
    "* les colonnes qui ne sont pas directement utiles pour notre but premier, qui est d'analyser les valeurs nutritionnelles, telles que les colonnes contenant des métadonnées de l'entrée dans la base de données (creator, last_modified_t, etc), les lieux de fabrication du produit, le lieu d'achat etc ;\n",
    "* les colonnes qui sont complètement, ou presque complètement, vides, et qui ne pourront pas contribuer beaucoup à l'analyse.\n",
    "\n",
    "Il est probable que beaucoup de colonnes d'OpenFoodFacts appartiennent à la deuxième catégorie parce que le schéma de la base de données contient de nombreuses colonnes portant sur des données dont l'affichage n'est pas obligatoire sur les emballages, ou des données qui sont plus difficiles à collecter."
   ]
  },
  {
   "cell_type": "markdown",
   "metadata": {},
   "source": [
    "Nous allons vérifier la proportion de cases vides dans chaque colonne avec la fonction [`info`](https://pandas.pydata.org/pandas-docs/stable/reference/api/pandas.DataFrame.info.html).\n",
    "Comme il y a beaucoup de colonnes, `info` n'affiche par défaut qu'un sommaire minimaliste.\n",
    "Nous devons spécifier les bons paramètres pour obtenir l'affichage de la liste complète contenant le nom, le type et le nombre de valeurs non-nulles de chaque colonne."
   ]
  },
  {
   "cell_type": "code",
   "execution_count": 27,
   "metadata": {},
   "outputs": [],
   "source": [
    "# afficher le type de données et le nombre de valeurs non-nulles dans chaque colonne\n"
   ]
  },
  {
   "cell_type": "markdown",
   "metadata": {},
   "source": [
    "Comme vous pouvez le constater :\n",
    "* Certains champs sont toujours renseignés,\n",
    "* Certains champs sont parfois renseignés,\n",
    "* Certains champs ne sont (presque) jamais renseignés.\n",
    "\n",
    "Combien de champs y a-t-il (environ) dans chacune de ces trois catégories ?\n",
    "La solution la plus simple est de visualiser la distribution du nombre de valeurs non-nulles dans chaque colonne."
   ]
  },
  {
   "cell_type": "code",
   "execution_count": null,
   "metadata": {},
   "outputs": [],
   "source": [
    "# visualiser la distribution du nombre de valeurs non-nulles dans chaque colonne\n"
   ]
  },
  {
   "cell_type": "markdown",
   "metadata": {},
   "source": [
    "Après exclusion des colonnes de métadonnées et des colonnes (presque) entièrement vides, il nous reste un ensemble de colonnes utilisables pour notre analyse.\n",
    "Nous pouvons filtrer le jeu de données actuel pour ne conserver que ces colonnes."
   ]
  },
  {
   "cell_type": "code",
   "execution_count": null,
   "metadata": {},
   "outputs": [],
   "source": [
    "# énumérer les colonnes utilisables\n",
    "keep_cols = [\n",
    "    # ...\n",
    "]\n",
    "# filtrer les colonnes et afficher le dataframe résultat\n",
    "df = df[keep_cols]\n",
    "df"
   ]
  },
  {
   "cell_type": "markdown",
   "metadata": {},
   "source": [
    "Nous pouvons recharger le fichier CSV en filtrant d'emblée les colonnes utilisables dès `read_csv`."
   ]
  },
  {
   "cell_type": "code",
   "execution_count": null,
   "metadata": {},
   "outputs": [],
   "source": [
    "# recharger les 25000 premières lignes du fichier CSV en ne gardant que les colonnes utilisables\n"
   ]
  },
  {
   "cell_type": "markdown",
   "metadata": {},
   "source": [
    "Ne charger qu'un sous-ensemble des colonnes devrait permettre d'économiser beaucoup de mémoire.\n",
    "Obtenez l'occupation mémoire de ce Dataframe."
   ]
  },
  {
   "cell_type": "code",
   "execution_count": null,
   "metadata": {},
   "outputs": [],
   "source": [
    "# calculer l'occupation mémoire\n"
   ]
  },
  {
   "cell_type": "markdown",
   "metadata": {},
   "source": [
    "Comparez l'occupation mémoire de ce Dataframe avec celle que vous aviez mesurée précédemment pour le même nombre de lignes, avec toutes les colonnes."
   ]
  },
  {
   "cell_type": "markdown",
   "metadata": {},
   "source": []
  },
  {
   "cell_type": "markdown",
   "metadata": {},
   "source": [
    "En utilisant le même ratio que précédemment, de quelle quantité de mémoire auriez-vous besoin pour charger toutes les entrées du fichier CSV sur le seul sous-ensemble des colonnes utilisables ?"
   ]
  },
  {
   "cell_type": "markdown",
   "metadata": {},
   "source": []
  },
  {
   "cell_type": "markdown",
   "metadata": {},
   "source": [
    "### 2. Modéliser explicitement les variables catégorielles"
   ]
  },
  {
   "cell_type": "markdown",
   "metadata": {},
   "source": [
    "Certaines colonnes dans OpenFoodFacts correspondent à des variables catégorielles, par exemple le [NOVA group](https://world.openfoodfacts.org/nova) et la [note Nutri-Score](https://en.wikipedia.org/wiki/Nutri-score).\n",
    "Les variables catégorielles sont caractérisées par un faible nombre de valeurs possibles, bien inférieur au nombre total d'occurrences de valeurs dans la colonne correspondante d'un grand jeu de données.\n",
    "\n",
    "pandas a un type de données spécifique, nommé [categorical](https://pandas.pydata.org/pandas-docs/stable/user_guide/categorical.html), avec deux avantages ici :\n",
    "* l'efficacité mémoire : toutes les instances d'une valeur donnée pointent vers une représentation partagée unique, ce qui économise la mémoire ;\n",
    "* l'interopérabilité : les variables catégorielles ont une modélisation spécifique dans les bibliothèques d'analyse statistique, d'apprentissage automatique (machine learning) ou de visualisation (graphes différents)."
   ]
  },
  {
   "cell_type": "code",
   "execution_count": 20,
   "metadata": {},
   "outputs": [],
   "source": [
    "from pandas.api.types import CategoricalDtype"
   ]
  },
  {
   "cell_type": "markdown",
   "metadata": {},
   "source": [
    "Nous cherchons des colonnes qui pourraient correspondre à des variables catégorielles, en regardant leur nom et le nombre de valeurs uniques dans chaque colonne du jeu de données.\n",
    "\n",
    "Affichez le nombre de valeurs uniques dans chaque colonne du DataFrame avec [nunique()](https://pandas.pydata.org/pandas-docs/stable/reference/api/pandas.DataFrame.nunique.html)."
   ]
  },
  {
   "cell_type": "code",
   "execution_count": null,
   "metadata": {},
   "outputs": [],
   "source": [
    "# TODO\n"
   ]
  },
  {
   "cell_type": "markdown",
   "metadata": {},
   "source": [
    "Distinguez-vous des colonnes avec un très petit nombre de valeurs distinctes, et un nom qui pourrait correspondre à des variables catégorielles ?"
   ]
  },
  {
   "cell_type": "markdown",
   "metadata": {},
   "source": []
  },
  {
   "cell_type": "markdown",
   "metadata": {},
   "source": [
    "Pour chacune de ces colonnes candidates, vérifiez si elle correspond à une variable catégorielle en affichant la liste de ses valeurs uniques avec [unique()](https://pandas.pydata.org/pandas-docs/stable/reference/api/pandas.Series.unique.html)."
   ]
  },
  {
   "cell_type": "code",
   "execution_count": 21,
   "metadata": {},
   "outputs": [],
   "source": [
    "# TODO"
   ]
  },
  {
   "cell_type": "markdown",
   "metadata": {},
   "source": [
    "Nous pouvons maintenant déclarer nos variables catégorielles.\n",
    "La fonction `read_csv` a un paramètre permettant de déclarer le type de données de chaque colonne.\n",
    "\n",
    "Attention, pandas nomme *catégorielles* des variables à valeurs :\n",
    "* non ordonnées (variable catégorielle proprement dite),\n",
    "* ordonnées (variable qualitative ordinale).\n",
    "Les variables ordinales sont cependant un peu plus compliquées à déclarer proprement."
   ]
  },
  {
   "cell_type": "code",
   "execution_count": null,
   "metadata": {},
   "outputs": [],
   "source": [
    "# TODO modifier ce dictionnaire pour déclarer proprement les colonnes qui sont\n",
    "# des variables catégorielles telles que définies ci-dessus\n",
    "dtype = {\n",
    "    # string values\n",
    "    'myColumn025': str,\n",
    "    # unordered categorical, values will be inferred during reading\n",
    "    'myColumn123-unordered': 'category',\n",
    "    # ordered categorical, with the ordered list of values\n",
    "    'myColumn147-ordered': CategoricalDtype(categories=['first_val', 'second_val', 'third_val'], ordered=True),\n",
    "}"
   ]
  },
  {
   "cell_type": "markdown",
   "metadata": {},
   "source": [
    "Rechargez les 25000 premières lignes du fichier CSV, en ne chargeant que les colonnes utilisables, et avec des types de données explicites pour les colonnes correspondant à des variables catégorielles."
   ]
  },
  {
   "cell_type": "code",
   "execution_count": 22,
   "metadata": {},
   "outputs": [],
   "source": [
    "# TODO"
   ]
  },
  {
   "cell_type": "markdown",
   "metadata": {},
   "source": [
    "Vérifiez l'occupation mémoire de ce DataFrame (25000 lignes, colonnes utilisables typées) et comparez-la aux mesures précédentes (25000 lignes toutes colonnes, 25000 lignes colonnes utilisables)."
   ]
  },
  {
   "cell_type": "code",
   "execution_count": null,
   "metadata": {},
   "outputs": [],
   "source": [
    "# TODO"
   ]
  },
  {
   "cell_type": "markdown",
   "metadata": {},
   "source": [
    "### 3. Diminuer la précision des nombres flottants\n",
    "\n",
    "Une dernière stratégorie pour réduire l'occupation mémoire est de spécifier des types de données suffisants pour le degré effectif de précision des valeurs.\n",
    "Par défaut, pandas stocke les nombres réels comme des `float64`, c'est-à-dire en [Double-precision floating-point format](https://en.wikipedia.org/wiki/Double-precision_floating-point_format).\n",
    "\n",
    "Sur le jeu de données d'OpenFoodFacts, cette approche conservatrice pourrait être considérée comme du gaspillage car les valeurs nutritionnelles écrites sur les emballages ne sont pas d'une précision extrême.\n",
    "La perte de précision ne devrait pas affecter de façon dramatique l'analyse, donc nous devrions pouvoir utiliser des [`float16`](https://en.wikipedia.org/wiki/Half-precision_floating-point_format) plutôt que des `float64` et diviser par 4 l'occupation mémoire de ces colonnes."
   ]
  },
  {
   "cell_type": "markdown",
   "metadata": {},
   "source": [
    "Changez le type des colonnes dont les valeurs correspondent à des quantités de nutriments, en `float16` avec [astype](https://pandas.pydata.org/pandas-docs/stable/reference/api/pandas.DataFrame.astype.html)."
   ]
  },
  {
   "cell_type": "code",
   "execution_count": 23,
   "metadata": {},
   "outputs": [],
   "source": [
    "# TODO"
   ]
  },
  {
   "cell_type": "markdown",
   "metadata": {},
   "source": [
    "Examinez les valeurs dans les colonnes numériques dont vous avez changé le type.\n",
    "Remarquez-vous des changements par rapport aux valeurs stockées précédemment ?"
   ]
  },
  {
   "cell_type": "markdown",
   "metadata": {},
   "source": []
  },
  {
   "cell_type": "markdown",
   "metadata": {},
   "source": [
    "Vérifiez l'occupation mémoire."
   ]
  },
  {
   "cell_type": "code",
   "execution_count": null,
   "metadata": {},
   "outputs": [],
   "source": [
    "# TODO"
   ]
  },
  {
   "cell_type": "markdown",
   "metadata": {},
   "source": [
    "Les gains obtenus en diminuant la précision des nombres réels n'étaient pas nécessairement indispensables à ce stade et peuvent vous paraître superflus, voire légèrement perturbants pour les visualisations et les analyses préliminaires.\n",
    "\n",
    "Diminuer la précision de la représentation des données numériques est surtout utile pour les analyses utilisant des méthodes intensives en calcul, similaires à celles que vous utiliserez dans le notebook 5."
   ]
  },
  {
   "cell_type": "markdown",
   "metadata": {},
   "source": [
    "## Conclusion\n",
    "\n",
    "Nous devrions maintenant être capables de lire tout le jeu de données en spécifiant un sous-ensemble de colonnes qui nous intéresse réellement, et en spécifiant le type des données contenues dans ces colonnes.\n",
    "\n",
    "* Les variables catégorielles permettent (notamment) d'éviter de stocker de multiples copies de la même valeur.\n",
    "* Les différents types de données numériques existants permettent d'adapter l'occupation mémoire au degré de précision constaté dans les données ou requis dans les analyses."
   ]
  },
  {
   "cell_type": "markdown",
   "metadata": {},
   "source": [
    "## Réutiliser ce travail d'optimisation mémoire\n",
    "\n",
    "Il ne nous reste plus qu'à écrire ces spécifications de types dans un fichier, ce qui nous permettra de charger efficacement les données dans d'autres notebooks."
   ]
  },
  {
   "cell_type": "code",
   "execution_count": 12,
   "metadata": {},
   "outputs": [],
   "source": [
    "DTYPE_FILE = '../data/dtype.txt'\n",
    "with open(DTYPE_FILE, 'w') as f:\n",
    "    print(dtype, file=f)"
   ]
  },
  {
   "cell_type": "markdown",
   "metadata": {},
   "source": [
    "Nous verrons dans le notebook suivant comment filtrer un jeu de données pour travailler sur un sous-ensemble."
   ]
  }
 ],
 "metadata": {
  "kernelspec": {
   "display_name": "Python 3",
   "language": "python",
   "name": "python3"
  },
  "language_info": {
   "codemirror_mode": {
    "name": "ipython",
    "version": 3
   },
   "file_extension": ".py",
   "mimetype": "text/x-python",
   "name": "python",
   "nbconvert_exporter": "python",
   "pygments_lexer": "ipython3",
   "version": "3.8.6"
  }
 },
 "nbformat": 4,
 "nbformat_minor": 4
}
