{
 "cells": [
  {
   "cell_type": "markdown",
   "metadata": {},
   "source": [
    "# Filtrer les données d'OpenFoodFacts"
   ]
  },
  {
   "cell_type": "markdown",
   "metadata": {},
   "source": [
    "Nous pouvons charger les données d'OpenFoodFacts avec les optimisations du notebook précédent."
   ]
  },
  {
   "cell_type": "code",
   "execution_count": 2,
   "metadata": {},
   "outputs": [],
   "source": [
    "import pandas as pd"
   ]
  },
  {
   "cell_type": "code",
   "execution_count": 3,
   "metadata": {},
   "outputs": [],
   "source": [
    "# modifier le chemin vers le fichier CSV si nécessaire\n",
    "CSV_FILE = '../data/en.openfoodfacts.org.products.csv'"
   ]
  },
  {
   "cell_type": "code",
   "execution_count": 1,
   "metadata": {},
   "outputs": [],
   "source": [
    "# TODO charger le dtype depuis un fichier texte produit dans le notebook 1\n",
    "dtype = {'origins': 'category',\n",
    " 'origins_tags': 'category',\n",
    " 'first_packaging_code_geo': 'category',\n",
    " 'cities_tags': 'category',\n",
    " 'purchase_places': 'category',\n",
    " 'countries': 'category',\n",
    " 'countries_tags': 'category',\n",
    " 'countries_en': 'category',\n",
    " 'traces_tags': 'category',\n",
    " 'traces_en': 'category',\n",
    " 'additives': 'category',\n",
    " 'ingredients_from_palm_oil_tags': 'category',\n",
    " 'ingredients_that_may_be_from_palm_oil_tags': 'category',\n",
    " 'nutriscore_grade': 'category',\n",
    " 'pnns_groups_1': 'category',\n",
    " 'pnns_groups_2': 'category',\n",
    " 'states': 'category',\n",
    " 'states_tags': 'category',\n",
    " 'states_en': 'category',\n",
    " 'cities': 'float16',\n",
    " 'allergens_en': 'float16',\n",
    " 'serving_quantity': 'float16',\n",
    " 'no_nutriments': 'float16',\n",
    " 'additives_n': 'float16',\n",
    " 'ingredients_from_palm_oil_n': 'float16',\n",
    " 'ingredients_from_palm_oil': 'float16',\n",
    " 'ingredients_that_may_be_from_palm_oil_n': 'float16',\n",
    " 'ingredients_that_may_be_from_palm_oil': 'float16',\n",
    " 'nutriscore_score': 'float16',\n",
    " 'nova_group': 'float16',\n",
    " 'energy-kj_100g': 'float16',\n",
    " 'energy-kcal_100g': 'float16',\n",
    " 'energy_100g': 'float16',\n",
    " 'energy-from-fat_100g': 'float16',\n",
    " 'fat_100g': 'float16',\n",
    " 'saturated-fat_100g': 'float16',\n",
    " '-butyric-acid_100g': 'float16',\n",
    " '-caproic-acid_100g': 'float16',\n",
    " '-caprylic-acid_100g': 'float16',\n",
    " '-capric-acid_100g': 'float16',\n",
    " '-lauric-acid_100g': 'float16',\n",
    " '-myristic-acid_100g': 'float16',\n",
    " '-palmitic-acid_100g': 'float16',\n",
    " '-stearic-acid_100g': 'float16',\n",
    " '-arachidic-acid_100g': 'float16',\n",
    " '-behenic-acid_100g': 'float16',\n",
    " '-lignoceric-acid_100g': 'float16',\n",
    " '-cerotic-acid_100g': 'float16',\n",
    " '-montanic-acid_100g': 'float16',\n",
    " '-melissic-acid_100g': 'float16',\n",
    " 'monounsaturated-fat_100g': 'float16',\n",
    " 'polyunsaturated-fat_100g': 'float16',\n",
    " 'omega-3-fat_100g': 'float16',\n",
    " '-alpha-linolenic-acid_100g': 'float16',\n",
    " '-eicosapentaenoic-acid_100g': 'float16',\n",
    " '-docosahexaenoic-acid_100g': 'float16',\n",
    " 'omega-6-fat_100g': 'float16',\n",
    " '-linoleic-acid_100g': 'float16',\n",
    " '-arachidonic-acid_100g': 'float16',\n",
    " '-gamma-linolenic-acid_100g': 'float16',\n",
    " '-dihomo-gamma-linolenic-acid_100g': 'float16',\n",
    " 'omega-9-fat_100g': 'float16',\n",
    " '-oleic-acid_100g': 'float16',\n",
    " '-elaidic-acid_100g': 'float16',\n",
    " '-gondoic-acid_100g': 'float16',\n",
    " '-mead-acid_100g': 'float16',\n",
    " '-erucic-acid_100g': 'float16',\n",
    " '-nervonic-acid_100g': 'float16',\n",
    " 'trans-fat_100g': 'float16',\n",
    " 'cholesterol_100g': 'float16',\n",
    " 'carbohydrates_100g': 'float16',\n",
    " 'sugars_100g': 'float16',\n",
    " '-sucrose_100g': 'float16',\n",
    " '-glucose_100g': 'float16',\n",
    " '-fructose_100g': 'float16',\n",
    " '-lactose_100g': 'float16',\n",
    " '-maltose_100g': 'float16',\n",
    " '-maltodextrins_100g': 'float16',\n",
    " 'starch_100g': 'float16',\n",
    " 'polyols_100g': 'float16',\n",
    " 'fiber_100g': 'float16',\n",
    " 'proteins_100g': 'float16',\n",
    " 'casein_100g': 'float16',\n",
    " 'serum-proteins_100g': 'float16',\n",
    " 'nucleotides_100g': 'float16',\n",
    " 'salt_100g': 'float16',\n",
    " 'sodium_100g': 'float16',\n",
    " 'alcohol_100g': 'float16',\n",
    " 'vitamin-a_100g': 'float16',\n",
    " 'beta-carotene_100g': 'float16',\n",
    " 'vitamin-d_100g': 'float16',\n",
    " 'vitamin-e_100g': 'float16',\n",
    " 'vitamin-k_100g': 'float16',\n",
    " 'vitamin-c_100g': 'float16',\n",
    " 'vitamin-b1_100g': 'float16',\n",
    " 'vitamin-b2_100g': 'float16',\n",
    " 'vitamin-pp_100g': 'float16',\n",
    " 'vitamin-b6_100g': 'float16',\n",
    " 'vitamin-b9_100g': 'float16',\n",
    " 'folates_100g': 'float16',\n",
    " 'vitamin-b12_100g': 'float16',\n",
    " 'biotin_100g': 'float16',\n",
    " 'pantothenic-acid_100g': 'float16',\n",
    " 'silica_100g': 'float16',\n",
    " 'bicarbonate_100g': 'float16',\n",
    " 'potassium_100g': 'float16',\n",
    " 'chloride_100g': 'float16',\n",
    " 'calcium_100g': 'float16',\n",
    " 'phosphorus_100g': 'float16',\n",
    " 'iron_100g': 'float16',\n",
    " 'magnesium_100g': 'float16',\n",
    " 'zinc_100g': 'float16',\n",
    " 'copper_100g': 'float16',\n",
    " 'manganese_100g': 'float16',\n",
    " 'fluoride_100g': 'float16',\n",
    " 'selenium_100g': 'float16',\n",
    " 'chromium_100g': 'float16',\n",
    " 'molybdenum_100g': 'float16',\n",
    " 'iodine_100g': 'float16',\n",
    " 'caffeine_100g': 'float16',\n",
    " 'taurine_100g': 'float16',\n",
    " 'ph_100g': 'float16',\n",
    " 'fruits-vegetables-nuts_100g': 'float16',\n",
    " 'fruits-vegetables-nuts-dried_100g': 'float16',\n",
    " 'fruits-vegetables-nuts-estimate_100g': 'float16',\n",
    " 'collagen-meat-protein-ratio_100g': 'float16',\n",
    " 'cocoa_100g': 'float16',\n",
    " 'chlorophyl_100g': 'float16',\n",
    " 'carbon-footprint_100g': 'float16',\n",
    " 'carbon-footprint-from-meat-or-fish_100g': 'float16',\n",
    " 'nutrition-score-fr_100g': 'float16',\n",
    " 'nutrition-score-uk_100g': 'float16',\n",
    " 'glycemic-index_100g': 'float16',\n",
    " 'water-hardness_100g': 'float16',\n",
    " 'choline_100g': 'float16',\n",
    " 'phylloquinone_100g': 'float16',\n",
    " 'beta-glucan_100g': 'float16',\n",
    " 'inositol_100g': 'float16',\n",
    " 'carnitine_100g': 'float16'}"
   ]
  },
  {
   "cell_type": "code",
   "execution_count": 4,
   "metadata": {},
   "outputs": [
    {
     "name": "stderr",
     "output_type": "stream",
     "text": [
      "/home/mathieu/miniconda3/envs/off-explore/lib/python3.7/site-packages/IPython/core/interactiveshell.py:3051: DtypeWarning: Columns (0,24,25) have mixed types. Specify dtype option on import or set low_memory=False.\n",
      "  interactivity=interactivity, compiler=compiler, result=result)\n"
     ]
    },
    {
     "name": "stdout",
     "output_type": "stream",
     "text": [
      "<class 'pandas.core.frame.DataFrame'>\n",
      "RangeIndex: 1110884 entries, 0 to 1110883\n",
      "Columns: 178 entries, code to carnitine_100g\n",
      "dtypes: category(19), float16(120), int64(2), object(37)\n",
      "memory usage: 2.7 GB\n"
     ]
    }
   ],
   "source": [
    "df_off = pd.read_csv(CSV_FILE, sep='\\t', dtype=dtype)\n",
    "df_off.info(memory_usage='deep')"
   ]
  },
  {
   "cell_type": "markdown",
   "metadata": {},
   "source": [
    "Le site d'OpenFoodFacts fournit un fichier de description des champs du jeu de données:\n",
    "https://static.openfoodfacts.org/data/data-fields.txt"
   ]
  },
  {
   "cell_type": "markdown",
   "metadata": {},
   "source": [
    "## Sélection de lignes\n",
    "\n",
    "Nous allons nous concentrer sur les produits vendus en France.\n",
    "\n",
    "Quels sont le ou les champs contenant cette information?"
   ]
  },
  {
   "cell_type": "markdown",
   "metadata": {},
   "source": [
    "Nous allons créer un masque sur les lignes du DataFrame :\n",
    "`True` si le produit est vendu en France, `False` sinon."
   ]
  },
  {
   "cell_type": "code",
   "execution_count": 14,
   "metadata": {},
   "outputs": [
    {
     "data": {
      "text/plain": [
       "0           True\n",
       "1           True\n",
       "2          False\n",
       "3           True\n",
       "4           True\n",
       "           ...  \n",
       "1110879     True\n",
       "1110880    False\n",
       "1110881     True\n",
       "1110882    False\n",
       "1110883    False\n",
       "Name: countries_tags, Length: 1110884, dtype: bool"
      ]
     },
     "execution_count": 14,
     "metadata": {},
     "output_type": "execute_result"
    }
   ],
   "source": [
    "mask_fr = df_off['countries_tags'].str.contains('france')\n",
    "# on remplace les valeurs manquantes par False\n",
    "mask_fr = mask_fr.fillna(False)\n",
    "mask_fr"
   ]
  },
  {
   "cell_type": "markdown",
   "metadata": {},
   "source": [
    "Nous pouvons maintenant connaître le nombre de produits vendus en France."
   ]
  },
  {
   "cell_type": "code",
   "execution_count": 15,
   "metadata": {},
   "outputs": [
    {
     "data": {
      "text/plain": [
       "count     1110884\n",
       "unique          2\n",
       "top          True\n",
       "freq       643862\n",
       "Name: countries_tags, dtype: object"
      ]
     },
     "execution_count": 15,
     "metadata": {},
     "output_type": "execute_result"
    }
   ],
   "source": [
    "mask_fr.describe()"
   ]
  },
  {
   "cell_type": "markdown",
   "metadata": {},
   "source": [
    "Nous allons nous concentrer sur ce sous-ensemble des données en ne conservant que les lignes correspondantes dans le DataFrame."
   ]
  },
  {
   "cell_type": "code",
   "execution_count": 17,
   "metadata": {},
   "outputs": [
    {
     "name": "stdout",
     "output_type": "stream",
     "text": [
      "<class 'pandas.core.frame.DataFrame'>\n",
      "Int64Index: 643862 entries, 0 to 1110881\n",
      "Columns: 178 entries, code to carnitine_100g\n",
      "dtypes: category(19), float16(120), int64(2), object(37)\n",
      "memory usage: 1.7 GB\n"
     ]
    }
   ],
   "source": [
    "df_off_fr = df_off[mask_fr]\n",
    "df_off_fr.info(memory_usage='deep')"
   ]
  },
  {
   "cell_type": "markdown",
   "metadata": {},
   "source": [
    "## Sélection de colonnes"
   ]
  },
  {
   "cell_type": "markdown",
   "metadata": {},
   "source": [
    "Nous allons ignorer les colonnes qui ne sont jamais remplies, ou presque."
   ]
  },
  {
   "cell_type": "code",
   "execution_count": 34,
   "metadata": {},
   "outputs": [
    {
     "name": "stdout",
     "output_type": "stream",
     "text": [
      "(0, '-behenic-acid_100g')\n",
      "(0, '-butyric-acid_100g')\n",
      "(0, '-capric-acid_100g')\n",
      "(0, '-caproic-acid_100g')\n",
      "(0, '-caprylic-acid_100g')\n",
      "(0, '-dihomo-gamma-linolenic-acid_100g')\n",
      "(0, '-elaidic-acid_100g')\n",
      "(0, '-erucic-acid_100g')\n",
      "(0, '-gondoic-acid_100g')\n",
      "(0, '-lignoceric-acid_100g')\n",
      "(0, '-mead-acid_100g')\n",
      "(0, '-melissic-acid_100g')\n",
      "(0, '-myristic-acid_100g')\n",
      "(0, '-nervonic-acid_100g')\n",
      "(0, '-palmitic-acid_100g')\n",
      "(0, '-stearic-acid_100g')\n",
      "(0, 'allergens_en')\n",
      "(0, 'cities')\n",
      "(0, 'ingredients_from_palm_oil')\n",
      "(0, 'ingredients_that_may_be_from_palm_oil')\n",
      "(0, 'no_nutriments')\n",
      "(0, 'water-hardness_100g')\n",
      "(1, '-cerotic-acid_100g')\n",
      "(1, '-montanic-acid_100g')\n",
      "(1, 'chlorophyl_100g')\n",
      "(2, '-arachidic-acid_100g')\n",
      "(3, '-gamma-linolenic-acid_100g')\n",
      "(3, '-lauric-acid_100g')\n",
      "(3, 'glycemic-index_100g')\n",
      "(3, 'phylloquinone_100g')\n",
      "(8, '-maltose_100g')\n",
      "(12, 'nucleotides_100g')\n",
      "(14, '-arachidonic-acid_100g')\n",
      "(14, 'beta-glucan_100g')\n",
      "(14, 'carnitine_100g')\n",
      "(15, '-maltodextrins_100g')\n",
      "(15, '-oleic-acid_100g')\n",
      "(23, '-sucrose_100g')\n",
      "(23, 'additives')\n",
      "(23, 'inositol_100g')\n",
      "(23, 'molybdenum_100g')\n",
      "(25, 'serum-proteins_100g')\n",
      "(26, 'folates_100g')\n",
      "(27, '-glucose_100g')\n",
      "(29, 'choline_100g')\n",
      "(32, 'chromium_100g')\n",
      "(37, 'omega-9-fat_100g')\n",
      "(39, 'casein_100g')\n",
      "(43, 'beta-carotene_100g')\n",
      "(48, 'taurine_100g')\n",
      "(52, '-fructose_100g')\n",
      "(59, '-eicosapentaenoic-acid_100g')\n",
      "(77, 'silica_100g')\n",
      "(87, '-docosahexaenoic-acid_100g')\n",
      "(96, 'caffeine_100g')\n",
      "(108, 'ph_100g')\n",
      "(132, 'energy-from-fat_100g')\n",
      "(155, 'vitamin-k_100g')\n",
      "(170, 'fluoride_100g')\n",
      "(191, '-linoleic-acid_100g')\n",
      "(216, 'selenium_100g')\n",
      "(220, 'bicarbonate_100g')\n",
      "(227, '-lactose_100g')\n",
      "(246, 'fruits-vegetables-nuts-dried_100g')\n",
      "(254, 'omega-6-fat_100g')\n",
      "(265, 'copper_100g')\n",
      "(270, 'starch_100g')\n",
      "(271, '-alpha-linolenic-acid_100g')\n",
      "(271, 'iodine_100g')\n",
      "(286, 'collagen-meat-protein-ratio_100g')\n",
      "(292, 'manganese_100g')\n",
      "(301, 'carbon-footprint_100g')\n",
      "(345, 'biotin_100g')\n",
      "(386, 'chloride_100g')\n",
      "(596, 'zinc_100g')\n",
      "(603, 'polyols_100g')\n",
      "(766, 'pantothenic-acid_100g')\n",
      "(1151, 'vitamin-b12_100g')\n",
      "(1182, 'vitamin-b9_100g')\n",
      "(1194, 'phosphorus_100g')\n",
      "(1204, 'omega-3-fat_100g')\n",
      "(1229, 'potassium_100g')\n",
      "(1249, 'vitamin-b2_100g')\n",
      "(1284, 'vitamin-pp_100g')\n",
      "(1411, 'vitamin-d_100g')\n",
      "(1438, 'vitamin-b6_100g')\n",
      "(1572, 'vitamin-e_100g')\n",
      "(1602, 'cholesterol_100g')\n",
      "(1607, 'trans-fat_100g')\n",
      "(1631, 'vitamin-b1_100g')\n",
      "(1957, 'magnesium_100g')\n",
      "(1987, 'vitamin-a_100g')\n",
      "(2212, 'monounsaturated-fat_100g')\n",
      "(2246, 'polyunsaturated-fat_100g')\n",
      "(3083, 'iron_100g')\n",
      "(3164, 'vitamin-c_100g')\n",
      "(4015, 'cocoa_100g')\n",
      "(5584, 'fruits-vegetables-nuts_100g')\n",
      "(5804, 'calcium_100g')\n",
      "(7338, 'alcohol_100g')\n",
      "(9544, 'carbon-footprint-from-meat-or-fish_100g')\n",
      "(9852, 'fruits-vegetables-nuts-estimate_100g')\n",
      "(10504, 'ingredients_from_palm_oil_tags')\n",
      "(19269, 'ingredients_that_may_be_from_palm_oil_tags')\n",
      "(38828, 'origins_tags')\n",
      "(38884, 'origins')\n",
      "(44084, 'first_packaging_code_geo')\n",
      "(47276, 'cities_tags')\n",
      "(50528, 'traces')\n",
      "(55383, 'energy-kj_100g')\n",
      "(56475, 'emb_codes_tags')\n",
      "(56493, 'emb_codes')\n",
      "(61159, 'manufacturing_places_tags')\n",
      "(61187, 'manufacturing_places')\n",
      "(65578, 'traces_en')\n",
      "(65578, 'traces_tags')\n",
      "(66072, 'serving_size')\n",
      "(66154, 'serving_quantity')\n",
      "(68441, 'generic_name')\n",
      "(72666, 'allergens')\n",
      "(88646, 'purchase_places')\n",
      "(115675, 'additives_en')\n",
      "(115675, 'additives_tags')\n",
      "(126232, 'fiber_100g')\n",
      "(130713, 'stores')\n",
      "(140793, 'packaging_tags')\n",
      "(140797, 'packaging')\n",
      "(159176, 'labels')\n",
      "(159201, 'labels_en')\n",
      "(159201, 'labels_tags')\n",
      "(174757, 'nova_group')\n",
      "(218139, 'additives_n')\n",
      "(218139, 'ingredients_from_palm_oil_n')\n",
      "(218139, 'ingredients_text')\n",
      "(218139, 'ingredients_that_may_be_from_palm_oil_n')\n",
      "(220471, 'nutriscore_grade')\n",
      "(220471, 'nutriscore_score')\n",
      "(220475, 'nutrition-score-fr_100g')\n",
      "(220475, 'nutrition-score-uk_100g')\n",
      "(224942, 'quantity')\n",
      "(233595, 'image_nutrition_small_url')\n",
      "(233595, 'image_nutrition_url')\n",
      "(278430, 'categories')\n",
      "(278430, 'categories_en')\n",
      "(278430, 'categories_tags')\n",
      "(278430, 'main_category')\n",
      "(278430, 'main_category_en')\n",
      "(325818, 'brands_tags')\n",
      "(325855, 'brands')\n",
      "(472594, 'energy-kcal_100g')\n",
      "(492188, 'image_ingredients_small_url')\n",
      "(492188, 'image_ingredients_url')\n",
      "(505219, 'sodium_100g')\n",
      "(505224, 'salt_100g')\n",
      "(513740, 'carbohydrates_100g')\n",
      "(513927, 'fat_100g')\n",
      "(514814, 'saturated-fat_100g')\n",
      "(515109, 'sugars_100g')\n",
      "(516348, 'proteins_100g')\n",
      "(517513, 'energy_100g')\n",
      "(569847, 'image_small_url')\n",
      "(569847, 'image_url')\n",
      "(627521, 'product_name')\n",
      "(635230, 'pnns_groups_1')\n",
      "(643853, 'pnns_groups_2')\n",
      "(643861, 'created_datetime')\n",
      "(643861, 'creator')\n",
      "(643862, 'code')\n",
      "(643862, 'countries')\n",
      "(643862, 'countries_en')\n",
      "(643862, 'countries_tags')\n",
      "(643862, 'created_t')\n",
      "(643862, 'last_modified_datetime')\n",
      "(643862, 'last_modified_t')\n",
      "(643862, 'states')\n",
      "(643862, 'states_en')\n",
      "(643862, 'states_tags')\n",
      "(643862, 'url')\n"
     ]
    }
   ],
   "source": [
    "count_cols = []\n",
    "for col_name in df_off_fr.columns.values:\n",
    "    col = df_off_fr[col_name]\n",
    "    count_cols.append((col.count(), col_name))\n",
    "for i_cn in sorted(count_cols):\n",
    "    print(i_cn)\n",
    "# TODO histogramme?"
   ]
  },
  {
   "cell_type": "markdown",
   "metadata": {},
   "source": [
    "Nous enlevons dans un premier temps les colonnes totalement vides sur ce sous-ensemble."
   ]
  },
  {
   "cell_type": "code",
   "execution_count": 38,
   "metadata": {},
   "outputs": [
    {
     "name": "stdout",
     "output_type": "stream",
     "text": [
      "<class 'pandas.core.frame.DataFrame'>\n",
      "Int64Index: 643862 entries, 0 to 1110881\n",
      "Columns: 156 entries, code to carnitine_100g\n",
      "dtypes: category(19), float16(98), int64(2), object(37)\n",
      "memory usage: 1.6 GB\n"
     ]
    }
   ],
   "source": [
    "empty_cols = []\n",
    "for col_name in df_off_fr.columns.values:\n",
    "    col = df_off_fr[col_name]\n",
    "    if col.count() == 0:\n",
    "        empty_cols.append(col_name)\n",
    "#\n",
    "df_sel = df_off_fr.drop(columns=empty_cols)\n",
    "df_sel.info(memory_usage='deep')"
   ]
  },
  {
   "cell_type": "markdown",
   "metadata": {},
   "source": [
    "Nous pouvons enlever les colonnes très majoritairement vides, par exemple contenant moins de 1000 valeurs (sur plus de 640000 lignes)."
   ]
  },
  {
   "cell_type": "code",
   "execution_count": 39,
   "metadata": {},
   "outputs": [
    {
     "name": "stdout",
     "output_type": "stream",
     "text": [
      "<class 'pandas.core.frame.DataFrame'>\n",
      "Int64Index: 643862 entries, 0 to 1110881\n",
      "Columns: 101 entries, code to nutrition-score-uk_100g\n",
      "dtypes: category(18), float16(44), int64(2), object(37)\n",
      "memory usage: 1.6 GB\n"
     ]
    }
   ],
   "source": [
    "empty_cols = []\n",
    "for col_name in df_off_fr.columns.values:\n",
    "    col = df_off_fr[col_name]\n",
    "    if col.count() < 1000:\n",
    "        empty_cols.append(col_name)\n",
    "#\n",
    "df_sel = df_off_fr.drop(columns=empty_cols)\n",
    "df_sel.info(memory_usage='deep')"
   ]
  },
  {
   "cell_type": "markdown",
   "metadata": {},
   "source": [
    "Nous avons maintenant un jeu de données de dimensions plus modestes: 101 colonnes et environ 640000 lignes.\n",
    "\n",
    "C'est ce jeu de données que nous allons explorer dans le prochain notebook."
   ]
  },
  {
   "cell_type": "code",
   "execution_count": 40,
   "metadata": {},
   "outputs": [],
   "source": [
    "# TODO faire un dump CSV du jeu de données filtré"
   ]
  }
 ],
 "metadata": {
  "kernelspec": {
   "display_name": "Python 3",
   "language": "python",
   "name": "python3"
  },
  "language_info": {
   "codemirror_mode": {
    "name": "ipython",
    "version": 3
   },
   "file_extension": ".py",
   "mimetype": "text/x-python",
   "name": "python",
   "nbconvert_exporter": "python",
   "pygments_lexer": "ipython3",
   "version": "3.7.6"
  }
 },
 "nbformat": 4,
 "nbformat_minor": 2
}
