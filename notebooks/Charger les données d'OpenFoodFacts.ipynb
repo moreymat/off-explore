{
 "cells": [
  {
   "cell_type": "markdown",
   "metadata": {},
   "source": [
    "# Charger les données d'OpenFoodFacts"
   ]
  },
  {
   "cell_type": "markdown",
   "metadata": {},
   "source": [
    "Nous allons charger les données d'OpenFoodFacts au format CSV avec pandas.\n",
    "\n",
    "Ce fichier est un export tabulaire de la base de données MongoDB."
   ]
  },
  {
   "cell_type": "code",
   "execution_count": 1,
   "metadata": {},
   "outputs": [],
   "source": [
    "import pandas as pd"
   ]
  },
  {
   "cell_type": "markdown",
   "metadata": {},
   "source": [
    "## Chargement naïf"
   ]
  },
  {
   "cell_type": "markdown",
   "metadata": {},
   "source": [
    "Attention, le fichier original pèse 2.2 Go (au 2020-01-16)."
   ]
  },
  {
   "cell_type": "code",
   "execution_count": 2,
   "metadata": {},
   "outputs": [],
   "source": [
    "# modifier le chemin vers le fichier CSV si nécessaire\n",
    "CSV_FILE = '../data/en.openfoodfacts.org.products.csv'"
   ]
  },
  {
   "cell_type": "markdown",
   "metadata": {},
   "source": [
    "Le fichier original est téléchargeable sur [le site d'OpenFoodFacts](https://fr.openfoodfacts.org/data), avec les informations techniques minimales permettant de l'ouvrir (encodage et séparateur de champs):\n",
    "\n",
    "> Le fichier utilise l'encodage Unicode UTF-8.\n",
    ">\n",
    "> Le caractère de séparation des champs est `<tab>` (tabulation)."
   ]
  },
  {
   "cell_type": "code",
   "execution_count": 3,
   "metadata": {},
   "outputs": [
    {
     "name": "stderr",
     "output_type": "stream",
     "text": [
      "/home/mathieu/miniconda3/envs/off-explore/lib/python3.7/site-packages/IPython/core/interactiveshell.py:3051: DtypeWarning: Columns (0,24,25,26,28,44,49) have mixed types. Specify dtype option on import or set low_memory=False.\n",
      "  interactivity=interactivity, compiler=compiler, result=result)\n"
     ]
    }
   ],
   "source": [
    "df_off = pd.read_csv(CSV_FILE, sep='\\t')"
   ]
  },
  {
   "cell_type": "markdown",
   "metadata": {},
   "source": [
    "Vérifions que le fichier a été correctement chargé, en affichant les premières entrées (5 par défaut)."
   ]
  },
  {
   "cell_type": "code",
   "execution_count": 4,
   "metadata": {},
   "outputs": [
    {
     "data": {
      "text/html": [
       "<div>\n",
       "<style scoped>\n",
       "    .dataframe tbody tr th:only-of-type {\n",
       "        vertical-align: middle;\n",
       "    }\n",
       "\n",
       "    .dataframe tbody tr th {\n",
       "        vertical-align: top;\n",
       "    }\n",
       "\n",
       "    .dataframe thead th {\n",
       "        text-align: right;\n",
       "    }\n",
       "</style>\n",
       "<table border=\"1\" class=\"dataframe\">\n",
       "  <thead>\n",
       "    <tr style=\"text-align: right;\">\n",
       "      <th></th>\n",
       "      <th>code</th>\n",
       "      <th>url</th>\n",
       "      <th>creator</th>\n",
       "      <th>created_t</th>\n",
       "      <th>created_datetime</th>\n",
       "      <th>last_modified_t</th>\n",
       "      <th>last_modified_datetime</th>\n",
       "      <th>product_name</th>\n",
       "      <th>generic_name</th>\n",
       "      <th>quantity</th>\n",
       "      <th>...</th>\n",
       "      <th>carbon-footprint-from-meat-or-fish_100g</th>\n",
       "      <th>nutrition-score-fr_100g</th>\n",
       "      <th>nutrition-score-uk_100g</th>\n",
       "      <th>glycemic-index_100g</th>\n",
       "      <th>water-hardness_100g</th>\n",
       "      <th>choline_100g</th>\n",
       "      <th>phylloquinone_100g</th>\n",
       "      <th>beta-glucan_100g</th>\n",
       "      <th>inositol_100g</th>\n",
       "      <th>carnitine_100g</th>\n",
       "    </tr>\n",
       "  </thead>\n",
       "  <tbody>\n",
       "    <tr>\n",
       "      <th>0</th>\n",
       "      <td>0000000000017</td>\n",
       "      <td>http://world-en.openfoodfacts.org/product/0000...</td>\n",
       "      <td>kiliweb</td>\n",
       "      <td>1529059080</td>\n",
       "      <td>2018-06-15T10:38:00Z</td>\n",
       "      <td>1561463718</td>\n",
       "      <td>2019-06-25T11:55:18Z</td>\n",
       "      <td>Vitória crackers</td>\n",
       "      <td>NaN</td>\n",
       "      <td>NaN</td>\n",
       "      <td>...</td>\n",
       "      <td>NaN</td>\n",
       "      <td>NaN</td>\n",
       "      <td>NaN</td>\n",
       "      <td>NaN</td>\n",
       "      <td>NaN</td>\n",
       "      <td>NaN</td>\n",
       "      <td>NaN</td>\n",
       "      <td>NaN</td>\n",
       "      <td>NaN</td>\n",
       "      <td>NaN</td>\n",
       "    </tr>\n",
       "    <tr>\n",
       "      <th>1</th>\n",
       "      <td>0000000000031</td>\n",
       "      <td>http://world-en.openfoodfacts.org/product/0000...</td>\n",
       "      <td>isagoofy</td>\n",
       "      <td>1539464774</td>\n",
       "      <td>2018-10-13T21:06:14Z</td>\n",
       "      <td>1539464817</td>\n",
       "      <td>2018-10-13T21:06:57Z</td>\n",
       "      <td>Cacao</td>\n",
       "      <td>NaN</td>\n",
       "      <td>130 g</td>\n",
       "      <td>...</td>\n",
       "      <td>NaN</td>\n",
       "      <td>NaN</td>\n",
       "      <td>NaN</td>\n",
       "      <td>NaN</td>\n",
       "      <td>NaN</td>\n",
       "      <td>NaN</td>\n",
       "      <td>NaN</td>\n",
       "      <td>NaN</td>\n",
       "      <td>NaN</td>\n",
       "      <td>NaN</td>\n",
       "    </tr>\n",
       "    <tr>\n",
       "      <th>2</th>\n",
       "      <td>000000000003327986</td>\n",
       "      <td>http://world-en.openfoodfacts.org/product/0000...</td>\n",
       "      <td>kiliweb</td>\n",
       "      <td>1574175736</td>\n",
       "      <td>2019-11-19T15:02:16Z</td>\n",
       "      <td>1574175737</td>\n",
       "      <td>2019-11-19T15:02:17Z</td>\n",
       "      <td>Filetes de pollo empanado</td>\n",
       "      <td>NaN</td>\n",
       "      <td>NaN</td>\n",
       "      <td>...</td>\n",
       "      <td>NaN</td>\n",
       "      <td>NaN</td>\n",
       "      <td>NaN</td>\n",
       "      <td>NaN</td>\n",
       "      <td>NaN</td>\n",
       "      <td>NaN</td>\n",
       "      <td>NaN</td>\n",
       "      <td>NaN</td>\n",
       "      <td>NaN</td>\n",
       "      <td>NaN</td>\n",
       "    </tr>\n",
       "    <tr>\n",
       "      <th>3</th>\n",
       "      <td>0000000000100</td>\n",
       "      <td>http://world-en.openfoodfacts.org/product/0000...</td>\n",
       "      <td>del51</td>\n",
       "      <td>1444572561</td>\n",
       "      <td>2015-10-11T14:09:21Z</td>\n",
       "      <td>1444659212</td>\n",
       "      <td>2015-10-12T14:13:32Z</td>\n",
       "      <td>moutarde au moût de raisin</td>\n",
       "      <td>NaN</td>\n",
       "      <td>100g</td>\n",
       "      <td>...</td>\n",
       "      <td>NaN</td>\n",
       "      <td>18.0</td>\n",
       "      <td>18.0</td>\n",
       "      <td>NaN</td>\n",
       "      <td>NaN</td>\n",
       "      <td>NaN</td>\n",
       "      <td>NaN</td>\n",
       "      <td>NaN</td>\n",
       "      <td>NaN</td>\n",
       "      <td>NaN</td>\n",
       "    </tr>\n",
       "    <tr>\n",
       "      <th>4</th>\n",
       "      <td>00000000001111111111</td>\n",
       "      <td>http://world-en.openfoodfacts.org/product/0000...</td>\n",
       "      <td>openfoodfacts-contributors</td>\n",
       "      <td>1560020173</td>\n",
       "      <td>2019-06-08T18:56:13Z</td>\n",
       "      <td>1560020173</td>\n",
       "      <td>2019-06-08T18:56:13Z</td>\n",
       "      <td>Sfiudwx</td>\n",
       "      <td>NaN</td>\n",
       "      <td>dgesc</td>\n",
       "      <td>...</td>\n",
       "      <td>NaN</td>\n",
       "      <td>NaN</td>\n",
       "      <td>NaN</td>\n",
       "      <td>NaN</td>\n",
       "      <td>NaN</td>\n",
       "      <td>NaN</td>\n",
       "      <td>NaN</td>\n",
       "      <td>NaN</td>\n",
       "      <td>NaN</td>\n",
       "      <td>NaN</td>\n",
       "    </tr>\n",
       "  </tbody>\n",
       "</table>\n",
       "<p>5 rows × 178 columns</p>\n",
       "</div>"
      ],
      "text/plain": [
       "                   code                                                url  \\\n",
       "0         0000000000017  http://world-en.openfoodfacts.org/product/0000...   \n",
       "1         0000000000031  http://world-en.openfoodfacts.org/product/0000...   \n",
       "2    000000000003327986  http://world-en.openfoodfacts.org/product/0000...   \n",
       "3         0000000000100  http://world-en.openfoodfacts.org/product/0000...   \n",
       "4  00000000001111111111  http://world-en.openfoodfacts.org/product/0000...   \n",
       "\n",
       "                      creator   created_t      created_datetime  \\\n",
       "0                     kiliweb  1529059080  2018-06-15T10:38:00Z   \n",
       "1                    isagoofy  1539464774  2018-10-13T21:06:14Z   \n",
       "2                     kiliweb  1574175736  2019-11-19T15:02:16Z   \n",
       "3                       del51  1444572561  2015-10-11T14:09:21Z   \n",
       "4  openfoodfacts-contributors  1560020173  2019-06-08T18:56:13Z   \n",
       "\n",
       "   last_modified_t last_modified_datetime                  product_name  \\\n",
       "0       1561463718   2019-06-25T11:55:18Z              Vitória crackers   \n",
       "1       1539464817   2018-10-13T21:06:57Z                         Cacao   \n",
       "2       1574175737   2019-11-19T15:02:17Z     Filetes de pollo empanado   \n",
       "3       1444659212   2015-10-12T14:13:32Z   moutarde au moût de raisin    \n",
       "4       1560020173   2019-06-08T18:56:13Z                       Sfiudwx   \n",
       "\n",
       "  generic_name quantity  ... carbon-footprint-from-meat-or-fish_100g  \\\n",
       "0          NaN      NaN  ...                                     NaN   \n",
       "1          NaN    130 g  ...                                     NaN   \n",
       "2          NaN      NaN  ...                                     NaN   \n",
       "3          NaN     100g  ...                                     NaN   \n",
       "4          NaN    dgesc  ...                                     NaN   \n",
       "\n",
       "  nutrition-score-fr_100g nutrition-score-uk_100g glycemic-index_100g  \\\n",
       "0                     NaN                     NaN                 NaN   \n",
       "1                     NaN                     NaN                 NaN   \n",
       "2                     NaN                     NaN                 NaN   \n",
       "3                    18.0                    18.0                 NaN   \n",
       "4                     NaN                     NaN                 NaN   \n",
       "\n",
       "  water-hardness_100g choline_100g phylloquinone_100g beta-glucan_100g  \\\n",
       "0                 NaN          NaN                NaN              NaN   \n",
       "1                 NaN          NaN                NaN              NaN   \n",
       "2                 NaN          NaN                NaN              NaN   \n",
       "3                 NaN          NaN                NaN              NaN   \n",
       "4                 NaN          NaN                NaN              NaN   \n",
       "\n",
       "  inositol_100g carnitine_100g  \n",
       "0           NaN            NaN  \n",
       "1           NaN            NaN  \n",
       "2           NaN            NaN  \n",
       "3           NaN            NaN  \n",
       "4           NaN            NaN  \n",
       "\n",
       "[5 rows x 178 columns]"
      ]
     },
     "execution_count": 4,
     "metadata": {},
     "output_type": "execute_result"
    }
   ],
   "source": [
    "df_off.head()"
   ]
  },
  {
   "cell_type": "markdown",
   "metadata": {},
   "source": [
    "Combien de colonnes le jeu de données contient-il?\n",
    "\n",
    "Et combien d'entrées?"
   ]
  },
  {
   "cell_type": "code",
   "execution_count": 5,
   "metadata": {},
   "outputs": [
    {
     "data": {
      "text/plain": [
       "(1110884, 178)"
      ]
     },
     "execution_count": 5,
     "metadata": {},
     "output_type": "execute_result"
    }
   ],
   "source": [
    "df_off.shape"
   ]
  },
  {
   "cell_type": "markdown",
   "metadata": {},
   "source": [
    "## Occupation mémoire"
   ]
  },
  {
   "cell_type": "markdown",
   "metadata": {},
   "source": [
    "Le fichier CSV occupe 2.2 Go sur le disque, mais quelle quantité de RAM occupe-t-il en étant chargé dans pandas?"
   ]
  },
  {
   "cell_type": "code",
   "execution_count": 6,
   "metadata": {},
   "outputs": [
    {
     "name": "stdout",
     "output_type": "stream",
     "text": [
      "<class 'pandas.core.frame.DataFrame'>\n",
      "RangeIndex: 1110884 entries, 0 to 1110883\n",
      "Columns: 178 entries, code to carnitine_100g\n",
      "dtypes: float64(120), int64(2), object(56)\n",
      "memory usage: 5.4 GB\n"
     ]
    }
   ],
   "source": [
    "df_off.info(memory_usage='deep')"
   ]
  },
  {
   "cell_type": "markdown",
   "metadata": {},
   "source": [
    "## Comment diminuer l'occupation mémoire?"
   ]
  },
  {
   "cell_type": "markdown",
   "metadata": {},
   "source": [
    "### 1. Requalifier des colonnes en variables catégorielles"
   ]
  },
  {
   "cell_type": "markdown",
   "metadata": {},
   "source": [
    "En première approche, et de façon un peu abusive, on peut assimiler toute colonne contenant moins de 10000 valeurs distinctes (à comparer à 1.1 million d'entrées) à une variable catégorielle."
   ]
  },
  {
   "cell_type": "code",
   "execution_count": 7,
   "metadata": {},
   "outputs": [
    {
     "name": "stdout",
     "output_type": "stream",
     "text": [
      "count      56458\n",
      "unique      9732\n",
      "top       France\n",
      "freq       13690\n",
      "Name: origins, dtype: object\n",
      "\n",
      "count      56360\n",
      "unique      8576\n",
      "top       france\n",
      "freq       13997\n",
      "Name: origins_tags, dtype: object\n",
      "\n",
      "count                   44858\n",
      "unique                   2852\n",
      "top       47.833333,-0.333333\n",
      "freq                      865\n",
      "Name: first_packaging_code_geo, dtype: object\n",
      "\n",
      "count                              48190\n",
      "unique                              4841\n",
      "top       sable-sur-sarthe-sarthe-france\n",
      "freq                                 655\n",
      "Name: cities_tags, dtype: object\n",
      "\n",
      "count     126746\n",
      "unique      9373\n",
      "top       France\n",
      "freq       37320\n",
      "Name: purchase_places, dtype: object\n",
      "\n",
      "count     1108973\n",
      "unique       6201\n",
      "top        France\n",
      "freq       418931\n",
      "Name: countries, dtype: object\n",
      "\n",
      "count       1108971\n",
      "unique         2258\n",
      "top       en:france\n",
      "freq         580796\n",
      "Name: countries_tags, dtype: object\n",
      "\n",
      "count     1108971\n",
      "unique       2258\n",
      "top        France\n",
      "freq       580796\n",
      "Name: countries_en, dtype: object\n",
      "\n",
      "count       86121\n",
      "unique       9627\n",
      "top       en:nuts\n",
      "freq         8593\n",
      "Name: traces_tags, dtype: object\n",
      "\n",
      "count     86121\n",
      "unique     9627\n",
      "top        Nuts\n",
      "freq       8593\n",
      "Name: traces_en, dtype: object\n",
      "\n",
      "count                                                    36\n",
      "unique                                                   36\n",
      "top        [ eat -> ar:eat  ]  [ pro -> ar:pro  ]  [ dat...\n",
      "freq                                                      1\n",
      "Name: additives, dtype: object\n",
      "\n",
      "count              12287\n",
      "unique                15\n",
      "top       huile-de-palme\n",
      "freq               11647\n",
      "Name: ingredients_from_palm_oil_tags, dtype: object\n",
      "\n",
      "count                                                 26974\n",
      "unique                                                  312\n",
      "top       e471-mono-et-diglycerides-d-acides-gras-alimen...\n",
      "freq                                                   7224\n",
      "Name: ingredients_that_may_be_from_palm_oil_tags, dtype: object\n",
      "\n",
      "count     316925\n",
      "unique         5\n",
      "top            d\n",
      "freq       95707\n",
      "Name: nutriscore_grade, dtype: object\n",
      "\n",
      "count     1099248\n",
      "unique         14\n",
      "top       unknown\n",
      "freq       759532\n",
      "Name: pnns_groups_1, dtype: object\n",
      "\n",
      "count     1110866\n",
      "unique         46\n",
      "top       unknown\n",
      "freq       759532\n",
      "Name: pnns_groups_2, dtype: object\n",
      "\n",
      "count                                               1110884\n",
      "unique                                                  972\n",
      "top       en:to-be-completed, en:nutrition-facts-complet...\n",
      "freq                                                 202252\n",
      "Name: states, dtype: object\n",
      "\n",
      "count                                               1110884\n",
      "unique                                                  972\n",
      "top       en:to-be-completed,en:nutrition-facts-complete...\n",
      "freq                                                 202252\n",
      "Name: states_tags, dtype: object\n",
      "\n",
      "count                                               1110884\n",
      "unique                                                  972\n",
      "top       To be completed,Nutrition facts completed,Ingr...\n",
      "freq                                                 202252\n",
      "Name: states_en, dtype: object\n",
      "\n"
     ]
    }
   ],
   "source": [
    "# on affiche les descriptions des colonnes de type 'object' contenant moins de 10000 valeurs distinctes\n",
    "for col_name in df_off.columns.values:\n",
    "    col = df_off[col_name]\n",
    "    if col.dtype == 'object' and col.nunique() < 10000:\n",
    "        print(df_off[col_name].describe())\n",
    "        print()"
   ]
  },
  {
   "cell_type": "code",
   "execution_count": 8,
   "metadata": {},
   "outputs": [
    {
     "data": {
      "text/plain": [
       "{'origins': 'category',\n",
       " 'origins_tags': 'category',\n",
       " 'first_packaging_code_geo': 'category',\n",
       " 'cities_tags': 'category',\n",
       " 'purchase_places': 'category',\n",
       " 'countries': 'category',\n",
       " 'countries_tags': 'category',\n",
       " 'countries_en': 'category',\n",
       " 'traces_tags': 'category',\n",
       " 'traces_en': 'category',\n",
       " 'additives': 'category',\n",
       " 'ingredients_from_palm_oil_tags': 'category',\n",
       " 'ingredients_that_may_be_from_palm_oil_tags': 'category',\n",
       " 'nutriscore_grade': 'category',\n",
       " 'pnns_groups_1': 'category',\n",
       " 'pnns_groups_2': 'category',\n",
       " 'states': 'category',\n",
       " 'states_tags': 'category',\n",
       " 'states_en': 'category'}"
      ]
     },
     "execution_count": 8,
     "metadata": {},
     "output_type": "execute_result"
    }
   ],
   "source": [
    "# on modifie cette boucle pour générer un dictionnaire qui associe à des intitulés de colonnes\n",
    "# le dtype 'category'\n",
    "# ex: dtype = {'origins': 'category', 'origins_tags': 'category', ...}\n",
    "dtype = {}\n",
    "for col_name in df_off.columns.values:\n",
    "    col = df_off[col_name]\n",
    "    if col.dtype == 'object' and col.nunique() < 10000:\n",
    "        dtype[col_name] = 'category'\n",
    "dtype"
   ]
  },
  {
   "cell_type": "markdown",
   "metadata": {},
   "source": [
    "Nous pouvons maintenant recharger le fichier CSV en considérant ces colonnes comme des variables catégorielles."
   ]
  },
  {
   "cell_type": "code",
   "execution_count": 9,
   "metadata": {},
   "outputs": [
    {
     "name": "stderr",
     "output_type": "stream",
     "text": [
      "/home/mathieu/miniconda3/envs/off-explore/lib/python3.7/site-packages/IPython/core/interactiveshell.py:3051: DtypeWarning: Columns (0,24,25) have mixed types. Specify dtype option on import or set low_memory=False.\n",
      "  interactivity=interactivity, compiler=compiler, result=result)\n"
     ]
    },
    {
     "name": "stdout",
     "output_type": "stream",
     "text": [
      "<class 'pandas.core.frame.DataFrame'>\n",
      "RangeIndex: 1110884 entries, 0 to 1110883\n",
      "Columns: 178 entries, code to carnitine_100g\n",
      "dtypes: category(19), float64(120), int64(2), object(37)\n",
      "memory usage: 3.5 GB\n"
     ]
    }
   ],
   "source": [
    "df_off = pd.read_csv(CSV_FILE, sep='\\t', dtype=dtype)\n",
    "df_off.info(memory_usage='deep')"
   ]
  },
  {
   "cell_type": "markdown",
   "metadata": {},
   "source": [
    "### 2. Diminuer la précision des nombres flottants"
   ]
  },
  {
   "cell_type": "code",
   "execution_count": 10,
   "metadata": {},
   "outputs": [
    {
     "data": {
      "text/plain": [
       "{'origins': 'category',\n",
       " 'origins_tags': 'category',\n",
       " 'first_packaging_code_geo': 'category',\n",
       " 'cities_tags': 'category',\n",
       " 'purchase_places': 'category',\n",
       " 'countries': 'category',\n",
       " 'countries_tags': 'category',\n",
       " 'countries_en': 'category',\n",
       " 'traces_tags': 'category',\n",
       " 'traces_en': 'category',\n",
       " 'additives': 'category',\n",
       " 'ingredients_from_palm_oil_tags': 'category',\n",
       " 'ingredients_that_may_be_from_palm_oil_tags': 'category',\n",
       " 'nutriscore_grade': 'category',\n",
       " 'pnns_groups_1': 'category',\n",
       " 'pnns_groups_2': 'category',\n",
       " 'states': 'category',\n",
       " 'states_tags': 'category',\n",
       " 'states_en': 'category',\n",
       " 'cities': 'float16',\n",
       " 'allergens_en': 'float16',\n",
       " 'serving_quantity': 'float16',\n",
       " 'no_nutriments': 'float16',\n",
       " 'additives_n': 'float16',\n",
       " 'ingredients_from_palm_oil_n': 'float16',\n",
       " 'ingredients_from_palm_oil': 'float16',\n",
       " 'ingredients_that_may_be_from_palm_oil_n': 'float16',\n",
       " 'ingredients_that_may_be_from_palm_oil': 'float16',\n",
       " 'nutriscore_score': 'float16',\n",
       " 'nova_group': 'float16',\n",
       " 'energy-kj_100g': 'float16',\n",
       " 'energy-kcal_100g': 'float16',\n",
       " 'energy_100g': 'float16',\n",
       " 'energy-from-fat_100g': 'float16',\n",
       " 'fat_100g': 'float16',\n",
       " 'saturated-fat_100g': 'float16',\n",
       " '-butyric-acid_100g': 'float16',\n",
       " '-caproic-acid_100g': 'float16',\n",
       " '-caprylic-acid_100g': 'float16',\n",
       " '-capric-acid_100g': 'float16',\n",
       " '-lauric-acid_100g': 'float16',\n",
       " '-myristic-acid_100g': 'float16',\n",
       " '-palmitic-acid_100g': 'float16',\n",
       " '-stearic-acid_100g': 'float16',\n",
       " '-arachidic-acid_100g': 'float16',\n",
       " '-behenic-acid_100g': 'float16',\n",
       " '-lignoceric-acid_100g': 'float16',\n",
       " '-cerotic-acid_100g': 'float16',\n",
       " '-montanic-acid_100g': 'float16',\n",
       " '-melissic-acid_100g': 'float16',\n",
       " 'monounsaturated-fat_100g': 'float16',\n",
       " 'polyunsaturated-fat_100g': 'float16',\n",
       " 'omega-3-fat_100g': 'float16',\n",
       " '-alpha-linolenic-acid_100g': 'float16',\n",
       " '-eicosapentaenoic-acid_100g': 'float16',\n",
       " '-docosahexaenoic-acid_100g': 'float16',\n",
       " 'omega-6-fat_100g': 'float16',\n",
       " '-linoleic-acid_100g': 'float16',\n",
       " '-arachidonic-acid_100g': 'float16',\n",
       " '-gamma-linolenic-acid_100g': 'float16',\n",
       " '-dihomo-gamma-linolenic-acid_100g': 'float16',\n",
       " 'omega-9-fat_100g': 'float16',\n",
       " '-oleic-acid_100g': 'float16',\n",
       " '-elaidic-acid_100g': 'float16',\n",
       " '-gondoic-acid_100g': 'float16',\n",
       " '-mead-acid_100g': 'float16',\n",
       " '-erucic-acid_100g': 'float16',\n",
       " '-nervonic-acid_100g': 'float16',\n",
       " 'trans-fat_100g': 'float16',\n",
       " 'cholesterol_100g': 'float16',\n",
       " 'carbohydrates_100g': 'float16',\n",
       " 'sugars_100g': 'float16',\n",
       " '-sucrose_100g': 'float16',\n",
       " '-glucose_100g': 'float16',\n",
       " '-fructose_100g': 'float16',\n",
       " '-lactose_100g': 'float16',\n",
       " '-maltose_100g': 'float16',\n",
       " '-maltodextrins_100g': 'float16',\n",
       " 'starch_100g': 'float16',\n",
       " 'polyols_100g': 'float16',\n",
       " 'fiber_100g': 'float16',\n",
       " 'proteins_100g': 'float16',\n",
       " 'casein_100g': 'float16',\n",
       " 'serum-proteins_100g': 'float16',\n",
       " 'nucleotides_100g': 'float16',\n",
       " 'salt_100g': 'float16',\n",
       " 'sodium_100g': 'float16',\n",
       " 'alcohol_100g': 'float16',\n",
       " 'vitamin-a_100g': 'float16',\n",
       " 'beta-carotene_100g': 'float16',\n",
       " 'vitamin-d_100g': 'float16',\n",
       " 'vitamin-e_100g': 'float16',\n",
       " 'vitamin-k_100g': 'float16',\n",
       " 'vitamin-c_100g': 'float16',\n",
       " 'vitamin-b1_100g': 'float16',\n",
       " 'vitamin-b2_100g': 'float16',\n",
       " 'vitamin-pp_100g': 'float16',\n",
       " 'vitamin-b6_100g': 'float16',\n",
       " 'vitamin-b9_100g': 'float16',\n",
       " 'folates_100g': 'float16',\n",
       " 'vitamin-b12_100g': 'float16',\n",
       " 'biotin_100g': 'float16',\n",
       " 'pantothenic-acid_100g': 'float16',\n",
       " 'silica_100g': 'float16',\n",
       " 'bicarbonate_100g': 'float16',\n",
       " 'potassium_100g': 'float16',\n",
       " 'chloride_100g': 'float16',\n",
       " 'calcium_100g': 'float16',\n",
       " 'phosphorus_100g': 'float16',\n",
       " 'iron_100g': 'float16',\n",
       " 'magnesium_100g': 'float16',\n",
       " 'zinc_100g': 'float16',\n",
       " 'copper_100g': 'float16',\n",
       " 'manganese_100g': 'float16',\n",
       " 'fluoride_100g': 'float16',\n",
       " 'selenium_100g': 'float16',\n",
       " 'chromium_100g': 'float16',\n",
       " 'molybdenum_100g': 'float16',\n",
       " 'iodine_100g': 'float16',\n",
       " 'caffeine_100g': 'float16',\n",
       " 'taurine_100g': 'float16',\n",
       " 'ph_100g': 'float16',\n",
       " 'fruits-vegetables-nuts_100g': 'float16',\n",
       " 'fruits-vegetables-nuts-dried_100g': 'float16',\n",
       " 'fruits-vegetables-nuts-estimate_100g': 'float16',\n",
       " 'collagen-meat-protein-ratio_100g': 'float16',\n",
       " 'cocoa_100g': 'float16',\n",
       " 'chlorophyl_100g': 'float16',\n",
       " 'carbon-footprint_100g': 'float16',\n",
       " 'carbon-footprint-from-meat-or-fish_100g': 'float16',\n",
       " 'nutrition-score-fr_100g': 'float16',\n",
       " 'nutrition-score-uk_100g': 'float16',\n",
       " 'glycemic-index_100g': 'float16',\n",
       " 'water-hardness_100g': 'float16',\n",
       " 'choline_100g': 'float16',\n",
       " 'phylloquinone_100g': 'float16',\n",
       " 'beta-glucan_100g': 'float16',\n",
       " 'inositol_100g': 'float16',\n",
       " 'carnitine_100g': 'float16'}"
      ]
     },
     "execution_count": 10,
     "metadata": {},
     "output_type": "execute_result"
    }
   ],
   "source": [
    "# on ajoute ces spécifications au dictionnaire dtype existant\n",
    "for col_name in df_off.columns.values:\n",
    "    col = df_off[col_name]\n",
    "    if col.dtype == 'float64':\n",
    "        dtype[col_name] = 'float16'\n",
    "dtype"
   ]
  },
  {
   "cell_type": "code",
   "execution_count": 11,
   "metadata": {},
   "outputs": [
    {
     "name": "stdout",
     "output_type": "stream",
     "text": [
      "<class 'pandas.core.frame.DataFrame'>\n",
      "RangeIndex: 1110884 entries, 0 to 1110883\n",
      "Columns: 178 entries, code to carnitine_100g\n",
      "dtypes: category(19), float16(120), int64(2), object(37)\n",
      "memory usage: 2.7 GB\n"
     ]
    }
   ],
   "source": [
    "df_off = pd.read_csv(CSV_FILE, sep='\\t', dtype=dtype)\n",
    "df_off.info(memory_usage='deep')"
   ]
  },
  {
   "cell_type": "code",
   "execution_count": 12,
   "metadata": {},
   "outputs": [],
   "source": [
    "# TODO écrire le dtype final dans un fichier texte dans data/ , qu'on peut charger au début du notebook 2"
   ]
  },
  {
   "cell_type": "markdown",
   "metadata": {},
   "source": [
    "Nous avons réussi à diviser l'occupation mémoire par deux, de 5.4 Go à 2.7 Go, proche des 2.2 Go du jeu de données sur le disque dur."
   ]
  },
  {
   "cell_type": "markdown",
   "metadata": {},
   "source": [
    "Nous verrons dans le notebook suivant comment filtrer un jeu de données pour travailler sur un sous-ensemble."
   ]
  }
 ],
 "metadata": {
  "kernelspec": {
   "display_name": "Python 3",
   "language": "python",
   "name": "python3"
  },
  "language_info": {
   "codemirror_mode": {
    "name": "ipython",
    "version": 3
   },
   "file_extension": ".py",
   "mimetype": "text/x-python",
   "name": "python",
   "nbconvert_exporter": "python",
   "pygments_lexer": "ipython3",
   "version": "3.7.6"
  }
 },
 "nbformat": 4,
 "nbformat_minor": 2
}
