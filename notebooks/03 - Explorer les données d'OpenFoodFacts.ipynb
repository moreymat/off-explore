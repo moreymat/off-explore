{
 "cells": [
  {
   "cell_type": "markdown",
   "metadata": {},
   "source": [
    "# Explorer les données d'OpenFoodFacts\n",
    "\n",
    "Nous allons explorer le jeu de données d'OpenFoodFacts, filtré pour ne conserver que les produits vendus en France et les champs remplis pour au moins 1000 produits, dont les fiches sont marquées \"complètes\" et contiennent un nom de produit et une marque."
   ]
  },
  {
   "cell_type": "code",
   "execution_count": 1,
   "metadata": {},
   "outputs": [],
   "source": [
    "import pandas as pd"
   ]
  },
  {
   "cell_type": "code",
   "execution_count": 2,
   "metadata": {},
   "outputs": [],
   "source": [
    "# modifier le chemin vers le fichier CSV si nécessaire\n",
    "# ici on utilise le fichier filtré dans le notebook précédent\n",
    "CSV_FILE = '../data/off_subset.csv'"
   ]
  },
  {
   "cell_type": "code",
   "execution_count": 3,
   "metadata": {},
   "outputs": [
    {
     "data": {
      "text/plain": [
       "{'origins': 'category',\n",
       " 'origins_tags': 'category',\n",
       " 'first_packaging_code_geo': 'category',\n",
       " 'cities_tags': 'category',\n",
       " 'purchase_places': 'category',\n",
       " 'countries': 'category',\n",
       " 'countries_tags': 'category',\n",
       " 'countries_en': 'category',\n",
       " 'traces_tags': 'category',\n",
       " 'traces_en': 'category',\n",
       " 'additives': 'category',\n",
       " 'ingredients_from_palm_oil_tags': 'category',\n",
       " 'ingredients_that_may_be_from_palm_oil_tags': 'category',\n",
       " 'nutriscore_grade': 'category',\n",
       " 'pnns_groups_1': 'category',\n",
       " 'pnns_groups_2': 'category',\n",
       " 'states': 'category',\n",
       " 'states_tags': 'category',\n",
       " 'states_en': 'category',\n",
       " 'cities': 'float16',\n",
       " 'allergens_en': 'float16',\n",
       " 'serving_quantity': 'float16',\n",
       " 'no_nutriments': 'float16',\n",
       " 'additives_n': 'float16',\n",
       " 'ingredients_from_palm_oil_n': 'float16',\n",
       " 'ingredients_from_palm_oil': 'float16',\n",
       " 'ingredients_that_may_be_from_palm_oil_n': 'float16',\n",
       " 'ingredients_that_may_be_from_palm_oil': 'float16',\n",
       " 'nutriscore_score': 'float16',\n",
       " 'nova_group': 'float16',\n",
       " 'energy-kj_100g': 'float16',\n",
       " 'energy-kcal_100g': 'float16',\n",
       " 'energy_100g': 'float16',\n",
       " 'energy-from-fat_100g': 'float16',\n",
       " 'fat_100g': 'float16',\n",
       " 'saturated-fat_100g': 'float16',\n",
       " '-butyric-acid_100g': 'float16',\n",
       " '-caproic-acid_100g': 'float16',\n",
       " '-caprylic-acid_100g': 'float16',\n",
       " '-capric-acid_100g': 'float16',\n",
       " '-lauric-acid_100g': 'float16',\n",
       " '-myristic-acid_100g': 'float16',\n",
       " '-palmitic-acid_100g': 'float16',\n",
       " '-stearic-acid_100g': 'float16',\n",
       " '-arachidic-acid_100g': 'float16',\n",
       " '-behenic-acid_100g': 'float16',\n",
       " '-lignoceric-acid_100g': 'float16',\n",
       " '-cerotic-acid_100g': 'float16',\n",
       " '-montanic-acid_100g': 'float16',\n",
       " '-melissic-acid_100g': 'float16',\n",
       " 'monounsaturated-fat_100g': 'float16',\n",
       " 'polyunsaturated-fat_100g': 'float16',\n",
       " 'omega-3-fat_100g': 'float16',\n",
       " '-alpha-linolenic-acid_100g': 'float16',\n",
       " '-eicosapentaenoic-acid_100g': 'float16',\n",
       " '-docosahexaenoic-acid_100g': 'float16',\n",
       " 'omega-6-fat_100g': 'float16',\n",
       " '-linoleic-acid_100g': 'float16',\n",
       " '-arachidonic-acid_100g': 'float16',\n",
       " '-gamma-linolenic-acid_100g': 'float16',\n",
       " '-dihomo-gamma-linolenic-acid_100g': 'float16',\n",
       " 'omega-9-fat_100g': 'float16',\n",
       " '-oleic-acid_100g': 'float16',\n",
       " '-elaidic-acid_100g': 'float16',\n",
       " '-gondoic-acid_100g': 'float16',\n",
       " '-mead-acid_100g': 'float16',\n",
       " '-erucic-acid_100g': 'float16',\n",
       " '-nervonic-acid_100g': 'float16',\n",
       " 'trans-fat_100g': 'float16',\n",
       " 'cholesterol_100g': 'float16',\n",
       " 'carbohydrates_100g': 'float16',\n",
       " 'sugars_100g': 'float16',\n",
       " '-sucrose_100g': 'float16',\n",
       " '-glucose_100g': 'float16',\n",
       " '-fructose_100g': 'float16',\n",
       " '-lactose_100g': 'float16',\n",
       " '-maltose_100g': 'float16',\n",
       " '-maltodextrins_100g': 'float16',\n",
       " 'starch_100g': 'float16',\n",
       " 'polyols_100g': 'float16',\n",
       " 'fiber_100g': 'float16',\n",
       " 'proteins_100g': 'float16',\n",
       " 'casein_100g': 'float16',\n",
       " 'serum-proteins_100g': 'float16',\n",
       " 'nucleotides_100g': 'float16',\n",
       " 'salt_100g': 'float16',\n",
       " 'sodium_100g': 'float16',\n",
       " 'alcohol_100g': 'float16',\n",
       " 'vitamin-a_100g': 'float16',\n",
       " 'beta-carotene_100g': 'float16',\n",
       " 'vitamin-d_100g': 'float16',\n",
       " 'vitamin-e_100g': 'float16',\n",
       " 'vitamin-k_100g': 'float16',\n",
       " 'vitamin-c_100g': 'float16',\n",
       " 'vitamin-b1_100g': 'float16',\n",
       " 'vitamin-b2_100g': 'float16',\n",
       " 'vitamin-pp_100g': 'float16',\n",
       " 'vitamin-b6_100g': 'float16',\n",
       " 'vitamin-b9_100g': 'float16',\n",
       " 'folates_100g': 'float16',\n",
       " 'vitamin-b12_100g': 'float16',\n",
       " 'biotin_100g': 'float16',\n",
       " 'pantothenic-acid_100g': 'float16',\n",
       " 'silica_100g': 'float16',\n",
       " 'bicarbonate_100g': 'float16',\n",
       " 'potassium_100g': 'float16',\n",
       " 'chloride_100g': 'float16',\n",
       " 'calcium_100g': 'float16',\n",
       " 'phosphorus_100g': 'float16',\n",
       " 'iron_100g': 'float16',\n",
       " 'magnesium_100g': 'float16',\n",
       " 'zinc_100g': 'float16',\n",
       " 'copper_100g': 'float16',\n",
       " 'manganese_100g': 'float16',\n",
       " 'fluoride_100g': 'float16',\n",
       " 'selenium_100g': 'float16',\n",
       " 'chromium_100g': 'float16',\n",
       " 'molybdenum_100g': 'float16',\n",
       " 'iodine_100g': 'float16',\n",
       " 'caffeine_100g': 'float16',\n",
       " 'taurine_100g': 'float16',\n",
       " 'ph_100g': 'float16',\n",
       " 'fruits-vegetables-nuts_100g': 'float16',\n",
       " 'fruits-vegetables-nuts-dried_100g': 'float16',\n",
       " 'fruits-vegetables-nuts-estimate_100g': 'float16',\n",
       " 'collagen-meat-protein-ratio_100g': 'float16',\n",
       " 'cocoa_100g': 'float16',\n",
       " 'chlorophyl_100g': 'float16',\n",
       " 'carbon-footprint_100g': 'float16',\n",
       " 'carbon-footprint-from-meat-or-fish_100g': 'float16',\n",
       " 'nutrition-score-fr_100g': 'float16',\n",
       " 'nutrition-score-uk_100g': 'float16',\n",
       " 'glycemic-index_100g': 'float16',\n",
       " 'water-hardness_100g': 'float16',\n",
       " 'choline_100g': 'float16',\n",
       " 'phylloquinone_100g': 'float16',\n",
       " 'beta-glucan_100g': 'float16',\n",
       " 'inositol_100g': 'float16',\n",
       " 'carnitine_100g': 'float16'}"
      ]
     },
     "execution_count": 3,
     "metadata": {},
     "output_type": "execute_result"
    }
   ],
   "source": [
    "# on charge les types de données qu'on a spécifiés dans le notebook 1\n",
    "DTYPE_FILE = '../data/dtype.txt'\n",
    "with open(DTYPE_FILE) as f:\n",
    "    dtype = eval(f.read())\n",
    "dtype"
   ]
  },
  {
   "cell_type": "code",
   "execution_count": 4,
   "metadata": {},
   "outputs": [
    {
     "name": "stderr",
     "output_type": "stream",
     "text": [
      "/home/mathieu/miniconda3/envs/off-explore/lib/python3.7/site-packages/IPython/core/interactiveshell.py:3051: DtypeWarning: Columns (0) have mixed types. Specify dtype option on import or set low_memory=False.\n",
      "  interactivity=interactivity, compiler=compiler, result=result)\n"
     ]
    },
    {
     "name": "stdout",
     "output_type": "stream",
     "text": [
      "<class 'pandas.core.frame.DataFrame'>\n",
      "RangeIndex: 90738 entries, 0 to 90737\n",
      "Columns: 101 entries, code to nutrition-score-uk_100g\n",
      "dtypes: category(18), float16(44), int64(2), object(37)\n",
      "memory usage: 337.0 MB\n"
     ]
    }
   ],
   "source": [
    "df_off = pd.read_csv(CSV_FILE, sep='\\t', dtype=dtype)\n",
    "df_off.info(memory_usage='deep')"
   ]
  },
  {
   "cell_type": "markdown",
   "metadata": {},
   "source": [
    "## Exploration et nettoyage avec OpenRefine\n",
    "\n",
    "La méthode la plus simple pour explorer le contenu du jeu de données est d'utiliser un outil graphique comme OpenRefine, qui permet aussi et surtout de nettoyer un jeu de données de façon reproductible."
   ]
  },
  {
   "cell_type": "markdown",
   "metadata": {},
   "source": [
    "### Présentation et installation d'OpenRefine\n",
    "\n",
    "OpenRefine est un outil graphique, open source, pour travailler sur des jeux de données sales.\n",
    "Cet outil permet de nettoyer un jeu de données de façon semi-automatique, par itérations successives.\n",
    "OpenRefine stocke l'historique des opérations de nettoyage que vous appliquez et vous permet de l'exporter pour le rejouer, sur le même jeu de données ou sur une autre version de ce jeu de données.\n",
    "\n",
    "Je vous conseille de visionner les 3 captures vidéo de la documentation officielle, qui donne une bonne idée de ce que vous pouvez réaliser avec OpenRefine.\n",
    "https://github.com/OpenRefine/OpenRefine/wiki/Screencasts\n",
    "\n",
    "Vous pouvez télécharger OpenRefine depuis cette page :\n",
    "https://openrefine.org/download.html"
   ]
  },
  {
   "cell_type": "markdown",
   "metadata": {},
   "source": [
    "### Lancement d'OpenRefine\n",
    "Une fois que vous avez téléchargé et installé OpenRefine, vous pouvez ouvrir le fichier CSV filtré (tous les produits d'OpenFoodFacts distribués en France, restreint aux colonnes contenant plus de 1000 valeurs).\n",
    "\n",
    "Par défaut, OpenRefine s'alloue 1 Go de RAM, ce qui est insuffisant pour notre fichier.\n",
    "Il y a deux solutions:\n",
    "1. Allouer plus de RAM pour ouvrir le fichier ;\n",
    "2. Exporter en CSV un sous-ensemble plus restreint du jeu de données, contenant moins de lignes ou moins de colonnes."
   ]
  },
  {
   "cell_type": "markdown",
   "metadata": {},
   "source": [
    "#### Option 1: Allouer plus de RAM\n",
    "On modifie les paramètres de lancement d'OpenRefine: https://github.com/OpenRefine/OpenRefine/wiki/FAQ:-Allocate-More-Memory\n",
    "\n",
    "Par exemple :\n",
    "```sh\n",
    "# 4096 Mo = 4 Go de RAM\n",
    "./refine -m 4096m\n",
    "```"
   ]
  },
  {
   "cell_type": "markdown",
   "metadata": {},
   "source": [
    "#### Option 2: Exporter un sous-ensemble du jeu de données\n",
    "Nous allons exporter une fraction de l'ensemble de produits, par exemple les 900 premières fiches de produits laitiers ('en:dairies')."
   ]
  },
  {
   "cell_type": "code",
   "execution_count": 30,
   "metadata": {},
   "outputs": [
    {
     "name": "stdout",
     "output_type": "stream",
     "text": [
      "(900, 101)\n"
     ]
    }
   ],
   "source": [
    "# on prend les 900 premières fiches\n",
    "df_sub = df_off[df_off['categories_tags'].str.contains('en:dairies')][:900]\n",
    "print(df_sub.shape)\n",
    "# on fait un dump CSV du jeu de données filtré\n",
    "SEL_FILE = '../data/off_small.csv'\n",
    "df_sub.to_csv(SEL_FILE, sep='\\t', index=False)"
   ]
  },
  {
   "cell_type": "markdown",
   "metadata": {},
   "source": [
    "### Utilisation d'OpenRefine\n",
    "\n",
    "Ouvrir le fichier.\n",
    "\n",
    "Dans la fenêtre de configuration des options de parsing:\n",
    "- vérifier que le séparateur (tab), la ligne d'en-tête... sont correctement détectés ;\n",
    "- cocher la case \"Parse cell text into numbers, dates...\" pour mieux visualiser et manipuler ces types de données ;\n",
    "- appuyer sur \"create project\" (en haut à droite).\n",
    "\n",
    "L'import des données ne prend normalement que quelques secondes.\n",
    "Si le temps d'import estimé augmente et se compte en minutes, c'est que vous n'avez pas alloué suffisamment de RAM ou que vous essayez de charger un fichier trop gros (retour à l'option 1 ou 2 ci-dessus)."
   ]
  },
  {
   "cell_type": "markdown",
   "metadata": {},
   "source": [
    "Nous pouvons créer une facette pour examiner une colonne, par exemple la colonne contenant les marques.\n",
    "\n",
    "La facette met en évidence que parmi les plus de 60000 valeurs distinctes se trouvent de nombreuses variantes graphiques de la même marque.\n",
    "L'utilisation d'une méthode de clustering dans une facette permet de regrouper et fusionner ces variantes par paquets."
   ]
  },
  {
   "cell_type": "markdown",
   "metadata": {},
   "source": [
    "Par exemple, combien y a-t-il de variantes pour la marque \"Nos régions ont du talent, Leclerc\" ?"
   ]
  },
  {
   "cell_type": "markdown",
   "metadata": {},
   "source": [
    "Quelles sont les informations disponibles pour chaque cluster ?"
   ]
  },
  {
   "cell_type": "markdown",
   "metadata": {},
   "source": [
    "Pour la méthode de clustering \"key collision\":\n",
    "- Quelles \"keying functions\" sont disponibles?\n",
    "- Comment fonctionnent-elles?\n",
    "- Produisent-elles des clusterings similaires?\n",
    "- Pourquoi?"
   ]
  },
  {
   "cell_type": "markdown",
   "metadata": {},
   "source": [
    "## Exploration avec dirty_cat\n",
    "\n",
    "```sh\n",
    "# quand la version 0.0.6 sera sortie:\n",
    "# pip install --user dirty_cat\n",
    "# en attendant on installe depuis la pointe de la branche sur le dépôt github\n",
    "pip install --user -U git+git://github.com/dirty-cat/dirty_cat.git#egg=dirty_cat\n",
    "```\n",
    "\n",
    "https://dirty-cat.github.io/stable/auto_examples/01_investigating_dirty_categories.html"
   ]
  },
  {
   "cell_type": "code",
   "execution_count": 31,
   "metadata": {},
   "outputs": [
    {
     "data": {
      "text/plain": [
       "0% fat Greek style yogurt               1\n",
       "10 tranches Emmental français           1\n",
       "12 petits fromages de chèvre doux       1\n",
       "2 Clotted Cream Rice Puddings           1\n",
       "4 chèvre chauds                         1\n",
       "                                       ..\n",
       "yaourt 0,1% myrtille                    1\n",
       "yaourt au lait de brebis                1\n",
       "yaourt aux fruits                       1\n",
       "yaourt bio au lait de brebis nature.    1\n",
       "yaourt nature                           1\n",
       "Name: product_name, Length: 795, dtype: int64"
      ]
     },
     "execution_count": 31,
     "metadata": {},
     "output_type": "execute_result"
    }
   ],
   "source": [
    "df_sub['product_name'].value_counts().sort_index()"
   ]
  },
  {
   "cell_type": "code",
   "execution_count": 32,
   "metadata": {},
   "outputs": [],
   "source": [
    "sorted_values = df_sub['product_name'].sort_values().unique()"
   ]
  },
  {
   "cell_type": "code",
   "execution_count": 33,
   "metadata": {},
   "outputs": [
    {
     "data": {
      "text/plain": [
       "(795, 795)"
      ]
     },
     "execution_count": 33,
     "metadata": {},
     "output_type": "execute_result"
    }
   ],
   "source": [
    "from dirty_cat import SimilarityEncoder\n",
    "\n",
    "similarity_encoder = SimilarityEncoder(similarity='ngram')\n",
    "transformed_values = similarity_encoder.fit_transform(\n",
    "    sorted_values.reshape(-1, 1))\n",
    "transformed_values.shape"
   ]
  },
  {
   "cell_type": "markdown",
   "metadata": {},
   "source": [
    "Pour mieux comprendre la représentation créée par l'encodeur de similarité, nous pouvons afficher quelques noms de produits sur un graphe en 2 dimensions (en utilisant une méthode de réduction de dimensionalité!)."
   ]
  },
  {
   "cell_type": "code",
   "execution_count": 34,
   "metadata": {},
   "outputs": [
    {
     "name": "stdout",
     "output_type": "stream",
     "text": [
      "(795, 2)\n",
      "(795,)\n"
     ]
    }
   ],
   "source": [
    "from sklearn.manifold import MDS\n",
    "\n",
    "mds = MDS(dissimilarity='precomputed', n_init=10, random_state=42)\n",
    "two_dim_data = mds.fit_transform(\n",
    "    1 - transformed_values)  # transformed values lie\n",
    "# in the 0-1 range, so 1-transformed_value yields a positive dissimilarity matrix\n",
    "print(two_dim_data.shape)\n",
    "print(sorted_values.shape)"
   ]
  },
  {
   "cell_type": "markdown",
   "metadata": {},
   "source": [
    "On ajuste un modèle de k plus proches voisins (kNN) pour éviter de surcharger le graphe."
   ]
  },
  {
   "cell_type": "code",
   "execution_count": 41,
   "metadata": {},
   "outputs": [],
   "source": [
    "import numpy as np\n",
    "\n",
    "n_points = 5\n",
    "np.random.seed(43)\n",
    "from sklearn.neighbors import NearestNeighbors\n",
    "\n",
    "random_points = np.random.choice(len(similarity_encoder.categories_[0]),\n",
    "                                 n_points, replace=False)\n",
    "nn = NearestNeighbors(n_neighbors=2).fit(transformed_values)\n",
    "_, indices_ = nn.kneighbors(transformed_values[random_points])\n",
    "indices = np.unique(indices_.squeeze())"
   ]
  },
  {
   "cell_type": "markdown",
   "metadata": {},
   "source": [
    "Puis on dessine le graphe en ajoutant les catégories de départ (ici les noms de produits)."
   ]
  },
  {
   "cell_type": "code",
   "execution_count": 42,
   "metadata": {},
   "outputs": [
    {
     "data": {
      "text/plain": [
       "Text(0.5, 1.0, 'multi-dimensional-scaling representation using a 3gram similarity matrix')"
      ]
     },
     "execution_count": 42,
     "metadata": {},
     "output_type": "execute_result"
    },
    {
     "data": {
      "image/png": "[encoded data removed]",
      "text/plain": [
       "<Figure size 432x288 with 1 Axes>"
      ]
     },
     "metadata": {
      "needs_background": "light"
     },
     "output_type": "display_data"
    }
   ],
   "source": [
    "import matplotlib.pyplot as plt\n",
    "\n",
    "f, ax = plt.subplots()\n",
    "ax.scatter(x=two_dim_data[indices, 0], y=two_dim_data[indices, 1])\n",
    "# adding the legend\n",
    "for x in indices:\n",
    "    ax.text(x=two_dim_data[x, 0], y=two_dim_data[x, 1], s=sorted_values[x],\n",
    "            fontsize=8)\n",
    "ax.set_title(\n",
    "    'multi-dimensional-scaling representation using a 3gram similarity matrix')"
   ]
  },
  {
   "cell_type": "markdown",
   "metadata": {},
   "source": [
    "### Heatmap de la matrice de similarité\n",
    "\n",
    "Nous pouvons afficher la matrice de similarité pour ces observations."
   ]
  },
  {
   "cell_type": "code",
   "execution_count": 43,
   "metadata": {},
   "outputs": [
    {
     "data": {
      "image/png": "[encoded data removed]",
      "text/plain": [
       "<Figure size 432x432 with 2 Axes>"
      ]
     },
     "metadata": {
      "needs_background": "light"
     },
     "output_type": "display_data"
    }
   ],
   "source": [
    "f2, ax2 = plt.subplots(figsize=(6, 6))\n",
    "cax2 = ax2.matshow(transformed_values[indices, :][:, indices])\n",
    "ax2.set_yticks(np.arange(len(indices)))\n",
    "ax2.set_xticks(np.arange(len(indices)))\n",
    "ax2.set_yticklabels(sorted_values[indices], rotation='30')\n",
    "ax2.set_xticklabels(sorted_values[indices], rotation='60', ha='right')\n",
    "ax2.xaxis.tick_bottom()\n",
    "ax2.set_title('Similarities across categories')\n",
    "f2.colorbar(cax2)\n",
    "f2.tight_layout()"
   ]
  },
  {
   "cell_type": "markdown",
   "metadata": {},
   "source": [
    "## Geopandas\n",
    "\n",
    "Le champ `first_packaging_code_geo` contient des coordonnées géographiques.\n",
    "\n",
    "Il est donc possible de dessiner une carte avec `geopandas`:\n",
    "https://geopandas.readthedocs.io/en/latest/gallery/create_geopandas_from_pandas.html"
   ]
  },
  {
   "cell_type": "code",
   "execution_count": 5,
   "metadata": {},
   "outputs": [],
   "source": [
    "# TODO dessiner une carte à partir de first_packaging_code_geo"
   ]
  },
  {
   "cell_type": "markdown",
   "metadata": {},
   "source": [
    "## Exploration par facettes liées ?\n",
    "\n",
    "https://seaborn.pydata.org/tutorial/relational.html#showing-multiple-relationships-with-facets"
   ]
  },
  {
   "cell_type": "markdown",
   "metadata": {},
   "source": [
    "## Réduction de dimensionalité\n",
    "\n",
    "Nous utiliserons une implémentation efficace de t-SNE: [openTSNE](https://github.com/pavlin-policar/openTSNE/).\n",
    "\n",
    "```sh\n",
    "conda install --channel conda-forge opentsne\n",
    "```"
   ]
  },
  {
   "cell_type": "code",
   "execution_count": null,
   "metadata": {},
   "outputs": [],
   "source": []
  },
  {
   "cell_type": "code",
   "execution_count": null,
   "metadata": {},
   "outputs": [],
   "source": [
    "from openTSNE import TSNE\n",
    "df_nutri = df_sub[['']]\n",
    "embedding = TSNE().fit(x)"
   ]
  }
 ],
 "metadata": {
  "kernelspec": {
   "display_name": "Python 3",
   "language": "python",
   "name": "python3"
  },
  "language_info": {
   "codemirror_mode": {
    "name": "ipython",
    "version": 3
   },
   "file_extension": ".py",
   "mimetype": "text/x-python",
   "name": "python",
   "nbconvert_exporter": "python",
   "pygments_lexer": "ipython3",
   "version": "3.7.6"
  }
 },
 "nbformat": 4,
 "nbformat_minor": 2
}
