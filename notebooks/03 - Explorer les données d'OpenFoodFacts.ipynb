{
 "cells": [
  {
   "cell_type": "markdown",
   "metadata": {},
   "source": [
    "# Explorer les données d'OpenFoodFacts\n",
    "\n",
    "Nous allons explorer le jeu de données d'OpenFoodFacts, filtré pour ne conserver que les produits vendus en France et les champs remplis pour au moins 1000 produits."
   ]
  },
  {
   "cell_type": "code",
   "execution_count": 1,
   "metadata": {},
   "outputs": [],
   "source": [
    "import pandas as pd"
   ]
  },
  {
   "cell_type": "code",
   "execution_count": 2,
   "metadata": {},
   "outputs": [],
   "source": [
    "# modifier le chemin vers le fichier CSV si nécessaire\n",
    "# ici on utilise le fichier filtré dans le notebook précédent\n",
    "CSV_FILE = '../data/off_subset.csv'"
   ]
  },
  {
   "cell_type": "code",
   "execution_count": 3,
   "metadata": {},
   "outputs": [
    {
     "data": {
      "text/plain": [
       "{'origins': 'category',\n",
       " 'origins_tags': 'category',\n",
       " 'first_packaging_code_geo': 'category',\n",
       " 'cities_tags': 'category',\n",
       " 'purchase_places': 'category',\n",
       " 'countries': 'category',\n",
       " 'countries_tags': 'category',\n",
       " 'countries_en': 'category',\n",
       " 'traces_tags': 'category',\n",
       " 'traces_en': 'category',\n",
       " 'additives': 'category',\n",
       " 'ingredients_from_palm_oil_tags': 'category',\n",
       " 'ingredients_that_may_be_from_palm_oil_tags': 'category',\n",
       " 'nutriscore_grade': 'category',\n",
       " 'pnns_groups_1': 'category',\n",
       " 'pnns_groups_2': 'category',\n",
       " 'states': 'category',\n",
       " 'states_tags': 'category',\n",
       " 'states_en': 'category',\n",
       " 'cities': 'float16',\n",
       " 'allergens_en': 'float16',\n",
       " 'serving_quantity': 'float16',\n",
       " 'no_nutriments': 'float16',\n",
       " 'additives_n': 'float16',\n",
       " 'ingredients_from_palm_oil_n': 'float16',\n",
       " 'ingredients_from_palm_oil': 'float16',\n",
       " 'ingredients_that_may_be_from_palm_oil_n': 'float16',\n",
       " 'ingredients_that_may_be_from_palm_oil': 'float16',\n",
       " 'nutriscore_score': 'float16',\n",
       " 'nova_group': 'float16',\n",
       " 'energy-kj_100g': 'float16',\n",
       " 'energy-kcal_100g': 'float16',\n",
       " 'energy_100g': 'float16',\n",
       " 'energy-from-fat_100g': 'float16',\n",
       " 'fat_100g': 'float16',\n",
       " 'saturated-fat_100g': 'float16',\n",
       " '-butyric-acid_100g': 'float16',\n",
       " '-caproic-acid_100g': 'float16',\n",
       " '-caprylic-acid_100g': 'float16',\n",
       " '-capric-acid_100g': 'float16',\n",
       " '-lauric-acid_100g': 'float16',\n",
       " '-myristic-acid_100g': 'float16',\n",
       " '-palmitic-acid_100g': 'float16',\n",
       " '-stearic-acid_100g': 'float16',\n",
       " '-arachidic-acid_100g': 'float16',\n",
       " '-behenic-acid_100g': 'float16',\n",
       " '-lignoceric-acid_100g': 'float16',\n",
       " '-cerotic-acid_100g': 'float16',\n",
       " '-montanic-acid_100g': 'float16',\n",
       " '-melissic-acid_100g': 'float16',\n",
       " 'monounsaturated-fat_100g': 'float16',\n",
       " 'polyunsaturated-fat_100g': 'float16',\n",
       " 'omega-3-fat_100g': 'float16',\n",
       " '-alpha-linolenic-acid_100g': 'float16',\n",
       " '-eicosapentaenoic-acid_100g': 'float16',\n",
       " '-docosahexaenoic-acid_100g': 'float16',\n",
       " 'omega-6-fat_100g': 'float16',\n",
       " '-linoleic-acid_100g': 'float16',\n",
       " '-arachidonic-acid_100g': 'float16',\n",
       " '-gamma-linolenic-acid_100g': 'float16',\n",
       " '-dihomo-gamma-linolenic-acid_100g': 'float16',\n",
       " 'omega-9-fat_100g': 'float16',\n",
       " '-oleic-acid_100g': 'float16',\n",
       " '-elaidic-acid_100g': 'float16',\n",
       " '-gondoic-acid_100g': 'float16',\n",
       " '-mead-acid_100g': 'float16',\n",
       " '-erucic-acid_100g': 'float16',\n",
       " '-nervonic-acid_100g': 'float16',\n",
       " 'trans-fat_100g': 'float16',\n",
       " 'cholesterol_100g': 'float16',\n",
       " 'carbohydrates_100g': 'float16',\n",
       " 'sugars_100g': 'float16',\n",
       " '-sucrose_100g': 'float16',\n",
       " '-glucose_100g': 'float16',\n",
       " '-fructose_100g': 'float16',\n",
       " '-lactose_100g': 'float16',\n",
       " '-maltose_100g': 'float16',\n",
       " '-maltodextrins_100g': 'float16',\n",
       " 'starch_100g': 'float16',\n",
       " 'polyols_100g': 'float16',\n",
       " 'fiber_100g': 'float16',\n",
       " 'proteins_100g': 'float16',\n",
       " 'casein_100g': 'float16',\n",
       " 'serum-proteins_100g': 'float16',\n",
       " 'nucleotides_100g': 'float16',\n",
       " 'salt_100g': 'float16',\n",
       " 'sodium_100g': 'float16',\n",
       " 'alcohol_100g': 'float16',\n",
       " 'vitamin-a_100g': 'float16',\n",
       " 'beta-carotene_100g': 'float16',\n",
       " 'vitamin-d_100g': 'float16',\n",
       " 'vitamin-e_100g': 'float16',\n",
       " 'vitamin-k_100g': 'float16',\n",
       " 'vitamin-c_100g': 'float16',\n",
       " 'vitamin-b1_100g': 'float16',\n",
       " 'vitamin-b2_100g': 'float16',\n",
       " 'vitamin-pp_100g': 'float16',\n",
       " 'vitamin-b6_100g': 'float16',\n",
       " 'vitamin-b9_100g': 'float16',\n",
       " 'folates_100g': 'float16',\n",
       " 'vitamin-b12_100g': 'float16',\n",
       " 'biotin_100g': 'float16',\n",
       " 'pantothenic-acid_100g': 'float16',\n",
       " 'silica_100g': 'float16',\n",
       " 'bicarbonate_100g': 'float16',\n",
       " 'potassium_100g': 'float16',\n",
       " 'chloride_100g': 'float16',\n",
       " 'calcium_100g': 'float16',\n",
       " 'phosphorus_100g': 'float16',\n",
       " 'iron_100g': 'float16',\n",
       " 'magnesium_100g': 'float16',\n",
       " 'zinc_100g': 'float16',\n",
       " 'copper_100g': 'float16',\n",
       " 'manganese_100g': 'float16',\n",
       " 'fluoride_100g': 'float16',\n",
       " 'selenium_100g': 'float16',\n",
       " 'chromium_100g': 'float16',\n",
       " 'molybdenum_100g': 'float16',\n",
       " 'iodine_100g': 'float16',\n",
       " 'caffeine_100g': 'float16',\n",
       " 'taurine_100g': 'float16',\n",
       " 'ph_100g': 'float16',\n",
       " 'fruits-vegetables-nuts_100g': 'float16',\n",
       " 'fruits-vegetables-nuts-dried_100g': 'float16',\n",
       " 'fruits-vegetables-nuts-estimate_100g': 'float16',\n",
       " 'collagen-meat-protein-ratio_100g': 'float16',\n",
       " 'cocoa_100g': 'float16',\n",
       " 'chlorophyl_100g': 'float16',\n",
       " 'carbon-footprint_100g': 'float16',\n",
       " 'carbon-footprint-from-meat-or-fish_100g': 'float16',\n",
       " 'nutrition-score-fr_100g': 'float16',\n",
       " 'nutrition-score-uk_100g': 'float16',\n",
       " 'glycemic-index_100g': 'float16',\n",
       " 'water-hardness_100g': 'float16',\n",
       " 'choline_100g': 'float16',\n",
       " 'phylloquinone_100g': 'float16',\n",
       " 'beta-glucan_100g': 'float16',\n",
       " 'inositol_100g': 'float16',\n",
       " 'carnitine_100g': 'float16'}"
      ]
     },
     "execution_count": 3,
     "metadata": {},
     "output_type": "execute_result"
    }
   ],
   "source": [
    "# on charge les types de données qu'on a spécifiés dans le notebook 1\n",
    "DTYPE_FILE = '../data/dtype.txt'\n",
    "with open(DTYPE_FILE) as f:\n",
    "    dtype = eval(f.read())\n",
    "dtype"
   ]
  },
  {
   "cell_type": "code",
   "execution_count": 4,
   "metadata": {},
   "outputs": [
    {
     "name": "stderr",
     "output_type": "stream",
     "text": [
      "/home/mathieu/miniconda3/envs/off-explore/lib/python3.7/site-packages/IPython/core/interactiveshell.py:3051: DtypeWarning: Columns (0) have mixed types. Specify dtype option on import or set low_memory=False.\n",
      "  interactivity=interactivity, compiler=compiler, result=result)\n"
     ]
    },
    {
     "name": "stdout",
     "output_type": "stream",
     "text": [
      "<class 'pandas.core.frame.DataFrame'>\n",
      "RangeIndex: 643862 entries, 0 to 643861\n",
      "Columns: 101 entries, code to nutrition-score-uk_100g\n",
      "dtypes: category(18), float16(44), int64(2), object(37)\n",
      "memory usage: 1.6 GB\n"
     ]
    }
   ],
   "source": [
    "df_off = pd.read_csv(CSV_FILE, sep='\\t', dtype=dtype)\n",
    "df_off.info(memory_usage='deep')"
   ]
  },
  {
   "cell_type": "markdown",
   "metadata": {},
   "source": [
    "## Exploration et nettoyage avec OpenRefine\n",
    "\n",
    "La méthode la plus simple pour explorer le contenu du jeu de données est d'utiliser un outil graphique comme OpenRefine, qui permet aussi et surtout de nettoyer un jeu de données de façon reproductible."
   ]
  },
  {
   "cell_type": "markdown",
   "metadata": {},
   "source": [
    "### Présentation et installation d'OpenRefine\n",
    "\n",
    "OpenRefine est un outil graphique, open source, pour travailler sur des jeux de données sales.\n",
    "Cet outil permet de nettoyer un jeu de données de façon semi-automatique, par itérations successives.\n",
    "OpenRefine stocke l'historique des opérations de nettoyage que vous appliquez et vous permet de l'exporter pour le rejouer, sur le même jeu de données ou sur une autre version de ce jeu de données.\n",
    "\n",
    "Je vous conseille de visionner les 3 captures vidéo de la documentation officielle, qui donne une bonne idée de ce que vous pouvez réaliser avec OpenRefine.\n",
    "https://github.com/OpenRefine/OpenRefine/wiki/Screencasts\n",
    "\n",
    "Vous pouvez télécharger OpenRefine depuis cette page :\n",
    "https://openrefine.org/download.html"
   ]
  },
  {
   "cell_type": "markdown",
   "metadata": {},
   "source": [
    "### Lancement d'OpenRefine\n",
    "Une fois que vous avez téléchargé et installé OpenRefine, vous pouvez ouvrir le fichier CSV filtré (tous les produits d'OpenFoodFacts distribués en France, restreint aux colonnes contenant plus de 1000 valeurs).\n",
    "\n",
    "Par défaut, OpenRefine s'alloue 1 Go de RAM, ce qui est insuffisant pour notre fichier.\n",
    "Il y a deux solutions:\n",
    "1. Allouer plus de RAM pour ouvrir le fichier ;\n",
    "2. Exporter en CSV un sous-ensemble plus restreint du jeu de données, contenant moins de lignes ou moins de colonnes."
   ]
  },
  {
   "cell_type": "markdown",
   "metadata": {},
   "source": [
    "#### Option 1: Allouer plus de RAM\n",
    "On modifie les paramètres de lancement d'OpenRefine: https://github.com/OpenRefine/OpenRefine/wiki/FAQ:-Allocate-More-Memory\n",
    "\n",
    "Par exemple :\n",
    "```sh\n",
    "# 4096 Mo = 4 Go de RAM\n",
    "./refine -m 4096m\n",
    "```"
   ]
  },
  {
   "cell_type": "markdown",
   "metadata": {},
   "source": [
    "#### Option 2: Exporter un sous-ensemble du jeu de données\n",
    "Nous pouvons exporter une fraction de l'ensemble de produits, par exemple 70000 lignes correspondent à un peu plus de 10% des produits."
   ]
  },
  {
   "cell_type": "code",
   "execution_count": 6,
   "metadata": {},
   "outputs": [],
   "source": [
    "# on prend les 70000 premières lignes\n",
    "df_sub = df_off[:70000]\n",
    "# on fait un dump CSV du jeu de données filtré\n",
    "SEL_FILE = '../data/off_small.csv'\n",
    "df_sub.to_csv(SEL_FILE, sep='\\t', index=False)"
   ]
  },
  {
   "cell_type": "markdown",
   "metadata": {},
   "source": [
    "### Utilisation d'OpenRefine\n",
    "\n",
    "Ouvrir le fichier.\n",
    "\n",
    "Dans la fenêtre de configuration des options de parsing:\n",
    "- vérifier que le séparateur (tab), la ligne d'en-tête... sont correctement détectés ;\n",
    "- cocher la case \"Parse cell text into numbers, dates...\" pour mieux visualiser et manipuler ces types de données ;\n",
    "- appuyer sur \"create project\" (en haut à droite).\n",
    "\n",
    "L'import des données ne prend normalement que quelques secondes.\n",
    "Si le temps d'import estimé augmente et se compte en minutes, c'est que vous n'avez pas alloué suffisamment de RAM ou que vous essayez de charger un fichier trop gros (retour à l'option 1 ou 2 ci-dessus)."
   ]
  },
  {
   "cell_type": "markdown",
   "metadata": {},
   "source": [
    "Nous pouvons créer une facette pour examiner une colonne, par exemple la colonne contenant les marques.\n",
    "\n",
    "La facette met en évidence que parmi les plus de 60000 valeurs distinctes se trouvent de nombreuses variantes graphiques de la même marque.\n",
    "L'utilisation d'une méthode de clustering dans une facette permet de regrouper et fusionner ces variantes par paquets."
   ]
  },
  {
   "cell_type": "markdown",
   "metadata": {},
   "source": [
    "Par exemple, combien y a-t-il de variantes pour la marque \"Nos régions ont du talent, Leclerc\" ?"
   ]
  },
  {
   "cell_type": "markdown",
   "metadata": {},
   "source": [
    "Quelles sont les informations disponibles pour chaque cluster ?"
   ]
  },
  {
   "cell_type": "markdown",
   "metadata": {},
   "source": [
    "Pour la méthode de clustering \"key collision\":\n",
    "- Quelles \"keying functions\" sont disponibles?\n",
    "- Comment fonctionnent-elles?\n",
    "- Produisent-elles des clusterings similaires?\n",
    "- Pourquoi?"
   ]
  },
  {
   "cell_type": "markdown",
   "metadata": {},
   "source": [
    "## Exploration avec dirty_cat\n",
    "\n",
    "```sh\n",
    "pip install --user dirty_cat\n",
    "```\n",
    "\n",
    "https://dirty-cat.github.io/stable/auto_examples/01_investigating_dirty_categories.html"
   ]
  },
  {
   "cell_type": "code",
   "execution_count": 14,
   "metadata": {},
   "outputs": [
    {
     "data": {
      "text/plain": [
       "4 Pis                  1\n",
       "4 x 109g               1\n",
       "400 g                  1\n",
       "45                     1\n",
       "4TR                    1\n",
       "4U                     1\n",
       "4move                  1\n",
       "5 Gum                  3\n",
       "5 Oceans               3\n",
       "5 Océans               1\n",
       "50 ml                  1\n",
       "550g                   1\n",
       "555                    1\n",
       "555,Palais impérial    1\n",
       "5Gum                   3\n",
       "6                      1\n",
       "620g                   1\n",
       "7 Days                 8\n",
       "7 Days,Chipita         1\n",
       "7 UP                   1\n",
       "7 Up                   4\n",
       "7 days                 2\n",
       "7 up                   5\n",
       "7 up, 7up, Seven Up    1\n",
       "7 up,Seven-Up          1\n",
       "7/e                    1\n",
       "74cl                   1\n",
       "75 g                   1\n",
       "7D                     1\n",
       "7Gün                   1\n",
       "Name: brands, dtype: int64"
      ]
     },
     "execution_count": 14,
     "metadata": {},
     "output_type": "execute_result"
    }
   ],
   "source": [
    "df_off['brands'].value_counts().sort_index()[200:230]"
   ]
  },
  {
   "cell_type": "code",
   "execution_count": 17,
   "metadata": {},
   "outputs": [
    {
     "ename": "ModuleNotFoundError",
     "evalue": "No module named 'dirty_cat'",
     "output_type": "error",
     "traceback": [
      "\u001b[0;31m---------------------------------------------------------------------------\u001b[0m",
      "\u001b[0;31mModuleNotFoundError\u001b[0m                       Traceback (most recent call last)",
      "\u001b[0;32m<ipython-input-17-c7e3adc12a95>\u001b[0m in \u001b[0;36m<module>\u001b[0;34m\u001b[0m\n\u001b[1;32m      1\u001b[0m \u001b[0msorted_values\u001b[0m \u001b[0;34m=\u001b[0m \u001b[0mdf_off\u001b[0m\u001b[0;34m[\u001b[0m\u001b[0;34m'brands'\u001b[0m\u001b[0;34m]\u001b[0m\u001b[0;34m.\u001b[0m\u001b[0msort_values\u001b[0m\u001b[0;34m(\u001b[0m\u001b[0;34m)\u001b[0m\u001b[0;34m.\u001b[0m\u001b[0munique\u001b[0m\u001b[0;34m(\u001b[0m\u001b[0;34m)\u001b[0m\u001b[0;34m\u001b[0m\u001b[0;34m\u001b[0m\u001b[0m\n\u001b[1;32m      2\u001b[0m \u001b[0;34m\u001b[0m\u001b[0m\n\u001b[0;32m----> 3\u001b[0;31m \u001b[0;32mfrom\u001b[0m \u001b[0mdirty_cat\u001b[0m \u001b[0;32mimport\u001b[0m \u001b[0mSimilarityEncoder\u001b[0m\u001b[0;34m\u001b[0m\u001b[0;34m\u001b[0m\u001b[0m\n\u001b[0m\u001b[1;32m      4\u001b[0m \u001b[0;34m\u001b[0m\u001b[0m\n\u001b[1;32m      5\u001b[0m \u001b[0msimilarity_encoder\u001b[0m \u001b[0;34m=\u001b[0m \u001b[0mSimilarityEncoder\u001b[0m\u001b[0;34m(\u001b[0m\u001b[0msimilarity\u001b[0m\u001b[0;34m=\u001b[0m\u001b[0;34m'ngram'\u001b[0m\u001b[0;34m)\u001b[0m\u001b[0;34m\u001b[0m\u001b[0;34m\u001b[0m\u001b[0m\n",
      "\u001b[0;31mModuleNotFoundError\u001b[0m: No module named 'dirty_cat'"
     ]
    }
   ],
   "source": [
    "sorted_values = df_off['brands'].sort_values().unique()\n",
    "\n",
    "from dirty_cat import SimilarityEncoder\n",
    "\n",
    "similarity_encoder = SimilarityEncoder(similarity='ngram')\n",
    "transformed_values = similarity_encoder.fit_transform(\n",
    "    sorted_values.reshape(-1, 1))\n",
    "\n",
    "# TODO continuer"
   ]
  },
  {
   "cell_type": "markdown",
   "metadata": {},
   "source": [
    "## Geopandas\n",
    "\n",
    "Le champ `first_packaging_code_geo` contient des coordonnées géographiques.\n",
    "\n",
    "Il est donc possible de dessiner une carte avec `geopandas`:\n",
    "https://geopandas.readthedocs.io/en/latest/gallery/create_geopandas_from_pandas.html"
   ]
  },
  {
   "cell_type": "code",
   "execution_count": 5,
   "metadata": {},
   "outputs": [],
   "source": [
    "# TODO dessiner une carte à partir de first_packaging_code_geo"
   ]
  },
  {
   "cell_type": "markdown",
   "metadata": {},
   "source": [
    "## Exploration par facettes liées ?\n",
    "\n",
    "https://seaborn.pydata.org/tutorial/relational.html#showing-multiple-relationships-with-facets"
   ]
  },
  {
   "cell_type": "markdown",
   "metadata": {},
   "source": [
    "## Réduction de dimensionalité\n",
    "\n",
    "Nous utiliserons une implémentation efficace de t-SNE: [openTSNE](https://github.com/pavlin-policar/openTSNE/).\n",
    "\n",
    "```sh\n",
    "conda install --channel conda-forge opentsne\n",
    "```"
   ]
  },
  {
   "cell_type": "code",
   "execution_count": null,
   "metadata": {},
   "outputs": [],
   "source": []
  },
  {
   "cell_type": "code",
   "execution_count": null,
   "metadata": {},
   "outputs": [],
   "source": [
    "from openTSNE import TSNE\n",
    "\n",
    "embedding = TSNE().fit(x)"
   ]
  }
 ],
 "metadata": {
  "kernelspec": {
   "display_name": "Python 3",
   "language": "python",
   "name": "python3"
  },
  "language_info": {
   "codemirror_mode": {
    "name": "ipython",
    "version": 3
   },
   "file_extension": ".py",
   "mimetype": "text/x-python",
   "name": "python",
   "nbconvert_exporter": "python",
   "pygments_lexer": "ipython3",
   "version": "3.7.6"
  }
 },
 "nbformat": 4,
 "nbformat_minor": 2
}
