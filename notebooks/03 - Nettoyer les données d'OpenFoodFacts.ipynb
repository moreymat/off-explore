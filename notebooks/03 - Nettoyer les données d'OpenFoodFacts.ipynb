{
 "cells": [
  {
   "cell_type": "markdown",
   "metadata": {},
   "source": [
    "# Nettoyer les données d'Open Food Facts\n",
    "\n",
    "Nous allons explorer et nettoyer le jeu de données d'Open Food Facts, filtré dans le notebook précédent pour ne conserver que\n",
    "* les fiches de produits vendus en France,\n",
    "* les champs remplis pour au moins 1000 produits,\n",
    "* les fiches contenant un nom de produit et une marque,\n",
    "* les fiches marquées \"complètes\".\n",
    "\n",
    "L'application successive de ces filtres nous permet d'explorer un sous-ensemble du jeu de données de départ:\n",
    "XXXXX fiches avec XX champs sélectionnées parmi X.X millions de fiches avec XXX champs."
   ]
  },
  {
   "cell_type": "markdown",
   "metadata": {},
   "source": [
    "La méthode la plus simple pour explorer le contenu du jeu de données est d'utiliser un outil graphique comme OpenRefine, qui permet aussi et surtout de nettoyer un jeu de données de façon reproductible.\n",
    "\n",
    "OpenRefine étant plus adapté au travail sur des jeux de données un peu plus petits, nous commençons par sélectionner et exporter un sous-ensemble du jeu de données filtré."
   ]
  },
  {
   "cell_type": "markdown",
   "metadata": {},
   "source": [
    "## Sélection d'un sous-ensemble\n",
    "\n",
    "Si nous voulions améliorer méthodiquement la qualité des données d'Open Food Facts, le plus efficace serait de travailler indépendamment sur des sous-ensembles cohérents de lignes et de colonnes, puis de fusionner tous les sous-ensembles nettoyés pour produire une version propre du jeu de données.\n",
    "Pour cela, il faudrait créer plusieurs fichiers CSV contenant chacun un identifiant unique, ici le code-barres ou l'URL, ainsi qu'un petit nombre de colonnes liées entre elles, comme le nom, la marque et la quantité du produit, ou le nom, la marque et les valeurs nutritionnelles courantes."
   ]
  },
  {
   "cell_type": "markdown",
   "metadata": {},
   "source": [
    "Par manque de temps, nous n'allons pas être aussi méthodiques et nous allons simplement sélectionner 1000 fiches de produits laitiers."
   ]
  },
  {
   "cell_type": "code",
   "execution_count": 1,
   "metadata": {},
   "outputs": [],
   "source": [
    "import pandas as pd\n",
    "from pandas.api.types import CategoricalDtype"
   ]
  },
  {
   "cell_type": "code",
   "execution_count": 2,
   "metadata": {},
   "outputs": [],
   "source": [
    "# TODO modifier le chemin vers le fichier CSV si nécessaire\n",
    "# ici on utilise le fichier filtré dans le notebook précédent\n",
    "CSV_FILE = '../data/off_subset.csv'  # TODO chemin?"
   ]
  },
  {
   "cell_type": "code",
   "execution_count": 3,
   "metadata": {},
   "outputs": [],
   "source": [
    "# charger les types de données qu'on a spécifiés dans le notebook 1\n",
    "OFF_DTYPE_FILE = '../data/off_dtype.txt'  # TODO chemin?\n",
    "with open(OFF_DTYPE_FILE) as f:\n",
    "    off_dtype = eval(f.read())"
   ]
  },
  {
   "cell_type": "code",
   "execution_count": 1,
   "metadata": {},
   "outputs": [],
   "source": [
    "# charger les données\n"
   ]
  },
  {
   "cell_type": "code",
   "execution_count": 2,
   "metadata": {},
   "outputs": [],
   "source": [
    "# prendre les 1000 premières fiches de produits laitiers, utiliser .str.contains\n",
    "\n",
    "# puis faire un dump CSV du jeu de données filtré avec ces 1000 fiches\n"
   ]
  },
  {
   "cell_type": "markdown",
   "metadata": {},
   "source": [
    "## Présentation et installation d'OpenRefine\n",
    "\n",
    "OpenRefine est un outil graphique, open source, pour travailler sur des jeux de données sales.\n",
    "Cet outil permet de nettoyer un jeu de données de façon semi-automatique, par itérations successives.\n",
    "OpenRefine stocke l'historique des opérations de nettoyage que vous appliquez et vous permet de l'exporter pour le rejouer, sur le même jeu de données ou sur une autre version de ce jeu de données.\n",
    "\n",
    "Je vous conseille de visionner les 3 captures vidéo de la documentation officielle, qui donne une bonne idée de ce que vous pouvez réaliser avec OpenRefine.\n",
    "https://github.com/OpenRefine/OpenRefine/wiki/Screencasts\n",
    "\n",
    "Vous pouvez télécharger OpenRefine depuis cette page :\n",
    "https://openrefine.org/download.html"
   ]
  },
  {
   "cell_type": "markdown",
   "metadata": {},
   "source": [
    "## Lancement d'OpenRefine\n",
    "\n",
    "Une fois que vous avez téléchargé et installé OpenRefine, vous pouvez ouvrir un fichier CSV, ici l'export du sous-ensemble de données réalisé précédemment.\n",
    "\n",
    "Par défaut, OpenRefine s'alloue 1 Go de RAM, ce qui peut se réléver insuffisant.\n",
    "Il faut alors modifier les paramètres de lancement d'OpenRefine pour lui allouer plus de RAM : https://github.com/OpenRefine/OpenRefine/wiki/FAQ:-Allocate-More-Memory\n",
    "\n",
    "Par exemple sous linux :\n",
    "```sh\n",
    "# 4096 Mo = 4 Go de RAM\n",
    "./refine -m 4096m\n",
    "```"
   ]
  },
  {
   "cell_type": "markdown",
   "metadata": {},
   "source": [
    "## Utilisation d'OpenRefine\n",
    "\n",
    "Ouvrir le fichier.\n",
    "\n",
    "Dans la fenêtre de configuration des options de parsing:\n",
    "- vérifier que le séparateur (tab), la ligne d'en-tête... sont correctement détectés ;\n",
    "- cocher la case \"Parse cell text into numbers, dates...\" pour mieux visualiser et manipuler ces types de données ;\n",
    "- appuyer sur \"create project\" (en haut à droite).\n",
    "\n",
    "L'import des données ne prend normalement que quelques secondes.\n",
    "\n",
    "Si le temps d'import estimé augmente et se compte en minutes, c'est que vous n'avez pas alloué suffisamment de RAM ou que vous essayez de charger un fichier trop gros (retour aux étapes précédentes)."
   ]
  },
  {
   "cell_type": "markdown",
   "metadata": {},
   "source": [
    "Nous pouvons créer une facette pour examiner une colonne, par exemple la colonne contenant les marques.\n",
    "\n",
    "La facette met en évidence que le jeu de données contient de nombreuses variantes de graphie pour certaines marques.\n",
    "L'utilisation d'une méthode de clustering dans une facette permet de regrouper et fusionner ces variantes par paquets."
   ]
  },
  {
   "cell_type": "markdown",
   "metadata": {},
   "source": [
    "Par exemple, combien y a-t-il de variantes pour la marque \"Nos régions ont du talent, Leclerc\" ?"
   ]
  },
  {
   "cell_type": "markdown",
   "metadata": {},
   "source": []
  },
  {
   "cell_type": "markdown",
   "metadata": {},
   "source": [
    "Quelles sont les informations disponibles pour chaque cluster ?"
   ]
  },
  {
   "cell_type": "markdown",
   "metadata": {},
   "source": []
  },
  {
   "cell_type": "markdown",
   "metadata": {},
   "source": [
    "Pour la méthode de clustering \"key collision\", quelles \"keying functions\" sont disponibles?"
   ]
  },
  {
   "cell_type": "markdown",
   "metadata": {},
   "source": []
  },
  {
   "cell_type": "markdown",
   "metadata": {},
   "source": [
    "Comment fonctionnent-elles?"
   ]
  },
  {
   "cell_type": "markdown",
   "metadata": {},
   "source": []
  },
  {
   "cell_type": "markdown",
   "metadata": {},
   "source": [
    "Produisent-elles des clusterings similaires?"
   ]
  },
  {
   "cell_type": "markdown",
   "metadata": {},
   "source": []
  },
  {
   "cell_type": "markdown",
   "metadata": {},
   "source": [
    "Pourquoi?"
   ]
  },
  {
   "cell_type": "markdown",
   "metadata": {},
   "source": []
  },
  {
   "cell_type": "markdown",
   "metadata": {},
   "source": [
    "L'historique des opérations de nettoyage, comme l'harmonisation de valeurs par clustering, peut être exporté afin d'être appliqué à un autre sous-ensemble du même jeu de données, ou à une version ultérieure du même jeu de données.\n",
    "\n",
    "Copiez-collez ici l'historique des opérations que vous avez appliquées."
   ]
  },
  {
   "cell_type": "code",
   "execution_count": null,
   "metadata": {},
   "outputs": [],
   "source": []
  }
 ],
 "metadata": {
  "kernelspec": {
   "display_name": "Python 3 (ipykernel)",
   "language": "python",
   "name": "python3"
  },
  "language_info": {
   "codemirror_mode": {
    "name": "ipython",
    "version": 3
   },
   "file_extension": ".py",
   "mimetype": "text/x-python",
   "name": "python",
   "nbconvert_exporter": "python",
   "pygments_lexer": "ipython3",
   "version": "3.8.12"
  }
 },
 "nbformat": 4,
 "nbformat_minor": 4
}
