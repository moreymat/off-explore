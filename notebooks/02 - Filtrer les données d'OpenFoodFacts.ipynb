{
 "cells": [
  {
   "cell_type": "markdown",
   "metadata": {},
   "source": [
    "# Filtrer les données d'OpenFoodFacts"
   ]
  },
  {
   "cell_type": "markdown",
   "metadata": {},
   "source": [
    "Dans ce notebook, nous allons filtrer les données d'OpenFoodFacts pour pouvoir les exploiter.\n",
    "\n",
    "La base de données OpenFoodFacts est ouverte à toutes les contributions, même incomplètes, et sans restriction géographique (produits vendus dans certains pays seulement).\n",
    "Un filtrage sur les lignes nous permettra de ne conserver que les produits vendus en France et dont la fiche est suffisamment remplie."
   ]
  },
  {
   "cell_type": "markdown",
   "metadata": {},
   "source": [
    "Nous pouvons charger les données d'OpenFoodFacts avec les optimisations du notebook précédent."
   ]
  },
  {
   "cell_type": "code",
   "execution_count": 1,
   "metadata": {},
   "outputs": [],
   "source": [
    "import pandas as pd\n",
    "# pour les graphes\n",
    "import seaborn as sns\n",
    "sns.set()"
   ]
  },
  {
   "cell_type": "code",
   "execution_count": 10,
   "metadata": {},
   "outputs": [],
   "source": [
    "# TODO modifier le chemin vers le fichier CSV si nécessaire\n",
    "CSV_FILE = '../data/en.openfoodfacts.org.products.csv'"
   ]
  },
  {
   "cell_type": "code",
   "execution_count": 14,
   "metadata": {},
   "outputs": [
    {
     "data": {
      "text/plain": [
       "[('origins', 'category'),\n",
       " ('origins_tags', 'category'),\n",
       " ('first_packaging_code_geo', 'category'),\n",
       " ('cities_tags', 'category'),\n",
       " ('purchase_places', 'category')]"
      ]
     },
     "execution_count": 14,
     "metadata": {},
     "output_type": "execute_result"
    }
   ],
   "source": [
    "# charger les types de données qu'on a spécifiés et exportés dans le notebook 1\n",
    "DTYPE_FILE = '../data/dtype.txt'  # TODO chemin?\n",
    "with open(DTYPE_FILE) as f:\n",
    "    dtype = eval(f.read())\n",
    "# pour vérification, on affiche les types de données explicites\n",
    "list(dtype.items())[:5]"
   ]
  },
  {
   "cell_type": "code",
   "execution_count": 1,
   "metadata": {},
   "outputs": [],
   "source": [
    "# TODO charger le fichier CSV : toutes les lignes, colonnes utilisables, types de données spécifiés"
   ]
  },
  {
   "cell_type": "markdown",
   "metadata": {},
   "source": [
    "## Produits vendus en France"
   ]
  },
  {
   "cell_type": "markdown",
   "metadata": {},
   "source": [
    "Quels sont le ou les champs contenant cette information?"
   ]
  },
  {
   "cell_type": "markdown",
   "metadata": {},
   "source": []
  },
  {
   "cell_type": "markdown",
   "metadata": {},
   "source": [
    "Nous allons créer un masque sur les lignes du DataFrame :\n",
    "`True` si le produit est vendu en France, `False` sinon.\n",
    "\n",
    "La méthode [.str.contains()](https://pandas.pydata.org/pandas-docs/stable/reference/api/pandas.Series.str.contains.html) permet de chercher une sous-chaîne dans une colonne de chaînes de caractères : "
   ]
  },
  {
   "cell_type": "code",
   "execution_count": 3,
   "metadata": {},
   "outputs": [],
   "source": [
    "# créer un masque pour filtrer les produits vendus en France\n"
   ]
  },
  {
   "cell_type": "markdown",
   "metadata": {},
   "source": [
    "Nous pouvons maintenant connaître le nombre de produits vendus en France."
   ]
  },
  {
   "cell_type": "code",
   "execution_count": 4,
   "metadata": {},
   "outputs": [],
   "source": [
    "# utiliser value_counts() ou describe()\n"
   ]
  },
  {
   "cell_type": "markdown",
   "metadata": {},
   "source": [
    "Nous allons nous concentrer sur ce sous-ensemble des données en ne conservant que les lignes correspondantes dans le DataFrame."
   ]
  },
  {
   "cell_type": "code",
   "execution_count": 6,
   "metadata": {},
   "outputs": [],
   "source": [
    "# appliquer le masque au DataFrame pour filtrer ses lignes\n"
   ]
  },
  {
   "cell_type": "markdown",
   "metadata": {},
   "source": [
    "## Fiches de qualité suffisante\n",
    "\n",
    "Toutes (ou presque toutes?) les bases de données de grande taille souffrent de problèmes de qualité : incohérences entre valeurs, valeurs manquantes, erreurs...\n",
    "Les bases de données contributives, étant alimentées par de nombreux fournisseurs, sont particulièrement sujettes à ces problèmes.\n",
    "Il est de bonne pratique d'écarter les entrées que nous suspectons d'être incomplètes ou de mauvaise qualité, afin d'éviter que ces entrées n'agissent comme des anomalies (*outliers*) qui compromettent l'analyse ou l'entraînent vers des conclusions erronées.\n",
    "\n",
    "De nombreuses fiches produits dans OpenFoodFacts ne sont remplies que très partiellement.\n",
    "Un premier filtre assez simple consiste à ne conserver que les fiches où le nom et la marque du produit sont renseignés.\n",
    "Les fiches ne répondant pas à critère peuvent être écartées avec [dropna()](https://pandas.pydata.org/pandas-docs/stable/reference/api/pandas.DataFrame.dropna.html)."
   ]
  },
  {
   "cell_type": "code",
   "execution_count": 7,
   "metadata": {},
   "outputs": [],
   "source": [
    "# écarter les lignes où le nom ou la marque manque\n"
   ]
  },
  {
   "cell_type": "markdown",
   "metadata": {},
   "source": [
    "À chaque fiche produit d'OpenFoodFacts sont associées une ou plusieurs étiquettes d'états ('states') qui décrivent le niveau de complétude et de qualité des données de la fiche.\n",
    "\n",
    "Quels sont ces états? À quoi correspondent-ils?"
   ]
  },
  {
   "cell_type": "code",
   "execution_count": null,
   "metadata": {},
   "outputs": [],
   "source": []
  },
  {
   "cell_type": "markdown",
   "metadata": {},
   "source": [
    "Sur quelle(s) pages ou dans quel(s) fichier(s) avez-vous trouvé ces informations?"
   ]
  },
  {
   "cell_type": "code",
   "execution_count": null,
   "metadata": {},
   "outputs": [],
   "source": []
  },
  {
   "cell_type": "markdown",
   "metadata": {},
   "source": [
    "Nous ne conserverons que les entrées marquées \"complètes\".\n",
    "Filtrez les données en utilisant [.str.contains()](https://pandas.pydata.org/pandas-docs/stable/reference/api/pandas.Series.str.contains.html)."
   ]
  },
  {
   "cell_type": "code",
   "execution_count": 8,
   "metadata": {},
   "outputs": [],
   "source": [
    "# conserver les fiches complètes\n"
   ]
  },
  {
   "cell_type": "markdown",
   "metadata": {},
   "source": [
    "## Export du jeu de données filtré\n",
    "\n",
    "Nous avons maintenant un jeu de données de dimensions plus modestes, en nombre de colonnes et de lignes.\n",
    "Nous pouvons l'exporter dans un fichier CSV avec [to_csv()](https://pandas.pydata.org/pandas-docs/stable/reference/api/pandas.DataFrame.to_csv.html?highlight=to_csv#pandas.DataFrame.to_csv), afin de pouvoir l'explorer plus facilement dans les prochains notebooks."
   ]
  },
  {
   "cell_type": "code",
   "execution_count": 9,
   "metadata": {},
   "outputs": [],
   "source": [
    "# faire un dump CSV du jeu de données filtré\n"
   ]
  }
 ],
 "metadata": {
  "kernelspec": {
   "display_name": "Python 3",
   "language": "python",
   "name": "python3"
  },
  "language_info": {
   "codemirror_mode": {
    "name": "ipython",
    "version": 3
   },
   "file_extension": ".py",
   "mimetype": "text/x-python",
   "name": "python",
   "nbconvert_exporter": "python",
   "pygments_lexer": "ipython3",
   "version": "3.8.6"
  }
 },
 "nbformat": 4,
 "nbformat_minor": 4
}
