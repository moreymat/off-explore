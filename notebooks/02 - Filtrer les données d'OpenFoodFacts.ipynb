{
 "cells": [
  {
   "cell_type": "markdown",
   "metadata": {},
   "source": [
    "# Filtrer les données d'OpenFoodFacts"
   ]
  },
  {
   "cell_type": "markdown",
   "metadata": {},
   "source": [
    "Dans ce notebook, nous allons filtrer les données d'OpenFoodFacts selon différents critères, sur les lignes et les colonnes :\n",
    "* La base de données OpenFoodFacts est ouverte à toutes les contributions, même incomplètes, et sans restriction géographique (produits vendus dans certains pays seulement). Un filtrage sur les lignes nous permettra de ne conserver que les produits vendus en France et dont la fiche est suffisamment remplie.\n",
    "* Le modèle de données d'OpenFoodFacts est très complet et inclut de nombreux champs dont la valeur n'est directement renseignée que sur une minorité d'emballages, ou dont la valeur n'est pas directement calculable à partir des données contenues sur l'emballage. Un filtrage sur les colonnes nous permettra de ne conserver que les champs dont la valeur est remplie sur suffisamment de fiches.\n",
    "\n",
    "Notez que pour d'autres cas d'usage, il peut être intéressant de ne pas appliquer de filtres aussi restrictifs pour travailler sur un plus grand nombre de fiches produits, éventuellement en inférant les valeurs manquantes.\n",
    "\n",
    "Le site d'OpenFoodFacts fournit une documentation éparse, dont un fichier de description des champs du jeu de données : https://static.openfoodfacts.org/data/data-fields.txt"
   ]
  },
  {
   "cell_type": "markdown",
   "metadata": {},
   "source": [
    "Nous pouvons charger les données d'OpenFoodFacts avec les optimisations du notebook précédent."
   ]
  },
  {
   "cell_type": "code",
   "execution_count": 1,
   "metadata": {},
   "outputs": [],
   "source": [
    "import pandas as pd\n",
    "# pour les graphes\n",
    "import seaborn as sns\n",
    "sns.set()"
   ]
  },
  {
   "cell_type": "code",
   "execution_count": 2,
   "metadata": {},
   "outputs": [],
   "source": [
    "# modifier le chemin vers le fichier CSV si nécessaire\n",
    "CSV_FILE = '../data/en.openfoodfacts.org.products.csv'"
   ]
  },
  {
   "cell_type": "code",
   "execution_count": 3,
   "metadata": {},
   "outputs": [
    {
     "data": {
      "text/plain": [
       "{'origins': 'category',\n",
       " 'origins_tags': 'category',\n",
       " 'first_packaging_code_geo': 'category',\n",
       " 'cities_tags': 'category',\n",
       " 'purchase_places': 'category',\n",
       " 'countries': 'category',\n",
       " 'countries_tags': 'category',\n",
       " 'countries_en': 'category',\n",
       " 'traces_tags': 'category',\n",
       " 'traces_en': 'category',\n",
       " 'additives': 'category',\n",
       " 'ingredients_from_palm_oil_tags': 'category',\n",
       " 'ingredients_that_may_be_from_palm_oil_tags': 'category',\n",
       " 'nutriscore_grade': 'category',\n",
       " 'pnns_groups_1': 'category',\n",
       " 'pnns_groups_2': 'category',\n",
       " 'states': 'category',\n",
       " 'states_tags': 'category',\n",
       " 'states_en': 'category',\n",
       " 'cities': 'float16',\n",
       " 'allergens_en': 'float16',\n",
       " 'serving_quantity': 'float16',\n",
       " 'no_nutriments': 'float16',\n",
       " 'additives_n': 'float16',\n",
       " 'ingredients_from_palm_oil_n': 'float16',\n",
       " 'ingredients_from_palm_oil': 'float16',\n",
       " 'ingredients_that_may_be_from_palm_oil_n': 'float16',\n",
       " 'ingredients_that_may_be_from_palm_oil': 'float16',\n",
       " 'nutriscore_score': 'float16',\n",
       " 'nova_group': 'float16',\n",
       " 'energy-kj_100g': 'float16',\n",
       " 'energy-kcal_100g': 'float16',\n",
       " 'energy_100g': 'float16',\n",
       " 'energy-from-fat_100g': 'float16',\n",
       " 'fat_100g': 'float16',\n",
       " 'saturated-fat_100g': 'float16',\n",
       " '-butyric-acid_100g': 'float16',\n",
       " '-caproic-acid_100g': 'float16',\n",
       " '-caprylic-acid_100g': 'float16',\n",
       " '-capric-acid_100g': 'float16',\n",
       " '-lauric-acid_100g': 'float16',\n",
       " '-myristic-acid_100g': 'float16',\n",
       " '-palmitic-acid_100g': 'float16',\n",
       " '-stearic-acid_100g': 'float16',\n",
       " '-arachidic-acid_100g': 'float16',\n",
       " '-behenic-acid_100g': 'float16',\n",
       " '-lignoceric-acid_100g': 'float16',\n",
       " '-cerotic-acid_100g': 'float16',\n",
       " '-montanic-acid_100g': 'float16',\n",
       " '-melissic-acid_100g': 'float16',\n",
       " 'monounsaturated-fat_100g': 'float16',\n",
       " 'polyunsaturated-fat_100g': 'float16',\n",
       " 'omega-3-fat_100g': 'float16',\n",
       " '-alpha-linolenic-acid_100g': 'float16',\n",
       " '-eicosapentaenoic-acid_100g': 'float16',\n",
       " '-docosahexaenoic-acid_100g': 'float16',\n",
       " 'omega-6-fat_100g': 'float16',\n",
       " '-linoleic-acid_100g': 'float16',\n",
       " '-arachidonic-acid_100g': 'float16',\n",
       " '-gamma-linolenic-acid_100g': 'float16',\n",
       " '-dihomo-gamma-linolenic-acid_100g': 'float16',\n",
       " 'omega-9-fat_100g': 'float16',\n",
       " '-oleic-acid_100g': 'float16',\n",
       " '-elaidic-acid_100g': 'float16',\n",
       " '-gondoic-acid_100g': 'float16',\n",
       " '-mead-acid_100g': 'float16',\n",
       " '-erucic-acid_100g': 'float16',\n",
       " '-nervonic-acid_100g': 'float16',\n",
       " 'trans-fat_100g': 'float16',\n",
       " 'cholesterol_100g': 'float16',\n",
       " 'carbohydrates_100g': 'float16',\n",
       " 'sugars_100g': 'float16',\n",
       " '-sucrose_100g': 'float16',\n",
       " '-glucose_100g': 'float16',\n",
       " '-fructose_100g': 'float16',\n",
       " '-lactose_100g': 'float16',\n",
       " '-maltose_100g': 'float16',\n",
       " '-maltodextrins_100g': 'float16',\n",
       " 'starch_100g': 'float16',\n",
       " 'polyols_100g': 'float16',\n",
       " 'fiber_100g': 'float16',\n",
       " 'proteins_100g': 'float16',\n",
       " 'casein_100g': 'float16',\n",
       " 'serum-proteins_100g': 'float16',\n",
       " 'nucleotides_100g': 'float16',\n",
       " 'salt_100g': 'float16',\n",
       " 'sodium_100g': 'float16',\n",
       " 'alcohol_100g': 'float16',\n",
       " 'vitamin-a_100g': 'float16',\n",
       " 'beta-carotene_100g': 'float16',\n",
       " 'vitamin-d_100g': 'float16',\n",
       " 'vitamin-e_100g': 'float16',\n",
       " 'vitamin-k_100g': 'float16',\n",
       " 'vitamin-c_100g': 'float16',\n",
       " 'vitamin-b1_100g': 'float16',\n",
       " 'vitamin-b2_100g': 'float16',\n",
       " 'vitamin-pp_100g': 'float16',\n",
       " 'vitamin-b6_100g': 'float16',\n",
       " 'vitamin-b9_100g': 'float16',\n",
       " 'folates_100g': 'float16',\n",
       " 'vitamin-b12_100g': 'float16',\n",
       " 'biotin_100g': 'float16',\n",
       " 'pantothenic-acid_100g': 'float16',\n",
       " 'silica_100g': 'float16',\n",
       " 'bicarbonate_100g': 'float16',\n",
       " 'potassium_100g': 'float16',\n",
       " 'chloride_100g': 'float16',\n",
       " 'calcium_100g': 'float16',\n",
       " 'phosphorus_100g': 'float16',\n",
       " 'iron_100g': 'float16',\n",
       " 'magnesium_100g': 'float16',\n",
       " 'zinc_100g': 'float16',\n",
       " 'copper_100g': 'float16',\n",
       " 'manganese_100g': 'float16',\n",
       " 'fluoride_100g': 'float16',\n",
       " 'selenium_100g': 'float16',\n",
       " 'chromium_100g': 'float16',\n",
       " 'molybdenum_100g': 'float16',\n",
       " 'iodine_100g': 'float16',\n",
       " 'caffeine_100g': 'float16',\n",
       " 'taurine_100g': 'float16',\n",
       " 'ph_100g': 'float16',\n",
       " 'fruits-vegetables-nuts_100g': 'float16',\n",
       " 'fruits-vegetables-nuts-dried_100g': 'float16',\n",
       " 'fruits-vegetables-nuts-estimate_100g': 'float16',\n",
       " 'collagen-meat-protein-ratio_100g': 'float16',\n",
       " 'cocoa_100g': 'float16',\n",
       " 'chlorophyl_100g': 'float16',\n",
       " 'carbon-footprint_100g': 'float16',\n",
       " 'carbon-footprint-from-meat-or-fish_100g': 'float16',\n",
       " 'nutrition-score-fr_100g': 'float16',\n",
       " 'nutrition-score-uk_100g': 'float16',\n",
       " 'glycemic-index_100g': 'float16',\n",
       " 'water-hardness_100g': 'float16',\n",
       " 'choline_100g': 'float16',\n",
       " 'phylloquinone_100g': 'float16',\n",
       " 'beta-glucan_100g': 'float16',\n",
       " 'inositol_100g': 'float16',\n",
       " 'carnitine_100g': 'float16'}"
      ]
     },
     "execution_count": 3,
     "metadata": {},
     "output_type": "execute_result"
    }
   ],
   "source": [
    "# on charge les types de données qu'on a spécifiés dans le notebook 1\n",
    "DTYPE_FILE = '../data/dtype.txt'\n",
    "with open(DTYPE_FILE) as f:\n",
    "    dtype = eval(f.read())\n",
    "# pour rappel, on affiche les types de données explicites\n",
    "dtype"
   ]
  },
  {
   "cell_type": "code",
   "execution_count": 4,
   "metadata": {},
   "outputs": [
    {
     "name": "stderr",
     "output_type": "stream",
     "text": [
      "/home/mathieu/miniconda3/envs/off-explore/lib/python3.7/site-packages/IPython/core/interactiveshell.py:3051: DtypeWarning: Columns (0,24,25) have mixed types. Specify dtype option on import or set low_memory=False.\n",
      "  interactivity=interactivity, compiler=compiler, result=result)\n"
     ]
    },
    {
     "name": "stdout",
     "output_type": "stream",
     "text": [
      "<class 'pandas.core.frame.DataFrame'>\n",
      "RangeIndex: 1110884 entries, 0 to 1110883\n",
      "Columns: 178 entries, code to carnitine_100g\n",
      "dtypes: category(19), float16(120), int64(2), object(37)\n",
      "memory usage: 2.7 GB\n"
     ]
    }
   ],
   "source": [
    "df_off = pd.read_csv(CSV_FILE, sep='\\t', dtype=dtype)\n",
    "df_off.info(memory_usage='deep')"
   ]
  },
  {
   "cell_type": "markdown",
   "metadata": {},
   "source": [
    "## Sélection de lignes : produits vendus en France"
   ]
  },
  {
   "cell_type": "markdown",
   "metadata": {},
   "source": [
    "Quels sont le ou les champs contenant cette information?"
   ]
  },
  {
   "cell_type": "markdown",
   "metadata": {},
   "source": []
  },
  {
   "cell_type": "markdown",
   "metadata": {},
   "source": [
    "Nous allons créer un masque sur les lignes du DataFrame :\n",
    "`True` si le produit est vendu en France, `False` sinon.\n",
    "\n",
    "La méthode '.str.contains()' permet de chercher une sous-chaîne dans une colonne de chaînes de caractères : https://pandas.pydata.org/pandas-docs/stable/reference/api/pandas.Series.str.contains.html"
   ]
  },
  {
   "cell_type": "code",
   "execution_count": 5,
   "metadata": {},
   "outputs": [
    {
     "data": {
      "text/plain": [
       "0           True\n",
       "1           True\n",
       "2          False\n",
       "3           True\n",
       "4           True\n",
       "           ...  \n",
       "1110879     True\n",
       "1110880    False\n",
       "1110881     True\n",
       "1110882    False\n",
       "1110883    False\n",
       "Name: countries_tags, Length: 1110884, dtype: bool"
      ]
     },
     "execution_count": 5,
     "metadata": {},
     "output_type": "execute_result"
    }
   ],
   "source": [
    "# utiliser .str.contains()\n",
    "mask_fr = \n",
    "# remplacer les valeurs manquantes par False\n",
    "mask_fr = \n",
    "mask_fr"
   ]
  },
  {
   "cell_type": "markdown",
   "metadata": {},
   "source": [
    "Nous pouvons maintenant connaître le nombre de produits vendus en France."
   ]
  },
  {
   "cell_type": "code",
   "execution_count": 6,
   "metadata": {},
   "outputs": [
    {
     "data": {
      "text/plain": [
       "True     643862\n",
       "False    467022\n",
       "Name: countries_tags, dtype: int64"
      ]
     },
     "execution_count": 6,
     "metadata": {},
     "output_type": "execute_result"
    }
   ],
   "source": [
    "# utiliser value_counts() ou describe()\n"
   ]
  },
  {
   "cell_type": "markdown",
   "metadata": {},
   "source": [
    "Nous allons nous concentrer sur ce sous-ensemble des données en ne conservant que les lignes correspondantes dans le DataFrame."
   ]
  },
  {
   "cell_type": "code",
   "execution_count": 7,
   "metadata": {},
   "outputs": [
    {
     "name": "stdout",
     "output_type": "stream",
     "text": [
      "<class 'pandas.core.frame.DataFrame'>\n",
      "Int64Index: 643862 entries, 0 to 1110881\n",
      "Columns: 178 entries, code to carnitine_100g\n",
      "dtypes: category(19), float16(120), int64(2), object(37)\n",
      "memory usage: 1.7 GB\n"
     ]
    }
   ],
   "source": [
    "df_off_fr = df_off[mask_fr]\n",
    "df_off_fr.info(memory_usage='deep')"
   ]
  },
  {
   "cell_type": "markdown",
   "metadata": {},
   "source": [
    "## Sélection de colonnes : champs (assez) souvent renseignés"
   ]
  },
  {
   "cell_type": "markdown",
   "metadata": {},
   "source": [
    "Nous allons ignorer les colonnes qui ne sont jamais remplies, ou trop peu souvent pour qu'on puisse les utiliser raisonnablement pour l'analyse des données."
   ]
  },
  {
   "cell_type": "code",
   "execution_count": 8,
   "metadata": {},
   "outputs": [
    {
     "name": "stdout",
     "output_type": "stream",
     "text": [
      "-melissic-acid_100g                                0\n",
      "ingredients_from_palm_oil                          0\n",
      "ingredients_that_may_be_from_palm_oil              0\n",
      "-butyric-acid_100g                                 0\n",
      "-caproic-acid_100g                                 0\n",
      "cities                                             0\n",
      "-caprylic-acid_100g                                0\n",
      "-capric-acid_100g                                  0\n",
      "-myristic-acid_100g                                0\n",
      "-palmitic-acid_100g                                0\n",
      "-stearic-acid_100g                                 0\n",
      "-behenic-acid_100g                                 0\n",
      "-lignoceric-acid_100g                              0\n",
      "no_nutriments                                      0\n",
      "allergens_en                                       0\n",
      "-dihomo-gamma-linolenic-acid_100g                  0\n",
      "-elaidic-acid_100g                                 0\n",
      "-gondoic-acid_100g                                 0\n",
      "-mead-acid_100g                                    0\n",
      "-erucic-acid_100g                                  0\n",
      "-nervonic-acid_100g                                0\n",
      "water-hardness_100g                                0\n",
      "-montanic-acid_100g                                1\n",
      "-cerotic-acid_100g                                 1\n",
      "chlorophyl_100g                                    1\n",
      "-arachidic-acid_100g                               2\n",
      "phylloquinone_100g                                 3\n",
      "glycemic-index_100g                                3\n",
      "-lauric-acid_100g                                  3\n",
      "-gamma-linolenic-acid_100g                         3\n",
      "-maltose_100g                                      8\n",
      "nucleotides_100g                                  12\n",
      "beta-glucan_100g                                  14\n",
      "-arachidonic-acid_100g                            14\n",
      "carnitine_100g                                    14\n",
      "-maltodextrins_100g                               15\n",
      "-oleic-acid_100g                                  15\n",
      "molybdenum_100g                                   23\n",
      "inositol_100g                                     23\n",
      "additives                                         23\n",
      "-sucrose_100g                                     23\n",
      "serum-proteins_100g                               25\n",
      "folates_100g                                      26\n",
      "-glucose_100g                                     27\n",
      "choline_100g                                      29\n",
      "chromium_100g                                     32\n",
      "omega-9-fat_100g                                  37\n",
      "casein_100g                                       39\n",
      "beta-carotene_100g                                43\n",
      "taurine_100g                                      48\n",
      "-fructose_100g                                    52\n",
      "-eicosapentaenoic-acid_100g                       59\n",
      "silica_100g                                       77\n",
      "-docosahexaenoic-acid_100g                        87\n",
      "caffeine_100g                                     96\n",
      "ph_100g                                          108\n",
      "energy-from-fat_100g                             132\n",
      "vitamin-k_100g                                   155\n",
      "fluoride_100g                                    170\n",
      "-linoleic-acid_100g                              191\n",
      "selenium_100g                                    216\n",
      "bicarbonate_100g                                 220\n",
      "-lactose_100g                                    227\n",
      "fruits-vegetables-nuts-dried_100g                246\n",
      "omega-6-fat_100g                                 254\n",
      "copper_100g                                      265\n",
      "starch_100g                                      270\n",
      "-alpha-linolenic-acid_100g                       271\n",
      "iodine_100g                                      271\n",
      "collagen-meat-protein-ratio_100g                 286\n",
      "manganese_100g                                   292\n",
      "carbon-footprint_100g                            301\n",
      "biotin_100g                                      345\n",
      "chloride_100g                                    386\n",
      "zinc_100g                                        596\n",
      "polyols_100g                                     603\n",
      "pantothenic-acid_100g                            766\n",
      "vitamin-b12_100g                                1151\n",
      "vitamin-b9_100g                                 1182\n",
      "phosphorus_100g                                 1194\n",
      "omega-3-fat_100g                                1204\n",
      "potassium_100g                                  1229\n",
      "vitamin-b2_100g                                 1249\n",
      "vitamin-pp_100g                                 1284\n",
      "vitamin-d_100g                                  1411\n",
      "vitamin-b6_100g                                 1438\n",
      "vitamin-e_100g                                  1572\n",
      "cholesterol_100g                                1602\n",
      "trans-fat_100g                                  1607\n",
      "vitamin-b1_100g                                 1631\n",
      "magnesium_100g                                  1957\n",
      "vitamin-a_100g                                  1987\n",
      "monounsaturated-fat_100g                        2212\n",
      "polyunsaturated-fat_100g                        2246\n",
      "iron_100g                                       3083\n",
      "vitamin-c_100g                                  3164\n",
      "cocoa_100g                                      4015\n",
      "fruits-vegetables-nuts_100g                     5584\n",
      "calcium_100g                                    5804\n",
      "alcohol_100g                                    7338\n",
      "carbon-footprint-from-meat-or-fish_100g         9544\n",
      "fruits-vegetables-nuts-estimate_100g            9852\n",
      "ingredients_from_palm_oil_tags                 10504\n",
      "ingredients_that_may_be_from_palm_oil_tags     19269\n",
      "origins_tags                                   38828\n",
      "origins                                        38884\n",
      "first_packaging_code_geo                       44084\n",
      "cities_tags                                    47276\n",
      "traces                                         50528\n",
      "energy-kj_100g                                 55383\n",
      "emb_codes_tags                                 56475\n",
      "emb_codes                                      56493\n",
      "manufacturing_places_tags                      61159\n",
      "manufacturing_places                           61187\n",
      "traces_en                                      65578\n",
      "traces_tags                                    65578\n",
      "serving_size                                   66072\n",
      "serving_quantity                               66154\n",
      "generic_name                                   68441\n",
      "allergens                                      72666\n",
      "purchase_places                                88646\n",
      "additives_en                                  115675\n",
      "additives_tags                                115675\n",
      "fiber_100g                                    126232\n",
      "stores                                        130713\n",
      "packaging_tags                                140793\n",
      "packaging                                     140797\n",
      "labels                                        159176\n",
      "labels_en                                     159201\n",
      "labels_tags                                   159201\n",
      "nova_group                                    174757\n",
      "ingredients_that_may_be_from_palm_oil_n       218139\n",
      "ingredients_from_palm_oil_n                   218139\n",
      "ingredients_text                              218139\n",
      "additives_n                                   218139\n",
      "nutriscore_grade                              220471\n",
      "nutriscore_score                              220471\n",
      "nutrition-score-uk_100g                       220475\n",
      "nutrition-score-fr_100g                       220475\n",
      "quantity                                      224942\n",
      "image_nutrition_small_url                     233595\n",
      "image_nutrition_url                           233595\n",
      "categories_tags                               278430\n",
      "categories                                    278430\n",
      "main_category                                 278430\n",
      "main_category_en                              278430\n",
      "categories_en                                 278430\n",
      "brands_tags                                   325818\n",
      "brands                                        325855\n",
      "energy-kcal_100g                              472594\n",
      "image_ingredients_small_url                   492188\n",
      "image_ingredients_url                         492188\n",
      "sodium_100g                                   505219\n",
      "salt_100g                                     505224\n",
      "carbohydrates_100g                            513740\n",
      "fat_100g                                      513927\n",
      "saturated-fat_100g                            514814\n",
      "sugars_100g                                   515109\n",
      "proteins_100g                                 516348\n",
      "energy_100g                                   517513\n",
      "image_small_url                               569847\n",
      "image_url                                     569847\n",
      "product_name                                  627521\n",
      "pnns_groups_1                                 635230\n",
      "pnns_groups_2                                 643853\n",
      "creator                                       643861\n",
      "created_datetime                              643861\n",
      "url                                           643862\n",
      "countries_en                                  643862\n",
      "created_t                                     643862\n",
      "last_modified_datetime                        643862\n",
      "last_modified_t                               643862\n",
      "states_en                                     643862\n",
      "states_tags                                   643862\n",
      "states                                        643862\n",
      "countries                                     643862\n",
      "countries_tags                                643862\n",
      "code                                          643862\n"
     ]
    }
   ],
   "source": [
    "# afficher la liste des colonnes triées par le nombre de valeurs non-nulles qu'elles contiennent\n",
    "# en utilisant 'count()'\n",
    "col_counts = \n",
    "print(col_counts.to_string())"
   ]
  },
  {
   "cell_type": "markdown",
   "metadata": {},
   "source": [
    "Le nombre de valeurs non-nulles dans chaque colonne semble très variable.\n",
    "Pour avoir une meilleure idée globale de la distribution correspondante, nous pouvons afficher un histogramme avec la bibliothèque seaborn (`sns.distplot`)."
   ]
  },
  {
   "cell_type": "code",
   "execution_count": 9,
   "metadata": {},
   "outputs": [
    {
     "data": {
      "text/plain": [
       "<matplotlib.axes._subplots.AxesSubplot at 0x7fabd2af4eb8>"
      ]
     },
     "execution_count": 9,
     "metadata": {},
     "output_type": "execute_result"
    },
    {
     "data": {
      "image/png": "[encoded data removed]",
      "text/plain": [
       "<Figure size 432x288 with 1 Axes>"
      ]
     },
     "metadata": {},
     "output_type": "display_data"
    }
   ],
   "source": [
    "# afficher l'histogramme du nombre de valeurs non-nulles par colonne\n",
    "sns.distplot(col_counts, bins=20, kde=False, rug=True)"
   ]
  },
  {
   "cell_type": "markdown",
   "metadata": {},
   "source": [
    "Plusieurs colonnes sont totalement vides dans notre jeu de données actuel, nous pouvons les supprimer sans perte d'information.\n",
    "La fonction `dropna` de pandas permet de supprimer les lignes ou les colonnes contenant une ou plusieurs valeurs manquantes : https://pandas.pydata.org/pandas-docs/stable/reference/api/pandas.DataFrame.dropna.html ."
   ]
  },
  {
   "cell_type": "code",
   "execution_count": 10,
   "metadata": {},
   "outputs": [
    {
     "name": "stdout",
     "output_type": "stream",
     "text": [
      "<class 'pandas.core.frame.DataFrame'>\n",
      "Int64Index: 643862 entries, 0 to 1110881\n",
      "Columns: 156 entries, code to carnitine_100g\n",
      "dtypes: category(19), float16(98), int64(2), object(37)\n",
      "memory usage: 1.6 GB\n"
     ]
    }
   ],
   "source": [
    "# utiliser dropna\n",
    "df_sel = \n",
    "df_sel.info(memory_usage='deep')"
   ]
  },
  {
   "cell_type": "markdown",
   "metadata": {},
   "source": [
    "Nous pouvons aller plus loin et enlever les colonnes très majoritairement vides, que nous aurons beaucoup de mal à exploiter dans l'exploration du jeu de données.\n",
    "Empiriquement (et arbitrairement) nous décidons de ne conserver que les champs renseignés par plus de 1000 fiches (sur plus de 640000 fiches)."
   ]
  },
  {
   "cell_type": "code",
   "execution_count": 11,
   "metadata": {},
   "outputs": [
    {
     "name": "stderr",
     "output_type": "stream",
     "text": [
      "/home/mathieu/miniconda3/envs/off-explore/lib/python3.7/site-packages/ipykernel_launcher.py:2: SettingWithCopyWarning: \n",
      "A value is trying to be set on a copy of a slice from a DataFrame\n",
      "\n",
      "See the caveats in the documentation: http://pandas.pydata.org/pandas-docs/stable/user_guide/indexing.html#returning-a-view-versus-a-copy\n",
      "  \n"
     ]
    },
    {
     "name": "stdout",
     "output_type": "stream",
     "text": [
      "<class 'pandas.core.frame.DataFrame'>\n",
      "Int64Index: 643862 entries, 0 to 1110881\n",
      "Columns: 101 entries, code to nutrition-score-uk_100g\n",
      "dtypes: category(18), float16(44), int64(2), object(37)\n",
      "memory usage: 1.6 GB\n"
     ]
    }
   ],
   "source": [
    "# utiliser dropna\n",
    "\n",
    "df_sel.info(memory_usage='deep')"
   ]
  },
  {
   "cell_type": "markdown",
   "metadata": {},
   "source": [
    "## Sélection de lignes\n",
    "\n",
    "De nombreuses fiches produits dans OpenFoodFacts ne sont remplies que très partiellement.\n",
    "Un premier filtre assez simple consiste à ne conserver que les fiches où le nom et la marque du produit sont renseignés."
   ]
  },
  {
   "cell_type": "code",
   "execution_count": 12,
   "metadata": {},
   "outputs": [
    {
     "name": "stderr",
     "output_type": "stream",
     "text": [
      "/home/mathieu/miniconda3/envs/off-explore/lib/python3.7/site-packages/ipykernel_launcher.py:2: SettingWithCopyWarning: \n",
      "A value is trying to be set on a copy of a slice from a DataFrame\n",
      "\n",
      "See the caveats in the documentation: http://pandas.pydata.org/pandas-docs/stable/user_guide/indexing.html#returning-a-view-versus-a-copy\n",
      "  \n"
     ]
    },
    {
     "name": "stdout",
     "output_type": "stream",
     "text": [
      "<class 'pandas.core.frame.DataFrame'>\n",
      "Int64Index: 322980 entries, 3 to 1110875\n",
      "Columns: 101 entries, code to nutrition-score-uk_100g\n",
      "dtypes: category(18), float16(44), int64(2), object(37)\n",
      "memory usage: 961.2 MB\n"
     ]
    }
   ],
   "source": [
    "# utiliser 'dropna'\n",
    "\n",
    "df_sel.info(memory_usage='deep')"
   ]
  },
  {
   "cell_type": "markdown",
   "metadata": {},
   "source": [
    "À chaque fiche produit d'OpenFoodFacts sont associées une ou plusieurs étiquettes d'états ('states') qui marquent le niveau de complétude et de qualité des données de la fiche.\n",
    "\n",
    "Quels sont ces états? À quoi correspondent-ils?"
   ]
  },
  {
   "cell_type": "code",
   "execution_count": null,
   "metadata": {},
   "outputs": [],
   "source": []
  },
  {
   "cell_type": "markdown",
   "metadata": {},
   "source": [
    "Sur quelle(s) pages ou dans quel(s) fichier(s) avez-vous trouvé ces informations?"
   ]
  },
  {
   "cell_type": "code",
   "execution_count": null,
   "metadata": {},
   "outputs": [],
   "source": []
  },
  {
   "cell_type": "markdown",
   "metadata": {},
   "source": [
    "Nous filtrons maintenant les données pour conserver uniquement les fiches produits marquées \"complètes\"."
   ]
  },
  {
   "cell_type": "code",
   "execution_count": 13,
   "metadata": {},
   "outputs": [
    {
     "name": "stdout",
     "output_type": "stream",
     "text": [
      "<class 'pandas.core.frame.DataFrame'>\n",
      "Int64Index: 90738 entries, 146 to 1110800\n",
      "Columns: 101 entries, code to nutrition-score-uk_100g\n",
      "dtypes: category(18), float16(44), int64(2), object(37)\n",
      "memory usage: 343.3 MB\n"
     ]
    }
   ],
   "source": [
    "# utiliser .str.contains\n",
    "df_sel = \n",
    "df_sel.info(memory_usage='deep')"
   ]
  },
  {
   "cell_type": "markdown",
   "metadata": {},
   "source": [
    "## Export du jeu de données filtré\n",
    "\n",
    "Nous avons maintenant un jeu de données de dimensions plus modestes: 101 colonnes et environ 90000 lignes.\n",
    "\n",
    "C'est ce jeu de données que nous allons explorer dans le prochain notebook."
   ]
  },
  {
   "cell_type": "code",
   "execution_count": 14,
   "metadata": {},
   "outputs": [],
   "source": [
    "# on fait un dump CSV du jeu de données filtré\n",
    "SEL_FILE = '../data/off_subset.csv'\n",
    "df_sel.to_csv(SEL_FILE, sep='\\t', index=False)"
   ]
  }
 ],
 "metadata": {
  "kernelspec": {
   "display_name": "Python 3",
   "language": "python",
   "name": "python3"
  },
  "language_info": {
   "codemirror_mode": {
    "name": "ipython",
    "version": 3
   },
   "file_extension": ".py",
   "mimetype": "text/x-python",
   "name": "python",
   "nbconvert_exporter": "python",
   "pygments_lexer": "ipython3",
   "version": "3.7.3"
  }
 },
 "nbformat": 4,
 "nbformat_minor": 2
}
