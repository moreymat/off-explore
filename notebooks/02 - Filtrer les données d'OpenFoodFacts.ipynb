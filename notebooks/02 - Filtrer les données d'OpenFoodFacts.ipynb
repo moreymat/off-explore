{
 "cells": [
  {
   "cell_type": "markdown",
   "metadata": {},
   "source": [
    "# Filtrer les données d'OpenFoodFacts"
   ]
  },
  {
   "cell_type": "markdown",
   "metadata": {},
   "source": [
    "Nous pouvons charger les données d'OpenFoodFacts avec les optimisations du notebook précédent."
   ]
  },
  {
   "cell_type": "code",
   "execution_count": 1,
   "metadata": {},
   "outputs": [],
   "source": [
    "import pandas as pd"
   ]
  },
  {
   "cell_type": "code",
   "execution_count": 2,
   "metadata": {},
   "outputs": [],
   "source": [
    "# modifier le chemin vers le fichier CSV si nécessaire\n",
    "CSV_FILE = '../data/en.openfoodfacts.org.products.csv'"
   ]
  },
  {
   "cell_type": "code",
   "execution_count": 3,
   "metadata": {},
   "outputs": [
    {
     "data": {
      "text/plain": [
       "{'origins': 'category',\n",
       " 'origins_tags': 'category',\n",
       " 'first_packaging_code_geo': 'category',\n",
       " 'cities_tags': 'category',\n",
       " 'purchase_places': 'category',\n",
       " 'countries': 'category',\n",
       " 'countries_tags': 'category',\n",
       " 'countries_en': 'category',\n",
       " 'traces_tags': 'category',\n",
       " 'traces_en': 'category',\n",
       " 'additives': 'category',\n",
       " 'ingredients_from_palm_oil_tags': 'category',\n",
       " 'ingredients_that_may_be_from_palm_oil_tags': 'category',\n",
       " 'nutriscore_grade': 'category',\n",
       " 'pnns_groups_1': 'category',\n",
       " 'pnns_groups_2': 'category',\n",
       " 'states': 'category',\n",
       " 'states_tags': 'category',\n",
       " 'states_en': 'category',\n",
       " 'cities': 'float16',\n",
       " 'allergens_en': 'float16',\n",
       " 'serving_quantity': 'float16',\n",
       " 'no_nutriments': 'float16',\n",
       " 'additives_n': 'float16',\n",
       " 'ingredients_from_palm_oil_n': 'float16',\n",
       " 'ingredients_from_palm_oil': 'float16',\n",
       " 'ingredients_that_may_be_from_palm_oil_n': 'float16',\n",
       " 'ingredients_that_may_be_from_palm_oil': 'float16',\n",
       " 'nutriscore_score': 'float16',\n",
       " 'nova_group': 'float16',\n",
       " 'energy-kj_100g': 'float16',\n",
       " 'energy-kcal_100g': 'float16',\n",
       " 'energy_100g': 'float16',\n",
       " 'energy-from-fat_100g': 'float16',\n",
       " 'fat_100g': 'float16',\n",
       " 'saturated-fat_100g': 'float16',\n",
       " '-butyric-acid_100g': 'float16',\n",
       " '-caproic-acid_100g': 'float16',\n",
       " '-caprylic-acid_100g': 'float16',\n",
       " '-capric-acid_100g': 'float16',\n",
       " '-lauric-acid_100g': 'float16',\n",
       " '-myristic-acid_100g': 'float16',\n",
       " '-palmitic-acid_100g': 'float16',\n",
       " '-stearic-acid_100g': 'float16',\n",
       " '-arachidic-acid_100g': 'float16',\n",
       " '-behenic-acid_100g': 'float16',\n",
       " '-lignoceric-acid_100g': 'float16',\n",
       " '-cerotic-acid_100g': 'float16',\n",
       " '-montanic-acid_100g': 'float16',\n",
       " '-melissic-acid_100g': 'float16',\n",
       " 'monounsaturated-fat_100g': 'float16',\n",
       " 'polyunsaturated-fat_100g': 'float16',\n",
       " 'omega-3-fat_100g': 'float16',\n",
       " '-alpha-linolenic-acid_100g': 'float16',\n",
       " '-eicosapentaenoic-acid_100g': 'float16',\n",
       " '-docosahexaenoic-acid_100g': 'float16',\n",
       " 'omega-6-fat_100g': 'float16',\n",
       " '-linoleic-acid_100g': 'float16',\n",
       " '-arachidonic-acid_100g': 'float16',\n",
       " '-gamma-linolenic-acid_100g': 'float16',\n",
       " '-dihomo-gamma-linolenic-acid_100g': 'float16',\n",
       " 'omega-9-fat_100g': 'float16',\n",
       " '-oleic-acid_100g': 'float16',\n",
       " '-elaidic-acid_100g': 'float16',\n",
       " '-gondoic-acid_100g': 'float16',\n",
       " '-mead-acid_100g': 'float16',\n",
       " '-erucic-acid_100g': 'float16',\n",
       " '-nervonic-acid_100g': 'float16',\n",
       " 'trans-fat_100g': 'float16',\n",
       " 'cholesterol_100g': 'float16',\n",
       " 'carbohydrates_100g': 'float16',\n",
       " 'sugars_100g': 'float16',\n",
       " '-sucrose_100g': 'float16',\n",
       " '-glucose_100g': 'float16',\n",
       " '-fructose_100g': 'float16',\n",
       " '-lactose_100g': 'float16',\n",
       " '-maltose_100g': 'float16',\n",
       " '-maltodextrins_100g': 'float16',\n",
       " 'starch_100g': 'float16',\n",
       " 'polyols_100g': 'float16',\n",
       " 'fiber_100g': 'float16',\n",
       " 'proteins_100g': 'float16',\n",
       " 'casein_100g': 'float16',\n",
       " 'serum-proteins_100g': 'float16',\n",
       " 'nucleotides_100g': 'float16',\n",
       " 'salt_100g': 'float16',\n",
       " 'sodium_100g': 'float16',\n",
       " 'alcohol_100g': 'float16',\n",
       " 'vitamin-a_100g': 'float16',\n",
       " 'beta-carotene_100g': 'float16',\n",
       " 'vitamin-d_100g': 'float16',\n",
       " 'vitamin-e_100g': 'float16',\n",
       " 'vitamin-k_100g': 'float16',\n",
       " 'vitamin-c_100g': 'float16',\n",
       " 'vitamin-b1_100g': 'float16',\n",
       " 'vitamin-b2_100g': 'float16',\n",
       " 'vitamin-pp_100g': 'float16',\n",
       " 'vitamin-b6_100g': 'float16',\n",
       " 'vitamin-b9_100g': 'float16',\n",
       " 'folates_100g': 'float16',\n",
       " 'vitamin-b12_100g': 'float16',\n",
       " 'biotin_100g': 'float16',\n",
       " 'pantothenic-acid_100g': 'float16',\n",
       " 'silica_100g': 'float16',\n",
       " 'bicarbonate_100g': 'float16',\n",
       " 'potassium_100g': 'float16',\n",
       " 'chloride_100g': 'float16',\n",
       " 'calcium_100g': 'float16',\n",
       " 'phosphorus_100g': 'float16',\n",
       " 'iron_100g': 'float16',\n",
       " 'magnesium_100g': 'float16',\n",
       " 'zinc_100g': 'float16',\n",
       " 'copper_100g': 'float16',\n",
       " 'manganese_100g': 'float16',\n",
       " 'fluoride_100g': 'float16',\n",
       " 'selenium_100g': 'float16',\n",
       " 'chromium_100g': 'float16',\n",
       " 'molybdenum_100g': 'float16',\n",
       " 'iodine_100g': 'float16',\n",
       " 'caffeine_100g': 'float16',\n",
       " 'taurine_100g': 'float16',\n",
       " 'ph_100g': 'float16',\n",
       " 'fruits-vegetables-nuts_100g': 'float16',\n",
       " 'fruits-vegetables-nuts-dried_100g': 'float16',\n",
       " 'fruits-vegetables-nuts-estimate_100g': 'float16',\n",
       " 'collagen-meat-protein-ratio_100g': 'float16',\n",
       " 'cocoa_100g': 'float16',\n",
       " 'chlorophyl_100g': 'float16',\n",
       " 'carbon-footprint_100g': 'float16',\n",
       " 'carbon-footprint-from-meat-or-fish_100g': 'float16',\n",
       " 'nutrition-score-fr_100g': 'float16',\n",
       " 'nutrition-score-uk_100g': 'float16',\n",
       " 'glycemic-index_100g': 'float16',\n",
       " 'water-hardness_100g': 'float16',\n",
       " 'choline_100g': 'float16',\n",
       " 'phylloquinone_100g': 'float16',\n",
       " 'beta-glucan_100g': 'float16',\n",
       " 'inositol_100g': 'float16',\n",
       " 'carnitine_100g': 'float16'}"
      ]
     },
     "execution_count": 3,
     "metadata": {},
     "output_type": "execute_result"
    }
   ],
   "source": [
    "# on charge les types de données qu'on a spécifiés dans le notebook 1\n",
    "DTYPE_FILE = '../data/dtype.txt'\n",
    "with open(DTYPE_FILE) as f:\n",
    "    dtype = eval(f.read())\n",
    "dtype"
   ]
  },
  {
   "cell_type": "code",
   "execution_count": 4,
   "metadata": {},
   "outputs": [
    {
     "name": "stderr",
     "output_type": "stream",
     "text": [
      "/home/mathieu/miniconda3/envs/off-explore/lib/python3.7/site-packages/IPython/core/interactiveshell.py:3051: DtypeWarning: Columns (0,24,25) have mixed types. Specify dtype option on import or set low_memory=False.\n",
      "  interactivity=interactivity, compiler=compiler, result=result)\n"
     ]
    },
    {
     "name": "stdout",
     "output_type": "stream",
     "text": [
      "<class 'pandas.core.frame.DataFrame'>\n",
      "RangeIndex: 1110884 entries, 0 to 1110883\n",
      "Columns: 178 entries, code to carnitine_100g\n",
      "dtypes: category(19), float16(120), int64(2), object(37)\n",
      "memory usage: 2.7 GB\n"
     ]
    }
   ],
   "source": [
    "df_off = pd.read_csv(CSV_FILE, sep='\\t', dtype=dtype)\n",
    "df_off.info(memory_usage='deep')"
   ]
  },
  {
   "cell_type": "markdown",
   "metadata": {},
   "source": [
    "Le site d'OpenFoodFacts fournit un fichier de description des champs du jeu de données:\n",
    "https://static.openfoodfacts.org/data/data-fields.txt"
   ]
  },
  {
   "cell_type": "markdown",
   "metadata": {},
   "source": [
    "## Sélection de lignes\n",
    "\n",
    "Nous allons nous concentrer sur les produits vendus en France.\n",
    "\n",
    "Quels sont le ou les champs contenant cette information?"
   ]
  },
  {
   "cell_type": "markdown",
   "metadata": {},
   "source": [
    "Nous allons créer un masque sur les lignes du DataFrame :\n",
    "`True` si le produit est vendu en France, `False` sinon.\n",
    "\n",
    "La méthode '.str.contains()' permet de chercher une sous-chaîne dans une colonne de chaînes de caractères : https://pandas.pydata.org/pandas-docs/stable/reference/api/pandas.Series.str.contains.html"
   ]
  },
  {
   "cell_type": "code",
   "execution_count": 5,
   "metadata": {},
   "outputs": [
    {
     "data": {
      "text/plain": [
       "0           True\n",
       "1           True\n",
       "2          False\n",
       "3           True\n",
       "4           True\n",
       "           ...  \n",
       "1110879     True\n",
       "1110880    False\n",
       "1110881     True\n",
       "1110882    False\n",
       "1110883    False\n",
       "Name: countries_tags, Length: 1110884, dtype: bool"
      ]
     },
     "execution_count": 5,
     "metadata": {},
     "output_type": "execute_result"
    }
   ],
   "source": [
    "mask_fr = df_off['countries_tags'].str.contains('france')\n",
    "# on remplace les valeurs manquantes par False\n",
    "mask_fr = mask_fr.fillna(False)\n",
    "mask_fr"
   ]
  },
  {
   "cell_type": "markdown",
   "metadata": {},
   "source": [
    "Nous pouvons maintenant connaître le nombre de produits vendus en France."
   ]
  },
  {
   "cell_type": "code",
   "execution_count": 6,
   "metadata": {},
   "outputs": [
    {
     "data": {
      "text/plain": [
       "count     1110884\n",
       "unique          2\n",
       "top          True\n",
       "freq       643862\n",
       "Name: countries_tags, dtype: object"
      ]
     },
     "execution_count": 6,
     "metadata": {},
     "output_type": "execute_result"
    }
   ],
   "source": [
    "mask_fr.describe()"
   ]
  },
  {
   "cell_type": "markdown",
   "metadata": {},
   "source": [
    "Nous allons nous concentrer sur ce sous-ensemble des données en ne conservant que les lignes correspondantes dans le DataFrame."
   ]
  },
  {
   "cell_type": "code",
   "execution_count": 7,
   "metadata": {},
   "outputs": [
    {
     "name": "stdout",
     "output_type": "stream",
     "text": [
      "<class 'pandas.core.frame.DataFrame'>\n",
      "Int64Index: 643862 entries, 0 to 1110881\n",
      "Columns: 178 entries, code to carnitine_100g\n",
      "dtypes: category(19), float16(120), int64(2), object(37)\n",
      "memory usage: 1.7 GB\n"
     ]
    }
   ],
   "source": [
    "df_off_fr = df_off[mask_fr]\n",
    "df_off_fr.info(memory_usage='deep')"
   ]
  },
  {
   "cell_type": "markdown",
   "metadata": {},
   "source": [
    "## Sélection de colonnes"
   ]
  },
  {
   "cell_type": "markdown",
   "metadata": {},
   "source": [
    "Nous allons ignorer les colonnes qui ne sont jamais remplies, ou trop peu souvent pour qu'on puisse les utiliser raisonnablement pour l'analyse des données.\n",
    "\n",
    "La méthode `dropna` de pandas permet de supprimer les lignes ou les colonnes contenant des valeurs manquantes: \n",
    "https://pandas.pydata.org/pandas-docs/stable/reference/api/pandas.DataFrame.dropna.html"
   ]
  },
  {
   "cell_type": "code",
   "execution_count": 8,
   "metadata": {},
   "outputs": [
    {
     "data": {
      "text/plain": [
       "-melissic-acid_100g                           0\n",
       "ingredients_from_palm_oil                     0\n",
       "ingredients_that_may_be_from_palm_oil         0\n",
       "-butyric-acid_100g                            0\n",
       "-caproic-acid_100g                            0\n",
       "                                          ...  \n",
       "states_tags                              643862\n",
       "states                                   643862\n",
       "countries                                643862\n",
       "countries_tags                           643862\n",
       "code                                     643862\n",
       "Length: 178, dtype: int64"
      ]
     },
     "execution_count": 8,
     "metadata": {},
     "output_type": "execute_result"
    }
   ],
   "source": [
    "# afficher la liste des colonnes triées par le nombre de valeurs non-nulles qu'elles contiennent\n",
    "# en utilisant 'count()'\n",
    "df_off_fr.count().sort_values()\n",
    "# TODO histogramme?"
   ]
  },
  {
   "cell_type": "markdown",
   "metadata": {},
   "source": [
    "Nous enlevons dans un premier temps les colonnes totalement vides sur ce sous-ensemble."
   ]
  },
  {
   "cell_type": "code",
   "execution_count": 9,
   "metadata": {},
   "outputs": [
    {
     "name": "stdout",
     "output_type": "stream",
     "text": [
      "<class 'pandas.core.frame.DataFrame'>\n",
      "Int64Index: 643862 entries, 0 to 1110881\n",
      "Columns: 156 entries, code to carnitine_100g\n",
      "dtypes: category(19), float16(98), int64(2), object(37)\n",
      "memory usage: 1.6 GB\n"
     ]
    }
   ],
   "source": [
    "# utiliser dropna\n",
    "df_sel = df_off_fr.dropna(axis=1, how='all')\n",
    "df_sel.info(memory_usage='deep')"
   ]
  },
  {
   "cell_type": "markdown",
   "metadata": {},
   "source": [
    "Nous pouvons enlever les colonnes très majoritairement vides, par exemple contenant moins de 1000 valeurs (sur plus de 640000 lignes)."
   ]
  },
  {
   "cell_type": "code",
   "execution_count": 10,
   "metadata": {},
   "outputs": [
    {
     "name": "stderr",
     "output_type": "stream",
     "text": [
      "/home/mathieu/miniconda3/envs/off-explore/lib/python3.7/site-packages/ipykernel_launcher.py:2: SettingWithCopyWarning: \n",
      "A value is trying to be set on a copy of a slice from a DataFrame\n",
      "\n",
      "See the caveats in the documentation: http://pandas.pydata.org/pandas-docs/stable/user_guide/indexing.html#returning-a-view-versus-a-copy\n",
      "  \n"
     ]
    },
    {
     "name": "stdout",
     "output_type": "stream",
     "text": [
      "<class 'pandas.core.frame.DataFrame'>\n",
      "Int64Index: 643862 entries, 0 to 1110881\n",
      "Columns: 101 entries, code to nutrition-score-uk_100g\n",
      "dtypes: category(18), float16(44), int64(2), object(37)\n",
      "memory usage: 1.6 GB\n"
     ]
    }
   ],
   "source": [
    "# utiliser dropna\n",
    "df_sel.dropna(axis=1, thresh=1000, inplace=True)\n",
    "df_sel.info(memory_usage='deep')"
   ]
  },
  {
   "cell_type": "markdown",
   "metadata": {},
   "source": [
    "## Sélection de lignes\n",
    "\n",
    "De nombreuses fiches produits dans OpenFoodFacts ne sont remplies que très partiellement.\n",
    "\n",
    "Dans la suite, nous allons nous concentrer sur les fiches où le nom de produit et la marque sont renseignés.\n",
    "\n",
    "Notez que pour d'autres cas d'usage, il peut être intéressant de ne pas appliquer de filtres aussi restrictifs pour travailler sur un plus grand nombre de fiches produits."
   ]
  },
  {
   "cell_type": "code",
   "execution_count": 11,
   "metadata": {},
   "outputs": [
    {
     "name": "stderr",
     "output_type": "stream",
     "text": [
      "/home/mathieu/miniconda3/envs/off-explore/lib/python3.7/site-packages/ipykernel_launcher.py:2: SettingWithCopyWarning: \n",
      "A value is trying to be set on a copy of a slice from a DataFrame\n",
      "\n",
      "See the caveats in the documentation: http://pandas.pydata.org/pandas-docs/stable/user_guide/indexing.html#returning-a-view-versus-a-copy\n",
      "  \n"
     ]
    },
    {
     "name": "stdout",
     "output_type": "stream",
     "text": [
      "<class 'pandas.core.frame.DataFrame'>\n",
      "Int64Index: 322980 entries, 3 to 1110875\n",
      "Columns: 101 entries, code to nutrition-score-uk_100g\n",
      "dtypes: category(18), float16(44), int64(2), object(37)\n",
      "memory usage: 961.2 MB\n"
     ]
    }
   ],
   "source": [
    "# utiliser 'dropna'\n",
    "df_sel.dropna(axis=0, how='any', subset=['product_name', 'brands'], inplace=True)\n",
    "df_sel.info(memory_usage='deep')"
   ]
  },
  {
   "cell_type": "markdown",
   "metadata": {},
   "source": [
    "À chaque fiche produit d'OpenFoodFacts sont associées une ou plusieurs étiquettes d'états ('states') qui marquent le niveau de complétude et de qualité des données de la fiche.\n",
    "\n",
    "Quels sont ces états? À quoi correspondent-ils?\n",
    "\n",
    "Sur quelle(s) pages ou dans quel(s) fichier(s) avez-vous trouvé ces informations?"
   ]
  },
  {
   "cell_type": "markdown",
   "metadata": {},
   "source": [
    "Nous filtrons maintenant les données pour conserver uniquement les fiches produits marquées \"complètes\"."
   ]
  },
  {
   "cell_type": "code",
   "execution_count": 12,
   "metadata": {},
   "outputs": [
    {
     "name": "stdout",
     "output_type": "stream",
     "text": [
      "<class 'pandas.core.frame.DataFrame'>\n",
      "Int64Index: 90738 entries, 146 to 1110800\n",
      "Columns: 101 entries, code to nutrition-score-uk_100g\n",
      "dtypes: category(18), float16(44), int64(2), object(37)\n",
      "memory usage: 343.3 MB\n"
     ]
    }
   ],
   "source": [
    "# utiliser .str.contains\n",
    "df_sel = df_sel[df_sel['states'].str.contains('en:complete')]\n",
    "df_sel.info(memory_usage='deep')"
   ]
  },
  {
   "cell_type": "markdown",
   "metadata": {},
   "source": [
    "Nous avons maintenant un jeu de données de dimensions plus modestes: 101 colonnes et environ 90000 lignes.\n",
    "\n",
    "C'est ce jeu de données que nous allons explorer dans le prochain notebook."
   ]
  },
  {
   "cell_type": "code",
   "execution_count": 13,
   "metadata": {},
   "outputs": [],
   "source": [
    "# on fait un dump CSV du jeu de données filtré\n",
    "SEL_FILE = '../data/off_subset.csv'\n",
    "df_sel.to_csv(SEL_FILE, sep='\\t', index=False)"
   ]
  }
 ],
 "metadata": {
  "kernelspec": {
   "display_name": "Python 3",
   "language": "python",
   "name": "python3"
  },
  "language_info": {
   "codemirror_mode": {
    "name": "ipython",
    "version": 3
   },
   "file_extension": ".py",
   "mimetype": "text/x-python",
   "name": "python",
   "nbconvert_exporter": "python",
   "pygments_lexer": "ipython3",
   "version": "3.7.6"
  }
 },
 "nbformat": 4,
 "nbformat_minor": 2
}
